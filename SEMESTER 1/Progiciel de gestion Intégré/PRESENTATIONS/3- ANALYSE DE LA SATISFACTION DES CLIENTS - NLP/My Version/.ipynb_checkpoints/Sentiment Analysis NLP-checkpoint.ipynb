{
 "cells": [
  {
   "cell_type": "markdown",
   "id": "6ce8ad74",
   "metadata": {},
   "source": [
    "<center>\n",
    "  <h1> Analyse des Sentiments </h1>\n",
    "</center>"
   ]
  },
  {
   "cell_type": "markdown",
   "id": "eeb910f8",
   "metadata": {},
   "source": [
    "# Importation des bibliothèques nécessaires"
   ]
  },
  {
   "cell_type": "code",
   "execution_count": 11,
   "id": "46c0f4b8",
   "metadata": {},
   "outputs": [],
   "source": [
    "import pandas as pd\n",
    "import matplotlib.pyplot as plt\n",
    "import seaborn as sns\n",
    "\n",
    "#p2\n",
    "import nltk\n",
    "from nltk.corpus import stopwords\n",
    "from nltk.tokenize import word_tokenize\n",
    "import string"
   ]
  },
  {
   "cell_type": "markdown",
   "id": "dbf041ac",
   "metadata": {},
   "source": [
    "# 1: Exploration des données\n",
    "\n",
    "## 1-1 Charger la dataset :"
   ]
  },
  {
   "cell_type": "code",
   "execution_count": 12,
   "id": "840a0cee",
   "metadata": {},
   "outputs": [],
   "source": [
    "data = pd.read_csv('reviews.csv')"
   ]
  },
  {
   "cell_type": "markdown",
   "id": "2c58e21f",
   "metadata": {},
   "source": [
    "## 1-2 Aperçu des premières lignes\n",
    "\n",
    "La commande `data.head()` permet d'afficher les cinq premières lignes de votre ensemble de données, offrant ainsi un aperçu rapide des informations contenues dans chaque colonne. Cela facilite la compréhension initiale de la structure des données que vous manipulez."
   ]
  },
  {
   "cell_type": "code",
   "execution_count": 14,
   "id": "86d18403",
   "metadata": {
    "scrolled": true
   },
   "outputs": [
    {
     "name": "stdout",
     "output_type": "stream",
     "text": [
      "Aperçu des premières lignes :\n"
     ]
    },
    {
     "data": {
      "text/html": [
       "<div>\n",
       "<style scoped>\n",
       "    .dataframe tbody tr th:only-of-type {\n",
       "        vertical-align: middle;\n",
       "    }\n",
       "\n",
       "    .dataframe tbody tr th {\n",
       "        vertical-align: top;\n",
       "    }\n",
       "\n",
       "    .dataframe thead th {\n",
       "        text-align: right;\n",
       "    }\n",
       "</style>\n",
       "<table border=\"1\" class=\"dataframe\">\n",
       "  <thead>\n",
       "    <tr style=\"text-align: right;\">\n",
       "      <th></th>\n",
       "      <th>Id</th>\n",
       "      <th>ProductId</th>\n",
       "      <th>UserId</th>\n",
       "      <th>ProfileName</th>\n",
       "      <th>HelpfulnessNumerator</th>\n",
       "      <th>HelpfulnessDenominator</th>\n",
       "      <th>Score</th>\n",
       "      <th>Time</th>\n",
       "      <th>Summary</th>\n",
       "      <th>Text</th>\n",
       "    </tr>\n",
       "  </thead>\n",
       "  <tbody>\n",
       "    <tr>\n",
       "      <th>0</th>\n",
       "      <td>1</td>\n",
       "      <td>B001E4KFG0</td>\n",
       "      <td>A3SGXH7AUHU8GW</td>\n",
       "      <td>delmartian</td>\n",
       "      <td>1</td>\n",
       "      <td>1</td>\n",
       "      <td>5</td>\n",
       "      <td>1303862400</td>\n",
       "      <td>Good Quality Dog Food</td>\n",
       "      <td>I have bought several of the Vitality canned d...</td>\n",
       "    </tr>\n",
       "    <tr>\n",
       "      <th>1</th>\n",
       "      <td>2</td>\n",
       "      <td>B00813GRG4</td>\n",
       "      <td>A1D87F6ZCVE5NK</td>\n",
       "      <td>dll pa</td>\n",
       "      <td>0</td>\n",
       "      <td>0</td>\n",
       "      <td>1</td>\n",
       "      <td>1346976000</td>\n",
       "      <td>Not as Advertised</td>\n",
       "      <td>Product arrived labeled as Jumbo Salted Peanut...</td>\n",
       "    </tr>\n",
       "    <tr>\n",
       "      <th>2</th>\n",
       "      <td>3</td>\n",
       "      <td>B000LQOCH0</td>\n",
       "      <td>ABXLMWJIXXAIN</td>\n",
       "      <td>Natalia Corres \"Natalia Corres\"</td>\n",
       "      <td>1</td>\n",
       "      <td>1</td>\n",
       "      <td>4</td>\n",
       "      <td>1219017600</td>\n",
       "      <td>\"Delight\" says it all</td>\n",
       "      <td>This is a confection that has been around a fe...</td>\n",
       "    </tr>\n",
       "    <tr>\n",
       "      <th>3</th>\n",
       "      <td>4</td>\n",
       "      <td>B000UA0QIQ</td>\n",
       "      <td>A395BORC6FGVXV</td>\n",
       "      <td>Karl</td>\n",
       "      <td>3</td>\n",
       "      <td>3</td>\n",
       "      <td>2</td>\n",
       "      <td>1307923200</td>\n",
       "      <td>Cough Medicine</td>\n",
       "      <td>If you are looking for the secret ingredient i...</td>\n",
       "    </tr>\n",
       "    <tr>\n",
       "      <th>4</th>\n",
       "      <td>5</td>\n",
       "      <td>B006K2ZZ7K</td>\n",
       "      <td>A1UQRSCLF8GW1T</td>\n",
       "      <td>Michael D. Bigham \"M. Wassir\"</td>\n",
       "      <td>0</td>\n",
       "      <td>0</td>\n",
       "      <td>5</td>\n",
       "      <td>1350777600</td>\n",
       "      <td>Great taffy</td>\n",
       "      <td>Great taffy at a great price.  There was a wid...</td>\n",
       "    </tr>\n",
       "  </tbody>\n",
       "</table>\n",
       "</div>"
      ],
      "text/plain": [
       "   Id   ProductId          UserId                      ProfileName  \\\n",
       "0   1  B001E4KFG0  A3SGXH7AUHU8GW                       delmartian   \n",
       "1   2  B00813GRG4  A1D87F6ZCVE5NK                           dll pa   \n",
       "2   3  B000LQOCH0   ABXLMWJIXXAIN  Natalia Corres \"Natalia Corres\"   \n",
       "3   4  B000UA0QIQ  A395BORC6FGVXV                             Karl   \n",
       "4   5  B006K2ZZ7K  A1UQRSCLF8GW1T    Michael D. Bigham \"M. Wassir\"   \n",
       "\n",
       "   HelpfulnessNumerator  HelpfulnessDenominator  Score        Time  \\\n",
       "0                     1                       1      5  1303862400   \n",
       "1                     0                       0      1  1346976000   \n",
       "2                     1                       1      4  1219017600   \n",
       "3                     3                       3      2  1307923200   \n",
       "4                     0                       0      5  1350777600   \n",
       "\n",
       "                 Summary                                               Text  \n",
       "0  Good Quality Dog Food  I have bought several of the Vitality canned d...  \n",
       "1      Not as Advertised  Product arrived labeled as Jumbo Salted Peanut...  \n",
       "2  \"Delight\" says it all  This is a confection that has been around a fe...  \n",
       "3         Cough Medicine  If you are looking for the secret ingredient i...  \n",
       "4            Great taffy  Great taffy at a great price.  There was a wid...  "
      ]
     },
     "execution_count": 14,
     "metadata": {},
     "output_type": "execute_result"
    }
   ],
   "source": [
    "data.head()"
   ]
  },
  {
   "cell_type": "markdown",
   "id": "59feaf6d",
   "metadata": {},
   "source": [
    "## 1-3 Informations générales sur la dataset"
   ]
  },
  {
   "cell_type": "code",
   "execution_count": 15,
   "id": "1416a9d9",
   "metadata": {},
   "outputs": [
    {
     "name": "stdout",
     "output_type": "stream",
     "text": [
      "<class 'pandas.core.frame.DataFrame'>\n",
      "RangeIndex: 568454 entries, 0 to 568453\n",
      "Data columns (total 10 columns):\n",
      " #   Column                  Non-Null Count   Dtype \n",
      "---  ------                  --------------   ----- \n",
      " 0   Id                      568454 non-null  int64 \n",
      " 1   ProductId               568454 non-null  object\n",
      " 2   UserId                  568454 non-null  object\n",
      " 3   ProfileName             568428 non-null  object\n",
      " 4   HelpfulnessNumerator    568454 non-null  int64 \n",
      " 5   HelpfulnessDenominator  568454 non-null  int64 \n",
      " 6   Score                   568454 non-null  int64 \n",
      " 7   Time                    568454 non-null  int64 \n",
      " 8   Summary                 568427 non-null  object\n",
      " 9   Text                    568454 non-null  object\n",
      "dtypes: int64(5), object(5)\n",
      "memory usage: 43.4+ MB\n",
      "None\n"
     ]
    }
   ],
   "source": [
    "print(data.info())"
   ]
  },
  {
   "cell_type": "markdown",
   "id": "44525c42",
   "metadata": {},
   "source": [
    "### Description des resultats :\n",
    "La sortie de `data.info()` fournit des informations détaillées sur la structure de votre ensemble de données. Voici une description des résultats :\n",
    "\n",
    "- **Type de l'objet :** `pandas.core.frame.DataFrame`\n",
    "- **Index :** RangeIndex, allant de 0 à 568453, indiquant le nombre total d'entrées (lignes) dans l'ensemble de données.\n",
    "- **Colonnes :** Il y a 10 colonnes au total.\n",
    "- **Attributs et types de données :**\n",
    "  - 'Id' est de type `int64` avec 568454 valeurs non nulles.\n",
    "  - 'ProductId' est de type `object` (généralement une chaîne de caractères) avec 568454 valeurs non nulles.\n",
    "  - 'UserId' est de type `object` avec 568454 valeurs non nulles.\n",
    "  - 'ProfileName' est de type `object` avec 568428 valeurs non nulles (26 valeurs manquantes).\n",
    "  - 'HelpfulnessNumerator' est de type `int64` avec 568454 valeurs non nulles.\n",
    "  - 'HelpfulnessDenominator' est de type `int64` avec 568454 valeurs non nulles.\n",
    "  - 'Score' est de type `int64` avec 568454 valeurs non nulles.\n",
    "  - 'Time' est de type `int64` avec 568454 valeurs non nulles.\n",
    "  - 'Summary' est de type `object` avec 568427 valeurs non nulles (27 valeurs manquantes).\n",
    "  - 'Text' est de type `object` avec 568454 valeurs non nulles.\n",
    "\n",
    "- **Mémoire utilisée :** Environ 43.4 MB.\n",
    "\n",
    "- **Valeurs manquantes :** 'ProfileName' a 26 valeurs manquantes et 'Summary' a 27 valeurs manquantes.\n",
    "\n",
    "Ces informations sont cruciales pour comprendre la composition de votre ensemble de données, y compris les types de données, la présence de valeurs manquantes, et la mémoire utilisée par l'ensemble de données."
   ]
  },
  {
   "cell_type": "markdown",
   "id": "daac6441",
   "metadata": {},
   "source": [
    "## 1-4 Statistiques descriptives pour les attributs numériques"
   ]
  },
  {
   "cell_type": "code",
   "execution_count": 17,
   "id": "4f169af9",
   "metadata": {},
   "outputs": [
    {
     "data": {
      "text/plain": [
       "count    568454.000000\n",
       "mean          4.183199\n",
       "std           1.310436\n",
       "min           1.000000\n",
       "25%           4.000000\n",
       "50%           5.000000\n",
       "75%           5.000000\n",
       "max           5.000000\n",
       "Name: Score, dtype: float64"
      ]
     },
     "execution_count": 17,
     "metadata": {},
     "output_type": "execute_result"
    }
   ],
   "source": [
    "data['Score'].describe()"
   ]
  },
  {
   "cell_type": "markdown",
   "id": "094c61e6",
   "metadata": {},
   "source": [
    "### Description des resultats :\n",
    "La sortie de la commande `data['Score'].describe()` fournit des statistiques descriptives spécifiques pour la colonne 'Score' de votre ensemble de données. Voici une description des résultats :\n",
    "\n",
    "- **count :** Le nombre total d'observations dans la colonne 'Score' est de 568,454.\n",
    "\n",
    "- **mean :** La moyenne (valeur moyenne) des scores dans la colonne 'Score' est d'environ 4.18.\n",
    "\n",
    "- **std :** L'écart type, qui mesure la dispersion des scores autour de la moyenne, est d'environ 1.31.\n",
    "\n",
    "- **min :** Le score minimum observé est 1.\n",
    "\n",
    "- **25% :** Le premier quartile (Q1) est à 4, ce qui signifie que 25% des scores sont égaux ou inférieurs à 4.\n",
    "\n",
    "- **50% :** La médiane (Q2) est à 5, ce qui indique que 50% des scores sont égaux ou inférieurs à 5.\n",
    "\n",
    "- **75% :** Le troisième quartile (Q3) est à 5, ce qui signifie que 75% des scores sont égaux ou inférieurs à 5.\n",
    "\n",
    "- **max :** Le score maximum observé est 5.\n",
    "\n",
    "Ces statistiques fournissent un aperçu de la distribution des scores dans la colonne 'Score'. En l'occurrence, la plupart des scores semblent être concentrés autour des valeurs élevées, avec une moyenne de 4.18 et une médiane de 5. Cela suggère une tendance positive dans les évaluations."
   ]
  },
  {
   "cell_type": "markdown",
   "id": "156ae8fc",
   "metadata": {},
   "source": [
    "# 2- Vérification des valeurs manquantes ou d'incohérences\n",
    "\n",
    "## 2-1 Vérifier la présence de valeurs manquantes"
   ]
  },
  {
   "cell_type": "code",
   "execution_count": 18,
   "id": "714ed498",
   "metadata": {},
   "outputs": [
    {
     "name": "stdout",
     "output_type": "stream",
     "text": [
      "Id                         0\n",
      "ProductId                  0\n",
      "UserId                     0\n",
      "ProfileName               26\n",
      "HelpfulnessNumerator       0\n",
      "HelpfulnessDenominator     0\n",
      "Score                      0\n",
      "Time                       0\n",
      "Summary                   27\n",
      "Text                       0\n",
      "dtype: int64\n"
     ]
    }
   ],
   "source": [
    "print(data.isnull().sum())"
   ]
  },
  {
   "cell_type": "markdown",
   "id": "fcc7f9ed",
   "metadata": {},
   "source": [
    "### Description des resultats :\n",
    "La sortie que vous avez présentée est le résultat de la commande `data.isnull().sum()` et indique le nombre de valeurs manquantes pour chaque colonne de votre ensemble de données. Voici une description des résultats :\n",
    "\n",
    "- **'Id':** Aucune valeur manquante dans la colonne 'Id'.\n",
    "  \n",
    "- **'ProductId':** Aucune valeur manquante dans la colonne 'ProductId'.\n",
    "  \n",
    "- **'UserId':** Aucune valeur manquante dans la colonne 'UserId'.\n",
    "  \n",
    "- **'ProfileName':** Il y a 26 valeurs manquantes dans la colonne 'ProfileName'.\n",
    "  \n",
    "- **'HelpfulnessNumerator':** Aucune valeur manquante dans la colonne 'HelpfulnessNumerator'.\n",
    "  \n",
    "- **'HelpfulnessDenominator':** Aucune valeur manquante dans la colonne 'HelpfulnessDenominator'.\n",
    "  \n",
    "- **'Score':** Aucune valeur manquante dans la colonne 'Score'.\n",
    "  \n",
    "- **'Time':** Aucune valeur manquante dans la colonne 'Time'.\n",
    "  \n",
    "- **'Summary':** Il y a 27 valeurs manquantes dans la colonne 'Summary'.\n",
    "  \n",
    "- **'Text':** Aucune valeur manquante dans la colonne 'Text'.\n",
    "\n",
    "Ces résultats vous indiquent les colonnes spécifiques qui ont des valeurs manquantes et le nombre de ces valeurs manquantes. C'est important pour décider comment traiter ces valeurs manquantes, que ce soit en les supprimant, en les remplaçant par des valeurs par défaut ou en utilisant d'autres méthodes de gestion des données manquantes en fonction du contexte de votre analyse."
   ]
  },
  {
   "cell_type": "markdown",
   "id": "3b51fd3f",
   "metadata": {},
   "source": [
    "## Vérifier les valeurs uniques dans chaque colonne"
   ]
  },
  {
   "cell_type": "code",
   "execution_count": 19,
   "id": "f8413018",
   "metadata": {
    "scrolled": true
   },
   "outputs": [
    {
     "data": {
      "text/plain": [
       "Id                        568454\n",
       "ProductId                  74258\n",
       "UserId                    256059\n",
       "ProfileName               218415\n",
       "HelpfulnessNumerator         231\n",
       "HelpfulnessDenominator       234\n",
       "Score                          5\n",
       "Time                        3168\n",
       "Summary                   295742\n",
       "Text                      393579\n",
       "dtype: int64"
      ]
     },
     "execution_count": 19,
     "metadata": {},
     "output_type": "execute_result"
    }
   ],
   "source": [
    "data.nunique()"
   ]
  },
  {
   "cell_type": "markdown",
   "id": "1e755510",
   "metadata": {},
   "source": [
    "### Description des resultats :\n",
    "La sortie de `data.nunique()` donne le nombre de valeurs uniques dans chaque colonne de votre ensemble de données. Voici une description des résultats pour chaque colonne :\n",
    "\n",
    "- **'Id':** 568454 valeurs uniques.\n",
    "  \n",
    "- **'ProductId':** 74258 valeurs uniques.\n",
    "  \n",
    "- **'UserId':** 256059 valeurs uniques.\n",
    "  \n",
    "- **'ProfileName':** 218415 valeurs uniques.\n",
    "  \n",
    "- **'HelpfulnessNumerator':** 231 valeurs uniques.\n",
    "  \n",
    "- **'HelpfulnessDenominator':** 234 valeurs uniques.\n",
    "  \n",
    "- **'Score':** 5 valeurs uniques (ce qui est cohérent avec le fait que les scores sont souvent évalués sur une échelle discrète).\n",
    "  \n",
    "- **'Time':** 3168 valeurs uniques.\n",
    "  \n",
    "- **'Summary':** 295742 valeurs uniques.\n",
    "  \n",
    "- **'Text':** 393579 valeurs uniques.\n",
    "\n",
    "Ces informations peuvent être utiles pour comprendre la diversité des données dans chaque colonne. Par exemple, dans la colonne 'Score', il y a seulement 5 valeurs uniques, indiquant probablement une échelle de notation restreinte. D'un autre côté, dans la colonne 'Text', il y a 393579 valeurs uniques, soulignant la variété des textes présents dans cet ensemble de données."
   ]
  },
  {
   "cell_type": "markdown",
   "id": "4c6f0f4c",
   "metadata": {},
   "source": [
    "## Vérifier la distribution des scores "
   ]
  },
  {
   "cell_type": "code",
   "execution_count": 20,
   "id": "f967d6aa",
   "metadata": {},
   "outputs": [
    {
     "data": {
      "image/png": "[encoded data removed]",
      "text/plain": [
       "<Figure size 800x500 with 1 Axes>"
      ]
     },
     "metadata": {},
     "output_type": "display_data"
    }
   ],
   "source": [
    "plt.figure(figsize=(8, 5))\n",
    "sns.countplot(x='Score', data=data)\n",
    "plt.title('Distribution des Scores')\n",
    "plt.show()"
   ]
  },
  {
   "cell_type": "markdown",
   "id": "d3d422d9",
   "metadata": {},
   "source": [
    "### Expliquons les résultats :\n",
    "\n",
    "- **Score 5 :** Il y a 363,122 occurrences où le score est égal à 5.\n",
    "  \n",
    "- **Score 4 :** Il y a 80,655 occurrences où le score est égal à 4.\n",
    "\n",
    "- **Score 1 :** Il y a 52,268 occurrences où le score est égal à 1.\n",
    "\n",
    "- **Score 3 :** Il y a 42,640 occurrences où le score est égal à 3.\n",
    "\n",
    "- **Score 2 :** Il y a 29,769 occurrences où le score est égal à 2.\n",
    "\n",
    "Ces résultats donnent une vue détaillée de la distribution des scores dans votre ensemble de données. Par exemple, le score 5 est largement plus fréquent que les autres scores, suggérant que la majorité des évaluations sont positives. À l'inverse, les scores 1, 2 et 3 sont moins fréquents, indiquant une proportion plus faible d'évaluations négatives ou neutres. Cette information peut être utile pour comprendre la tendance générale des évaluations dans votre ensemble de données."
   ]
  },
  {
   "cell_type": "code",
   "execution_count": null,
   "id": "51912d6b",
   "metadata": {},
   "outputs": [],
   "source": []
  },
  {
   "cell_type": "code",
   "execution_count": null,
   "id": "e02452c4",
   "metadata": {},
   "outputs": [],
   "source": []
  },
  {
   "cell_type": "code",
   "execution_count": null,
   "id": "e9324510",
   "metadata": {},
   "outputs": [],
   "source": []
  },
  {
   "cell_type": "code",
   "execution_count": null,
   "id": "8bcd59f7",
   "metadata": {},
   "outputs": [],
   "source": []
  },
  {
   "cell_type": "code",
   "execution_count": null,
   "id": "90db69b5",
   "metadata": {},
   "outputs": [],
   "source": []
  },
  {
   "cell_type": "code",
   "execution_count": null,
   "id": "ad7f9f4f",
   "metadata": {},
   "outputs": [],
   "source": []
  },
  {
   "cell_type": "code",
   "execution_count": null,
   "id": "76a8f9a5",
   "metadata": {},
   "outputs": [],
   "source": []
  },
  {
   "cell_type": "code",
   "execution_count": null,
   "id": "8b5956e7",
   "metadata": {},
   "outputs": [],
   "source": []
  },
  {
   "cell_type": "code",
   "execution_count": null,
   "id": "476c10af",
   "metadata": {},
   "outputs": [],
   "source": []
  },
  {
   "cell_type": "code",
   "execution_count": null,
   "id": "678b5416",
   "metadata": {},
   "outputs": [],
   "source": []
  },
  {
   "cell_type": "code",
   "execution_count": null,
   "id": "fe8ab483",
   "metadata": {},
   "outputs": [],
   "source": []
  },
  {
   "cell_type": "code",
   "execution_count": null,
   "id": "fb66d6e6",
   "metadata": {},
   "outputs": [],
   "source": []
  },
  {
   "cell_type": "code",
   "execution_count": null,
   "id": "c288a95f",
   "metadata": {},
   "outputs": [],
   "source": []
  },
  {
   "cell_type": "code",
   "execution_count": null,
   "id": "250b1904",
   "metadata": {},
   "outputs": [],
   "source": []
  },
  {
   "cell_type": "code",
   "execution_count": null,
   "id": "2b5d4a04",
   "metadata": {},
   "outputs": [],
   "source": []
  }
 ],
 "metadata": {
  "kernelspec": {
   "display_name": "Python 3 (ipykernel)",
   "language": "python",
   "name": "python3"
  },
  "language_info": {
   "codemirror_mode": {
    "name": "ipython",
    "version": 3
   },
   "file_extension": ".py",
   "mimetype": "text/x-python",
   "name": "python",
   "nbconvert_exporter": "python",
   "pygments_lexer": "ipython3",
   "version": "3.11.5"
  }
 },
 "nbformat": 4,
 "nbformat_minor": 5
}
