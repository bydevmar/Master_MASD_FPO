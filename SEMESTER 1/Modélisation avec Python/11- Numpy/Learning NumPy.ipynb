{
 "cells": [
  {
   "cell_type": "markdown",
   "id": "da88381d",
   "metadata": {},
   "source": [
    "# Introduction à NumPy\n",
    "\n",
    "## Qu'est-ce que NumPy ?\n",
    "NumPy est une bibliothèque Python utilisée pour travailler avec des tableaux.\n",
    "\n",
    "Elle propose des fonctions dédiées à l'algèbre linéaire, à la transformée de Fourier et aux matrices.\n",
    "\n",
    "NumPy a été créé en 2005 par Travis Oliphant. C'est un projet open source que vous pouvez utiliser librement.\n",
    "\n",
    "NumPy signifie Python Numérique.\n",
    "\n",
    "## Pourquoi utiliser NumPy ?\n",
    "En Python, nous avons des listes qui font office de tableaux, mais elles sont lentes à traiter.\n",
    "\n",
    "NumPy vise à fournir un objet tableau jusqu'à 50 fois plus rapide que les listes Python traditionnelles.\n",
    "\n",
    "L'objet tableau dans NumPy s'appelle ndarray. Il offre de nombreuses fonctions de support facilitant grandement la manipulation des ndarray.\n",
    "\n",
    "Les tableaux sont largement utilisés en science des données, où la vitesse et l'utilisation optimale des ressources sont cruciales.\n",
    "\n",
    "**Science des données** : une branche de l'informatique où l'on étudie comment stocker, utiliser et analyser des données pour en extraire des informations.\n",
    "\n",
    "## Pourquoi NumPy est-il plus rapide que les listes ?\n",
    "Les tableaux NumPy sont stockés en mémoire de manière continue, contrairement aux listes. Cela permet aux processus d'y accéder et de les manipuler de manière très efficace.\n",
    "\n",
    "Ce comportement est appelé la **localité de référence** en informatique.\n",
    "\n",
    "C'est la principale raison pour laquelle NumPy est plus rapide que les listes. De plus, il est optimisé pour fonctionner avec les dernières architectures de CPU.\n",
    "\n",
    "## Dans quelle langue est écrit NumPy ?\n",
    "NumPy est une bibliothèque Python, écrite partiellement en Python, mais la plupart des parties nécessitant des calculs rapides sont rédigées en C ou en C++.\n",
    "\n",
    "## Où se trouve le code source de NumPy ?\n",
    "Le code source de NumPy est hébergé sur [GitHub](https://github.com/numpy/numpy).\n",
    "\n",
    "**GitHub** : permet à de nombreuses personnes de collaborer sur le même code source.\n"
   ]
  },
  {
   "cell_type": "markdown",
   "id": "4bc7c5b6",
   "metadata": {},
   "source": [
    "# Importation de NumPy\n",
    "Une fois que NumPy est installé, importez-le dans vos applications en utilisant le mot-clé `import`."
   ]
  },
  {
   "cell_type": "code",
   "execution_count": 3,
   "id": "ce899320",
   "metadata": {},
   "outputs": [],
   "source": [
    "import numpy as np"
   ]
  },
  {
   "cell_type": "markdown",
   "id": "39f7ca7e",
   "metadata": {},
   "source": [
    "# Vérification de la version de NumPy\n",
    "La chaîne de version est stockée sous l'attribut `__version__`."
   ]
  },
  {
   "cell_type": "code",
   "execution_count": 4,
   "id": "9478cc81",
   "metadata": {},
   "outputs": [
    {
     "name": "stdout",
     "output_type": "stream",
     "text": [
      "1.24.3\n"
     ]
    }
   ],
   "source": [
    "print(np.__version__)"
   ]
  },
  {
   "cell_type": "markdown",
   "id": "e5112103",
   "metadata": {},
   "source": [
    "# NumPy : Création de tableaux\n",
    "\n",
    "## Créer un objet NumPy ndarray\n",
    "NumPy est utilisé pour travailler avec des tableaux. L'objet tableau dans NumPy est appelé ndarray.\n",
    "\n",
    "Nous pouvons créer un objet NumPy ndarray en utilisant la fonction `array()`.\n"
   ]
  },
  {
   "cell_type": "code",
   "execution_count": 5,
   "id": "08408f44",
   "metadata": {},
   "outputs": [
    {
     "name": "stdout",
     "output_type": "stream",
     "text": [
      "[1 2 3 4 5]\n",
      "<class 'numpy.ndarray'>\n"
     ]
    }
   ],
   "source": [
    "import numpy as np\n",
    "\n",
    "arr = np.array([1, 2, 3, 4, 5])\n",
    "\n",
    "print(arr)\n",
    "\n",
    "print(type(arr))"
   ]
  },
  {
   "cell_type": "markdown",
   "id": "cae75105",
   "metadata": {},
   "source": [
    "**Fonction type()** : \n",
    "La fonction intégrée de Python `type()` nous indique le type de l'objet qui lui est passé. Comme dans le code ci-dessus, elle montre que `arr` est de type `numpy.ndarray`.\n",
    "\n",
    "Pour créer un ndarray, nous pouvons passer une liste, un tuple ou tout objet semblable à un tableau à la méthode `array()`, et il sera converti en un ndarray.\n"
   ]
  },
  {
   "cell_type": "code",
   "execution_count": null,
   "id": "a68eb044",
   "metadata": {},
   "outputs": [],
   "source": []
  },
  {
   "cell_type": "code",
   "execution_count": null,
   "id": "5742edd4",
   "metadata": {},
   "outputs": [],
   "source": []
  }
 ],
 "metadata": {
  "kernelspec": {
   "display_name": "Python 3 (ipykernel)",
   "language": "python",
   "name": "python3"
  },
  "language_info": {
   "codemirror_mode": {
    "name": "ipython",
    "version": 3
   },
   "file_extension": ".py",
   "mimetype": "text/x-python",
   "name": "python",
   "nbconvert_exporter": "python",
   "pygments_lexer": "ipython3",
   "version": "3.11.5"
  }
 },
 "nbformat": 4,
 "nbformat_minor": 5
}
