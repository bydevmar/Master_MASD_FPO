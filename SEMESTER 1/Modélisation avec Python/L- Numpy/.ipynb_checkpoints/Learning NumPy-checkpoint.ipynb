{
 "cells": [
  {
   "cell_type": "markdown",
   "id": "da88381d",
   "metadata": {},
   "source": [
    "# Introduction à NumPy\n",
    "\n",
    "## Qu'est-ce que NumPy ?\n",
    "NumPy est une bibliothèque Python utilisée pour travailler avec des tableaux.\n",
    "\n",
    "Elle propose des fonctions dédiées à l'algèbre linéaire, à la transformée de Fourier et aux matrices.\n",
    "\n",
    "NumPy a été créé en 2005 par Travis Oliphant. C'est un projet open source que vous pouvez utiliser librement.\n",
    "\n",
    "NumPy signifie Python Numérique.\n",
    "\n",
    "## Pourquoi utiliser NumPy ?\n",
    "En Python, nous avons des listes qui font office de tableaux, mais elles sont lentes à traiter.\n",
    "\n",
    "NumPy vise à fournir un objet tableau jusqu'à 50 fois plus rapide que les listes Python traditionnelles.\n",
    "\n",
    "L'objet tableau dans NumPy s'appelle ndarray. Il offre de nombreuses fonctions de support facilitant grandement la manipulation des ndarray.\n",
    "\n",
    "Les tableaux sont largement utilisés en science des données, où la vitesse et l'utilisation optimale des ressources sont cruciales.\n",
    "\n",
    "**Science des données** : une branche de l'informatique où l'on étudie comment stocker, utiliser et analyser des données pour en extraire des informations.\n",
    "\n",
    "## Pourquoi NumPy est-il plus rapide que les listes ?\n",
    "Les tableaux NumPy sont stockés en mémoire de manière continue, contrairement aux listes. Cela permet aux processus d'y accéder et de les manipuler de manière très efficace.\n",
    "\n",
    "Ce comportement est appelé la **localité de référence** en informatique.\n",
    "\n",
    "C'est la principale raison pour laquelle NumPy est plus rapide que les listes. De plus, il est optimisé pour fonctionner avec les dernières architectures de CPU.\n",
    "\n",
    "## Dans quelle langue est écrit NumPy ?\n",
    "NumPy est une bibliothèque Python, écrite partiellement en Python, mais la plupart des parties nécessitant des calculs rapides sont rédigées en C ou en C++.\n",
    "\n",
    "## Où se trouve le code source de NumPy ?\n",
    "Le code source de NumPy est hébergé sur [GitHub](https://github.com/numpy/numpy).\n",
    "\n",
    "**GitHub** : permet à de nombreuses personnes de collaborer sur le même code source.\n"
   ]
  },
  {
   "cell_type": "markdown",
   "id": "4bc7c5b6",
   "metadata": {},
   "source": [
    "# Importation de NumPy\n",
    "Une fois que NumPy est installé, importez-le dans vos applications en utilisant le mot-clé `import`."
   ]
  },
  {
   "cell_type": "code",
   "execution_count": 3,
   "id": "ce899320",
   "metadata": {},
   "outputs": [],
   "source": [
    "import numpy as np"
   ]
  },
  {
   "cell_type": "markdown",
   "id": "39f7ca7e",
   "metadata": {},
   "source": [
    "# Vérification de la version de NumPy\n",
    "La chaîne de version est stockée sous l'attribut `__version__`."
   ]
  },
  {
   "cell_type": "code",
   "execution_count": 4,
   "id": "9478cc81",
   "metadata": {},
   "outputs": [
    {
     "name": "stdout",
     "output_type": "stream",
     "text": [
      "1.24.3\n"
     ]
    }
   ],
   "source": [
    "print(np.__version__)"
   ]
  },
  {
   "cell_type": "markdown",
   "id": "e5112103",
   "metadata": {},
   "source": [
    "# NumPy : Création de tableaux\n",
    "\n",
    "## Créer un objet NumPy ndarray\n",
    "NumPy est utilisé pour travailler avec des tableaux. L'objet tableau dans NumPy est appelé ndarray.\n",
    "\n",
    "Nous pouvons créer un objet NumPy ndarray en utilisant la fonction `array()`.\n"
   ]
  },
  {
   "cell_type": "code",
   "execution_count": 5,
   "id": "08408f44",
   "metadata": {},
   "outputs": [
    {
     "name": "stdout",
     "output_type": "stream",
     "text": [
      "[1 2 3 4 5]\n",
      "<class 'numpy.ndarray'>\n"
     ]
    }
   ],
   "source": [
    "import numpy as np\n",
    "\n",
    "arr = np.array([1, 2, 3, 4, 5])\n",
    "\n",
    "print(arr)\n",
    "\n",
    "print(type(arr))"
   ]
  },
  {
   "cell_type": "markdown",
   "id": "cae75105",
   "metadata": {},
   "source": [
    "**Fonction type()** : \n",
    "La fonction intégrée de Python `type()` nous indique le type de l'objet qui lui est passé. Comme dans le code ci-dessus, elle montre que `arr` est de type `numpy.ndarray`.\n",
    "\n",
    "Pour créer un ndarray, nous pouvons passer une liste, un tuple ou tout objet semblable à un tableau à la méthode `array()`, et il sera converti en un ndarray.\n"
   ]
  },
  {
   "cell_type": "code",
   "execution_count": 1,
   "id": "a68eb044",
   "metadata": {},
   "outputs": [
    {
     "name": "stdout",
     "output_type": "stream",
     "text": [
      "[1 2 3 4 5]\n"
     ]
    }
   ],
   "source": [
    "import numpy as np\n",
    "\n",
    "arr = np.array((1, 2, 3, 4, 5))\n",
    "\n",
    "print(arr)"
   ]
  },
  {
   "cell_type": "markdown",
   "id": "333e019c",
   "metadata": {},
   "source": [
    "# Dimensions dans les tableaux\n",
    "Une dimension dans les tableaux est un niveau de profondeur du tableau (tableaux imbriqués).\n",
    "\n",
    "**Tableau imbriqué** : ce sont des tableaux qui ont des tableaux comme éléments.\n",
    "\n",
    "## Tableaux 0-D\n",
    "Les tableaux 0-D, ou scalaires, sont les éléments dans un tableau. Chaque valeur dans un tableau est un tableau 0-D.\n",
    "\n",
    "### Exemple\n",
    "Créez un tableau 0-D avec la valeur 42\n"
   ]
  },
  {
   "cell_type": "code",
   "execution_count": 3,
   "id": "ffca4a9b",
   "metadata": {},
   "outputs": [
    {
     "name": "stdout",
     "output_type": "stream",
     "text": [
      "42\n"
     ]
    }
   ],
   "source": [
    "import numpy as np\n",
    "\n",
    "arr = np.array(42)\n",
    "\n",
    "print(arr)"
   ]
  },
  {
   "cell_type": "markdown",
   "id": "ef280949",
   "metadata": {},
   "source": [
    "# Tableaux 1-D\n",
    "Un tableau qui a des tableaux 0-D comme éléments est appelé tableau unidimensionnel ou tableau 1-D.\n",
    "\n",
    "Ce sont les tableaux les plus courants et basiques.\n",
    "\n",
    "## Exemple\n",
    "Créez un tableau 1-D contenant les valeurs 1, 2, 3, 4, 5 :\n"
   ]
  },
  {
   "cell_type": "code",
   "execution_count": 5,
   "id": "ca2cf8fe",
   "metadata": {},
   "outputs": [
    {
     "name": "stdout",
     "output_type": "stream",
     "text": [
      "[1 2 3 4 5]\n"
     ]
    }
   ],
   "source": [
    "import numpy as np\n",
    "\n",
    "arr = np.array([1, 2, 3, 4, 5])\n",
    "\n",
    "print(arr)"
   ]
  },
  {
   "cell_type": "markdown",
   "id": "920fa251",
   "metadata": {},
   "source": [
    "# Tableaux 2-D\n",
    "Un tableau qui a des tableaux 1-D comme éléments est appelé tableau 2-D.\n",
    "\n",
    "Ils sont souvent utilisés pour représenter des matrices ou des tenseurs d'ordre 2.\n",
    "\n",
    "NumPy possède un sous-module entier dédié aux opérations sur les matrices appelé `numpy.mat`.\n",
    "\n",
    "## Exemple\n",
    "Créez un tableau 2-D contenant deux tableaux avec les valeurs 1, 2, 3 et 4, 5, 6 :\n"
   ]
  },
  {
   "cell_type": "code",
   "execution_count": 6,
   "id": "0e25a7f6",
   "metadata": {},
   "outputs": [
    {
     "name": "stdout",
     "output_type": "stream",
     "text": [
      "[[1 2 3]\n",
      " [4 5 6]]\n"
     ]
    }
   ],
   "source": [
    "import numpy as np\n",
    "\n",
    "arr = np.array([[1, 2, 3], [4, 5, 6]])\n",
    "\n",
    "print(arr)"
   ]
  },
  {
   "cell_type": "markdown",
   "id": "8f2dfff0",
   "metadata": {},
   "source": [
    "# Tableaux 3-D\n",
    "Un tableau qui a des tableaux 2-D (matrices) comme éléments est appelé tableau 3-D.\n",
    "\n",
    "Ils sont souvent utilisés pour représenter un tenseur d'ordre 3.\n",
    "\n",
    "## Exemple\n",
    "Créez un tableau 3-D avec deux tableaux 2-D, chacun contenant deux tableaux avec les valeurs 1, 2, 3 et 4, 5, 6 :\n"
   ]
  },
  {
   "cell_type": "code",
   "execution_count": 8,
   "id": "b0eef12d",
   "metadata": {},
   "outputs": [
    {
     "name": "stdout",
     "output_type": "stream",
     "text": [
      "[[[1 2 3]\n",
      "  [4 5 6]]\n",
      "\n",
      " [[1 2 3]\n",
      "  [4 5 6]]]\n"
     ]
    }
   ],
   "source": [
    "import numpy as np\n",
    "\n",
    "arr = np.array([[[1, 2, 3], [4, 5, 6]], [[1, 2, 3], [4, 5, 6]]])\n",
    "\n",
    "print(arr)"
   ]
  },
  {
   "cell_type": "markdown",
   "id": "a726cca8",
   "metadata": {},
   "source": [
    "# Vérifier le nombre de dimensions\n",
    "Les tableaux NumPy fournissent l'attribut `ndim` qui renvoie un entier indiquant combien de dimensions le tableau a.\n",
    "\n",
    "## Exemple\n",
    "Vérifiez combien de dimensions ont les tableaux :\n"
   ]
  },
  {
   "cell_type": "code",
   "execution_count": 9,
   "id": "066772ca",
   "metadata": {},
   "outputs": [
    {
     "name": "stdout",
     "output_type": "stream",
     "text": [
      "0\n",
      "1\n",
      "2\n",
      "3\n"
     ]
    }
   ],
   "source": [
    "import numpy as np\n",
    "\n",
    "a = np.array(42)\n",
    "b = np.array([1, 2, 3, 4, 5])\n",
    "c = np.array([[1, 2, 3], [4, 5, 6]])\n",
    "d = np.array([[[1, 2, 3], [4, 5, 6]], [[1, 2, 3], [4, 5, 6]]])\n",
    "\n",
    "print(a.ndim)\n",
    "print(b.ndim)\n",
    "print(c.ndim)\n",
    "print(d.ndim)"
   ]
  },
  {
   "cell_type": "markdown",
   "id": "9d58535d",
   "metadata": {},
   "source": [
    "# Tableaux de dimensions supérieures\n",
    "Un tableau peut avoir n'importe quel nombre de dimensions.\n",
    "\n",
    "Lorsque le tableau est créé, vous pouvez définir le nombre de dimensions en utilisant l'argument `ndmin`.\n",
    "\n",
    "## Exemple\n",
    "Créez un tableau avec 5 dimensions et vérifiez qu'il a 5 dimensions :\n"
   ]
  },
  {
   "cell_type": "code",
   "execution_count": 10,
   "id": "8c01a2c2",
   "metadata": {},
   "outputs": [
    {
     "name": "stdout",
     "output_type": "stream",
     "text": [
      "[[[[[1 2 3 4]]]]]\n",
      "number of dimensions : 5\n"
     ]
    }
   ],
   "source": [
    "import numpy as np\n",
    "\n",
    "arr = np.array([1, 2, 3, 4], ndmin=5)\n",
    "\n",
    "print(arr)\n",
    "print('number of dimensions :', arr.ndim)"
   ]
  },
  {
   "cell_type": "markdown",
   "id": "15ceeb55",
   "metadata": {},
   "source": [
    "**Dans ce tableau, la dimension la plus interne (5e dimension) a 4 éléments, la 4e dimension a 1 élément qui est le vecteur, la 3e dimension a 1 élément qui est la matrice avec le vecteur, la 2e dimension a 1 élément qui est un tableau 3D et la 1re dimension a 1 élément qui est un tableau 4D.**\n"
   ]
  },
  {
   "cell_type": "markdown",
   "id": "81bbc6a1",
   "metadata": {},
   "source": [
    "# Indexation des tableaux NumPy\n",
    "Accès aux éléments du tableau\n",
    "L'indexation des tableaux est similaire à l'accès à un élément de tableau.\n",
    "\n",
    "Vous pouvez accéder à un élément de tableau en faisant référence à son numéro d'indice.\n",
    "\n",
    "Les indices dans les tableaux NumPy commencent à 0, ce qui signifie que le premier élément a l'indice 0, le deuxième a l'indice 1, etc.\n",
    "\n",
    "## Exemple\n",
    "Obtenez le premier élément du tableau suivant :\n"
   ]
  },
  {
   "cell_type": "code",
   "execution_count": 11,
   "id": "64b483c7",
   "metadata": {},
   "outputs": [
    {
     "name": "stdout",
     "output_type": "stream",
     "text": [
      "1\n"
     ]
    }
   ],
   "source": [
    "import numpy as np\n",
    "\n",
    "arr = np.array([1, 2, 3, 4])\n",
    "\n",
    "print(arr[0])"
   ]
  },
  {
   "cell_type": "markdown",
   "id": "8217607f",
   "metadata": {},
   "source": [
    "# Accéder aux tableaux 2-D\n",
    "Pour accéder aux éléments des tableaux 2-D, nous pouvons utiliser des entiers séparés par des virgules représentant la dimension et l'indice de l'élément.\n",
    "\n",
    "Pensez aux tableaux 2-D comme à un tableau avec des lignes et des colonnes, où la dimension représente la ligne et l'indice représente la colonne.\n"
   ]
  },
  {
   "cell_type": "code",
   "execution_count": 13,
   "id": "19db91a4",
   "metadata": {},
   "outputs": [
    {
     "name": "stdout",
     "output_type": "stream",
     "text": [
      "2eme element dans 1ere ligne:  2\n"
     ]
    }
   ],
   "source": [
    "import numpy as np\n",
    "\n",
    "arr = np.array([[1,2,3,4,5], [6,7,8,9,10]])\n",
    "\n",
    "print('2eme element dans 1ere ligne: ', arr[0, 1])"
   ]
  },
  {
   "cell_type": "code",
   "execution_count": 14,
   "id": "1c103c07",
   "metadata": {},
   "outputs": [
    {
     "name": "stdout",
     "output_type": "stream",
     "text": [
      "Élément 5 de la 2e ligne :  10\n"
     ]
    }
   ],
   "source": [
    "import numpy as np\n",
    "\n",
    "arr = np.array([[1, 2, 3, 4, 5], [6, 7, 8, 9, 10]])\n",
    "\n",
    "print('Élément 5 de la 2e ligne : ', arr[1, 4])\n"
   ]
  },
  {
   "cell_type": "markdown",
   "id": "a1994498",
   "metadata": {},
   "source": [
    "# Accéder aux tableaux 3-D\n",
    "Pour accéder aux éléments des tableaux 3-D, nous pouvons utiliser des entiers séparés par des virgules représentant les dimensions et l'indice de l'élément.\n",
    "\n",
    "## Exemple\n",
    "Accédez au troisième élément du deuxième tableau du premier tableau :"
   ]
  },
  {
   "cell_type": "code",
   "execution_count": 17,
   "id": "5dc3bae5",
   "metadata": {},
   "outputs": [
    {
     "name": "stdout",
     "output_type": "stream",
     "text": [
      "6\n"
     ]
    }
   ],
   "source": [
    "import numpy as np\n",
    "\n",
    "arr = np.array([\n",
    "    [ \n",
    "        [1, 2, 3], [4, 5, 6]\n",
    "    ], \n",
    "    [\n",
    "        [7, 8, 9], [10, 11, 12]\n",
    "    ]\n",
    "])\n",
    "\n",
    "print(arr[0, 1, 2])"
   ]
  },
  {
   "cell_type": "markdown",
   "id": "a30b6d0e",
   "metadata": {},
   "source": [
    "# Exemple Expliqué\n",
    "\n",
    "L'expression `arr[0, 1, 2]` renvoie la valeur 6, expliqué comme suit :\n",
    "\n",
    "- Le premier nombre représente la première dimension, qui contient deux tableaux :\n",
    "  [[1, 2, 3], [4, 5, 6]]\n",
    "  et\n",
    "  [[7, 8, 9], [10, 11, 12]]\n",
    "  En sélectionnant 0, nous obtenons le premier tableau :\n",
    "  [[1, 2, 3], [4, 5, 6]]\n",
    "\n",
    "- Le deuxième nombre représente la deuxième dimension, qui contient également deux tableaux :\n",
    "  [1, 2, 3]\n",
    "  et\n",
    "  [4, 5, 6]\n",
    "  En sélectionnant 1, nous obtenons le deuxième tableau :\n",
    "  [4, 5, 6]\n",
    "\n",
    "- Le troisième nombre représente la troisième dimension, qui contient trois valeurs :\n",
    "  4\n",
    "  5\n",
    "  6\n",
    "  En sélectionnant 2, nous obtenons la troisième valeur :\n",
    "  6\n"
   ]
  },
  {
   "cell_type": "markdown",
   "id": "ca39922c",
   "metadata": {},
   "source": [
    "# Indexation négative\n",
    "Utilisez l'indexation négative pour accéder à un tableau depuis la fin.\n",
    "\n",
    "## Exemple\n",
    "Affichez le dernier élément de la 2e dimension :"
   ]
  },
  {
   "cell_type": "code",
   "execution_count": 19,
   "id": "7b9f86f2",
   "metadata": {},
   "outputs": [
    {
     "name": "stdout",
     "output_type": "stream",
     "text": [
      "Dernier élément de la 2e dimension :  10\n"
     ]
    }
   ],
   "source": [
    "import numpy as np\n",
    "\n",
    "arr = np.array([[1, 2, 3, 4, 5], [6, 7, 8, 9, 10]])\n",
    "\n",
    "print('Dernier élément de la 2e dimension : ', arr[1, -1])"
   ]
  },
  {
   "cell_type": "markdown",
   "id": "78118d27",
   "metadata": {},
   "source": [
    "# Découpage des tableaux NumPy\n",
    "Le découpage en Python consiste à prendre des éléments d'un index donné à un autre index donné.\n",
    "\n",
    "Nous passons une tranche au lieu d'un indice comme ceci : `[début:fin]`.\n",
    "\n",
    "Nous pouvons également définir le pas, comme ceci : `[début:fin:pas]`.\n",
    "\n",
    "Si nous ne passons pas de valeur de début, elle est considérée comme 0.\n",
    "\n",
    "Si nous ne passons pas de valeur de fin, elle est considérée comme la longueur du tableau dans cette dimension.\n",
    "\n",
    "Si nous ne passons pas de pas, il est considéré comme 1.\n",
    "\n",
    "## Exemple\n",
    "Découpez les éléments de l'index 1 à l'index 5 du tableau suivant :"
   ]
  },
  {
   "cell_type": "code",
   "execution_count": 20,
   "id": "d8f05230",
   "metadata": {},
   "outputs": [
    {
     "name": "stdout",
     "output_type": "stream",
     "text": [
      "[2 3 4 5]\n"
     ]
    }
   ],
   "source": [
    "import numpy as np\n",
    "\n",
    "arr = np.array([1, 2, 3, 4, 5, 6, 7])\n",
    "\n",
    "print(arr[1:5])"
   ]
  },
  {
   "cell_type": "markdown",
   "id": "cc5153f0",
   "metadata": {},
   "source": [
    "**Remarque :** Le résultat inclut l'indice de début, mais exclut l'indice de fin.\n",
    "\n",
    "## Exemple\n",
    "Découpez les éléments de l'indice 4 jusqu'à la fin du tableau :"
   ]
  },
  {
   "cell_type": "code",
   "execution_count": 21,
   "id": "e298390e",
   "metadata": {},
   "outputs": [
    {
     "name": "stdout",
     "output_type": "stream",
     "text": [
      "[5 6 7]\n"
     ]
    }
   ],
   "source": [
    "import numpy as np\n",
    "\n",
    "arr = np.array([1, 2, 3, 4, 5, 6, 7])\n",
    "\n",
    "print(arr[4:])"
   ]
  },
  {
   "cell_type": "markdown",
   "id": "733faece",
   "metadata": {},
   "source": [
    "## Exemple\n",
    "Découpez les éléments du début jusqu'à l'indice 4 (non inclus) :"
   ]
  },
  {
   "cell_type": "code",
   "execution_count": 23,
   "id": "a2a2113b",
   "metadata": {},
   "outputs": [
    {
     "name": "stdout",
     "output_type": "stream",
     "text": [
      "[1 2 3 4]\n"
     ]
    }
   ],
   "source": [
    "import numpy as np\n",
    "\n",
    "arr = np.array([1, 2, 3, 4, 5, 6, 7])\n",
    "\n",
    "print(arr[:4])"
   ]
  },
  {
   "cell_type": "markdown",
   "id": "7f1c9468",
   "metadata": {},
   "source": [
    "# Découpage négatif\n",
    "Utilisez l'opérateur moins pour faire référence à un indice depuis la fin.\n",
    "\n",
    "## Exemple\n",
    "Découpez depuis l'indice 3 depuis la fin jusqu'à l'indice 1 depuis la fin :"
   ]
  },
  {
   "cell_type": "code",
   "execution_count": 24,
   "id": "ba0527b5",
   "metadata": {},
   "outputs": [
    {
     "name": "stdout",
     "output_type": "stream",
     "text": [
      "[5 6]\n"
     ]
    }
   ],
   "source": [
    "import numpy as np\n",
    "\n",
    "arr = np.array([1, 2, 3, 4, 5, 6, 7])\n",
    "\n",
    "print(arr[-3:-1])"
   ]
  },
  {
   "cell_type": "markdown",
   "id": "d4160a16",
   "metadata": {},
   "source": [
    "# STEP\n",
    "Utilisez la valeur de pas pour déterminer le pas du découpage :\n",
    "\n",
    "## Exemple\n",
    "Retournez chaque autre élément de l'indice 1 à l'indice 5 :"
   ]
  },
  {
   "cell_type": "code",
   "execution_count": 27,
   "id": "4f0c412d",
   "metadata": {},
   "outputs": [
    {
     "name": "stdout",
     "output_type": "stream",
     "text": [
      "[2 4]\n"
     ]
    }
   ],
   "source": [
    "import numpy as np\n",
    "\n",
    "arr = np.array([1, 2, 3, 4, 5, 6, 7])\n",
    "\n",
    "print(arr[1:5:2])"
   ]
  },
  {
   "cell_type": "markdown",
   "id": "c2cae5a2",
   "metadata": {},
   "source": [
    "## Exemple\n",
    "Retournez chaque autre élément de l'ensemble du tableau :"
   ]
  },
  {
   "cell_type": "code",
   "execution_count": 29,
   "id": "1311d4b1",
   "metadata": {},
   "outputs": [
    {
     "name": "stdout",
     "output_type": "stream",
     "text": [
      "[1 3 5 7]\n"
     ]
    }
   ],
   "source": [
    "import numpy as np\n",
    "\n",
    "arr = np.array([1, 2, 3, 4, 5, 6, 7])\n",
    "\n",
    "print(arr[::2])\n"
   ]
  },
  {
   "cell_type": "markdown",
   "id": "9de7b181",
   "metadata": {},
   "source": [
    "# Découpage des tableaux 2-D\n",
    "## Exemple\n",
    "À partir du deuxième élément, découpez les éléments de l'indice 1 à l'indice 4 (non inclus) :\n",
    "\n",
    "**Remarque :** N'oubliez pas que le deuxième élément a l'indice 1."
   ]
  },
  {
   "cell_type": "code",
   "execution_count": 30,
   "id": "40f00aad",
   "metadata": {},
   "outputs": [
    {
     "name": "stdout",
     "output_type": "stream",
     "text": [
      "[7 8 9]\n"
     ]
    }
   ],
   "source": [
    "import numpy as np\n",
    "\n",
    "arr = np.array([[1, 2, 3, 4, 5], [6, 7, 8, 9, 10]])\n",
    "\n",
    "print(arr[1, 1:4])"
   ]
  },
  {
   "cell_type": "markdown",
   "id": "85c35375",
   "metadata": {},
   "source": [
    "## Exemple\n",
    "À partir des deux éléments, retournez l'indice 2 :"
   ]
  },
  {
   "cell_type": "code",
   "execution_count": 32,
   "id": "81b9a2a4",
   "metadata": {
    "scrolled": true
   },
   "outputs": [
    {
     "name": "stdout",
     "output_type": "stream",
     "text": [
      "[3 8]\n"
     ]
    }
   ],
   "source": [
    "import numpy as np\n",
    "\n",
    "print(arr[0:2, 2])"
   ]
  },
  {
   "cell_type": "markdown",
   "id": "d3c29f3d",
   "metadata": {},
   "source": [
    "## Exemple\n",
    "À partir des deux éléments, découpez de l'indice 1 à l'indice 4 (non inclus), cela renverra un tableau 2-D :"
   ]
  },
  {
   "cell_type": "code",
   "execution_count": 33,
   "id": "2305b761",
   "metadata": {},
   "outputs": [
    {
     "name": "stdout",
     "output_type": "stream",
     "text": [
      "[[2 3 4]\n",
      " [7 8 9]]\n"
     ]
    }
   ],
   "source": [
    "import numpy as np\n",
    "\n",
    "arr = np.array([[1, 2, 3, 4, 5], [6, 7, 8, 9, 10]])\n",
    "\n",
    "print(arr[0:2, 1:4])"
   ]
  },
  {
   "cell_type": "markdown",
   "id": "53d14574",
   "metadata": {},
   "source": [
    "# Types de données NumPy\n",
    "## Types de données en Python\n",
    "Par défaut, Python a ces types de données :\n",
    "\n",
    "- String - utilisées pour représenter des données textuelles, le texte est placé entre guillemets. Par exemple, \"ABCD\".\n",
    "- integer - utilisé pour représenter des nombres entiers. Par exemple, -1, -2, -3.\n",
    "- float - utilisé pour représenter des nombres réels. Par exemple, 1.2, 42.42.\n",
    "- boolean - utilisé pour représenter Vrai ou Faux.\n",
    "- complex - utilisé pour représenter des nombres complexes. Par exemple, 1.0 + 2.0j, 1.5 + 2.5j.\n",
    "\n",
    "## Types de données en NumPy\n",
    "NumPy a quelques types de données supplémentaires, représentés par un seul caractère, comme i pour les entiers, u pour les entiers non signés, etc.\n",
    "\n",
    "Voici une liste de tous les types de données en NumPy et les caractères utilisés pour les représenter :\n",
    "\n",
    "- i - entier\n",
    "- b - booléen\n",
    "- u - entier non signé\n",
    "- f - flottant\n",
    "- c - flottant complexe\n",
    "- m - timedelta\n",
    "- M - datetime\n",
    "- O - objet\n",
    "- S - chaîne de caractères\n",
    "- U - chaîne de caractères Unicode\n",
    "- V - morceau fixe de mémoire pour un autre type (vide)\n",
    "\n",
    "## Vérification du type de données d'un tableau\n",
    "L'objet tableau NumPy a une propriété appelée `dtype` qui renvoie le type de données du tableau :\n"
   ]
  },
  {
   "cell_type": "code",
   "execution_count": 34,
   "id": "4f7bfc1c",
   "metadata": {},
   "outputs": [
    {
     "name": "stdout",
     "output_type": "stream",
     "text": [
      "int32\n"
     ]
    }
   ],
   "source": [
    "import numpy as np\n",
    "\n",
    "arr = np.array([1, 2, 3, 4])\n",
    "\n",
    "print(arr.dtype)"
   ]
  },
  {
   "cell_type": "code",
   "execution_count": 35,
   "id": "2164c7f1",
   "metadata": {},
   "outputs": [
    {
     "name": "stdout",
     "output_type": "stream",
     "text": [
      "<U6\n"
     ]
    }
   ],
   "source": [
    "import numpy as np\n",
    "\n",
    "arr = np.array(['apple', 'banana', 'cherry'])\n",
    "\n",
    "print(arr.dtype)"
   ]
  },
  {
   "cell_type": "markdown",
   "id": "96184c57",
   "metadata": {},
   "source": [
    "# Création de tableaux avec un type de données défini\n",
    "Nous utilisons la fonction `array()` pour créer des tableaux, cette fonction peut prendre un argument facultatif : `dtype` qui nous permet de définir le type de données attendu des éléments du tableau.\n",
    "\n",
    "## Exemple\n",
    "Créez un tableau avec un type de données chaîne de caractères :"
   ]
  },
  {
   "cell_type": "code",
   "execution_count": 39,
   "id": "e67c36b2",
   "metadata": {},
   "outputs": [
    {
     "name": "stdout",
     "output_type": "stream",
     "text": [
      "[b'1' b'2' b'3' b'4']\n",
      "|S1\n"
     ]
    }
   ],
   "source": [
    "import numpy as np\n",
    "\n",
    "arr = np.array([1, 2, 3, 4], dtype='S')\n",
    "\n",
    "print(arr)\n",
    "print(arr.dtype)"
   ]
  },
  {
   "cell_type": "markdown",
   "id": "24a3dfba",
   "metadata": {},
   "source": [
    "**Pour i, u, f, S et U, nous pouvons également définir la taille.**"
   ]
  },
  {
   "cell_type": "markdown",
   "id": "40ec32ba",
   "metadata": {},
   "source": [
    "## Exemple\n",
    "Créer un tableau avec un type de données entier sur 4 octets :"
   ]
  },
  {
   "cell_type": "code",
   "execution_count": 2,
   "id": "78750bba",
   "metadata": {},
   "outputs": [
    {
     "name": "stdout",
     "output_type": "stream",
     "text": [
      "[1 2 3 4]\n",
      "int32\n"
     ]
    }
   ],
   "source": [
    "arr = np.array([1, 2, 3, 4], dtype='i4')\n",
    "\n",
    "print(arr)\n",
    "print(arr.dtype)"
   ]
  },
  {
   "cell_type": "markdown",
   "id": "e2c59ff1",
   "metadata": {},
   "source": [
    "## Que se passe-t-il si une valeur ne peut pas être convertie ?\n",
    "Si un type est spécifié dans lequel les éléments ne peuvent pas être convertis, NumPy générera une ValueError.\n",
    "\n",
    "**ValueError** : En Python, ValueError est générée lorsque le type de l'argument passé à une fonction est inattendu/incorrect.\n",
    "\n",
    "**Exemple** :\n",
    "Une chaîne non entière telle que 'a' ne peut pas être convertie en entier (elle générera une erreur) :"
   ]
  },
  {
   "cell_type": "code",
   "execution_count": 3,
   "id": "0238c3a3",
   "metadata": {},
   "outputs": [
    {
     "ename": "ValueError",
     "evalue": "invalid literal for int() with base 10: 'a'",
     "output_type": "error",
     "traceback": [
      "\u001b[1;31m---------------------------------------------------------------------------\u001b[0m",
      "\u001b[1;31mValueError\u001b[0m                                Traceback (most recent call last)",
      "Cell \u001b[1;32mIn[3], line 1\u001b[0m\n\u001b[1;32m----> 1\u001b[0m arr \u001b[38;5;241m=\u001b[39m np\u001b[38;5;241m.\u001b[39marray([\u001b[38;5;124m'\u001b[39m\u001b[38;5;124ma\u001b[39m\u001b[38;5;124m'\u001b[39m, \u001b[38;5;124m'\u001b[39m\u001b[38;5;124m2\u001b[39m\u001b[38;5;124m'\u001b[39m, \u001b[38;5;124m'\u001b[39m\u001b[38;5;124m3\u001b[39m\u001b[38;5;124m'\u001b[39m], dtype\u001b[38;5;241m=\u001b[39m\u001b[38;5;124m'\u001b[39m\u001b[38;5;124mi\u001b[39m\u001b[38;5;124m'\u001b[39m)\n",
      "\u001b[1;31mValueError\u001b[0m: invalid literal for int() with base 10: 'a'"
     ]
    }
   ],
   "source": [
    "arr = np.array(['a', '2', '3'], dtype='i')"
   ]
  },
  {
   "cell_type": "markdown",
   "id": "ccfe632d",
   "metadata": {},
   "source": [
    "## Conversion du type de données sur des tableaux existants\n",
    "La meilleure façon de changer le type de données d'un tableau existant est de créer une copie du tableau avec la méthode `astype()`.\n",
    "\n",
    "La fonction `astype()` crée une copie du tableau et vous permet de spécifier le type de données en tant que paramètre.\n",
    "\n",
    "Le type de données peut être spécifié à l'aide d'une chaîne, comme 'f' pour flottant, 'i' pour entier, etc., ou vous pouvez utiliser directement le type de données comme float pour flottant et int pour entier.\n",
    "\n",
    "**Exemple** :\n",
    "Changer le type de données de flottant à entier en utilisant 'i' comme valeur de paramètre :"
   ]
  },
  {
   "cell_type": "code",
   "execution_count": 4,
   "id": "8d65345b",
   "metadata": {},
   "outputs": [
    {
     "name": "stdout",
     "output_type": "stream",
     "text": [
      "[1 2 3]\n",
      "int32\n"
     ]
    }
   ],
   "source": [
    "arr = np.array([1.1, 2.1, 3.1])\n",
    "\n",
    "newarr = arr.astype('i')\n",
    "\n",
    "print(newarr)\n",
    "print(newarr.dtype)"
   ]
  },
  {
   "cell_type": "markdown",
   "id": "f4b631df",
   "metadata": {},
   "source": [
    "# Copie vs Vue d'un Tableau NumPy\n",
    "## La Différence Entre Copie et Vue\n",
    "\n",
    "La distinction principale entre une copie et une vue d'un tableau est que la copie est un nouveau tableau, tandis que la vue n'est qu'une représentation du tableau d'origine.\n",
    "\n",
    "La copie possède les données, et toute modification apportée à la copie n'aura aucun impact sur le tableau d'origine. De même, toute modification apportée au tableau d'origine n'affectera pas la copie.\n",
    "\n",
    "En revanche, la vue ne possède pas les données. Les changements appliqués à la vue auront un impact sur le tableau d'origine, et les modifications apportées au tableau d'origine influenceront la vue.\n",
    "\n",
    "## COPIE :\n",
    "### Exemple : Obtenez votre propre serveur Python\n",
    "\n",
    "Créez une copie, modifiez le tableau d'origine et affichez les deux tableaux :"
   ]
  },
  {
   "cell_type": "code",
   "execution_count": 6,
   "id": "2a855d31",
   "metadata": {},
   "outputs": [
    {
     "name": "stdout",
     "output_type": "stream",
     "text": [
      "[42  2  3  4  5]\n",
      "[1 2 3 4 5]\n"
     ]
    }
   ],
   "source": [
    "import numpy as np\n",
    "\n",
    "arr = np.array([1, 2, 3, 4, 5])\n",
    "x = arr.copy()\n",
    "arr[0] = 42\n",
    "\n",
    "print(arr)\n",
    "print(x)\n"
   ]
  },
  {
   "cell_type": "markdown",
   "id": "d6f336cf",
   "metadata": {},
   "source": [
    "La copie **NE DOIT PAS** être affectée par les modifications apportées au tableau d'origine.\n",
    "\n",
    "## VUE :\n",
    "### Exemple\n",
    "\n",
    "Créez une vue, modifiez le tableau d'origine et affichez les deux tableaux :"
   ]
  },
  {
   "cell_type": "code",
   "execution_count": 8,
   "id": "4be28bde",
   "metadata": {},
   "outputs": [
    {
     "name": "stdout",
     "output_type": "stream",
     "text": [
      "[42  2  3  4  5]\n",
      "[42  2  3  4  5]\n"
     ]
    }
   ],
   "source": [
    "arr = np.array([1, 2, 3, 4, 5])\n",
    "x = arr.view()\n",
    "arr[0] = 42\n",
    "\n",
    "print(arr)\n",
    "print(x)"
   ]
  },
  {
   "cell_type": "markdown",
   "id": "1119196a",
   "metadata": {},
   "source": [
    "La vue **DOIT ÊTRE** affectée par les modifications apportées au tableau d'origine.\n",
    "\n",
    "## Effectuer des Changements dans la VUE :\n",
    "### Exemple\n",
    "\n",
    "Créez une vue, modifiez la vue et affichez les deux tableaux :"
   ]
  },
  {
   "cell_type": "code",
   "execution_count": 10,
   "id": "bad22906",
   "metadata": {},
   "outputs": [
    {
     "name": "stdout",
     "output_type": "stream",
     "text": [
      "[31  2  3  4  5]\n",
      "[31  2  3  4  5]\n"
     ]
    }
   ],
   "source": [
    "arr = np.array([1, 2, 3, 4, 5])\n",
    "x = arr.view()\n",
    "x[0] = 31\n",
    "\n",
    "print(arr)\n",
    "print(x)"
   ]
  },
  {
   "cell_type": "markdown",
   "id": "0c5cc1ae",
   "metadata": {},
   "source": [
    "## Vérifiez Si le Tableau Possède ses Données\n",
    "Comme mentionné précédemment, les copies possèdent les données, et les vues ne possèdent pas les données, mais comment pouvons-nous vérifier cela?\n",
    "\n",
    "Chaque tableau NumPy a l'attribut `base` qui renvoie `None` si le tableau possède les données.\n",
    "\n",
    "Sinon, l'attribut `base` se réfère à l'objet d'origine.\n",
    "\n",
    "### Exemple\n",
    "Imprimez la valeur de l'attribut `base` pour vérifier si un tableau possède ou non ses données :"
   ]
  },
  {
   "cell_type": "code",
   "execution_count": 11,
   "id": "55193cf6",
   "metadata": {},
   "outputs": [
    {
     "name": "stdout",
     "output_type": "stream",
     "text": [
      "None\n",
      "[1 2 3 4 5]\n"
     ]
    }
   ],
   "source": [
    "arr = np.array([1, 2, 3, 4, 5])\n",
    "\n",
    "x = arr.copy()\n",
    "y = arr.view()\n",
    "\n",
    "print(x.base)\n",
    "print(y.base)"
   ]
  },
  {
   "cell_type": "markdown",
   "id": "011f3c14",
   "metadata": {},
   "source": [
    ">La copie renvoie None.\n",
    "\n",
    ">La vue renvoie le tableau d'origine."
   ]
  }
 ],
 "metadata": {
  "kernelspec": {
   "display_name": "Python 3 (ipykernel)",
   "language": "python",
   "name": "python3"
  },
  "language_info": {
   "codemirror_mode": {
    "name": "ipython",
    "version": 3
   },
   "file_extension": ".py",
   "mimetype": "text/x-python",
   "name": "python",
   "nbconvert_exporter": "python",
   "pygments_lexer": "ipython3",
   "version": "3.11.5"
  }
 },
 "nbformat": 4,
 "nbformat_minor": 5
}
