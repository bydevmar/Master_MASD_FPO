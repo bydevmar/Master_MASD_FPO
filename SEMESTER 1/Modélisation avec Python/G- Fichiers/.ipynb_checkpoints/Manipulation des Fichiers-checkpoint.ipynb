{
 "cells": [
  {
   "cell_type": "markdown",
   "id": "1f484b6a",
   "metadata": {},
   "source": [
    "# Fichiers en Python\n",
    "\n",
    "## Table des matières\n",
    "- [Fichiers](#fichiers)\n",
    "  \n",
    "  "
   ]
  },
  {
   "attachments": {},
   "cell_type": "markdown",
   "id": "c847ec27",
   "metadata": {},
   "source": [
    "# Qu'est-ce qu'un Fichier ?\n",
    "\n",
    "Avant d'explorer comment travailler avec les fichiers en Python, il est important de comprendre ce qu'est exactement un fichier et comment les systèmes d'exploitation modernes gèrent certains de leurs aspects.\n",
    "\n",
    "À son cœur, un fichier est un ensemble continu d'octets utilisé pour stocker des données. Ces données sont organisées dans un format spécifique et peuvent être aussi simples qu'un fichier texte ou aussi complexes qu'un programme exécutable. En fin de compte, ces fichiers d'octets sont ensuite traduits en binaire 1 et 0 pour faciliter le traitement par l'ordinateur.\n",
    "\n",
    "Les fichiers sur la plupart des systèmes de fichiers modernes se composent de trois parties principales :\n",
    "\n",
    "1. **En-tête :** métadonnées sur le contenu du fichier (nom du fichier, taille, type, etc.)\n",
    "2. **Données :** contenu du fichier tel qu'écrit par le créateur ou l'éditeur\n",
    "3. **Fin de fichier (EOF) :** caractère spécial indiquant la fin du fichier\n",
    "\n",
    "![image.png](attachment:image.png)\n",
    "\n",
    "Ce que représentent ces données dépend de la spécification de format utilisée, généralement représentée par une extension. Par exemple, un fichier avec une extension .gif correspond probablement à la spécification du format Graphics Interchange Format. Il existe des centaines, voire des milliers, d'extensions de fichier. Pour ce cours, vous ne traiterez que les extensions de fichier .txt ou .csv.\n",
    "\n",
    "# Chemins de Fichiers\n",
    "\n",
    "Lorsque vous accédez à un fichier sur un système d'exploitation, un chemin de fichier est requis. Le chemin de fichier est une chaîne de caractères qui représente l'emplacement d'un fichier. Il est divisé en trois parties principales :\n",
    "\n",
    "1. **Chemin du Dossier :** l'emplacement du dossier sur le système de fichiers où les dossiers suivants sont séparés par une barre oblique / (Unix) ou un backslash \\ (Windows).\n",
    "2. **Nom du Fichier :** le nom réel du fichier.\n",
    "3. **Extension :** la fin du chemin du fichier précédée d'un point (.) indiquant le type de fichier.\n",
    "\n",
    "Voici un exemple rapide. Supposons que vous ayez un fichier situé dans une structure de dossier comme celle-ci :\n",
    "\n",
    "```plaintext\n",
    "/\n",
    "│\n",
    "├── path/\n",
    "|   │\n",
    "│   ├── to/\n",
    "│   │   └── cats.txt\n",
    "│   │\n",
    "│   └── dog_breeds.txt\n",
    "|\n",
    "└── animals.csv\n",
    "```\n",
    "\n",
    "Disons que vous vouliez accéder au fichier cats.txt, et que votre emplacement actuel était dans le même dossier que path. Pour accéder au fichier, vous devez passer par le dossier path puis le dossier to, pour enfin arriver au fichier cats.txt. Le Chemin du Dossier est path/to/. Le Nom du Fichier est cats. \n",
    "\n",
    "Mais que dire de dog_breeds.txt ? Comment y accéder sans utiliser le chemin complet ? Vous pouvez utiliser le caractère spécial double-point (..) pour remonter d'un répertoire. Cela signifie que ../dog_breeds.txt fera référence au fichier dog_breeds.txt dans le répertoire to.\n",
    "\n",
    "```plaintext\n",
    "/\n",
    "│\n",
    "├── path/  ← Faisant référence à ce dossier parent\n",
    "|   │\n",
    "|   ├── to/  ← Répertoire de travail actuel (cwd)\n",
    "|   │   └── cats.gif\n",
    "|   │\n",
    "|   └── dog_breeds.txt  ← Accès à ce fichier\n",
    "|\n",
    "└── animals.csv\n",
    "```\n",
    "\n",
    "# Ouverture et Fermeture d'un Fichier en Python\n",
    "\n",
    "Lorsque vous souhaitez travailler avec un fichier, la première étape consiste à l'ouvrir. Cela se fait en invoquant la fonction intégrée `open()`. \n",
    "`open()` a un seul argument requis, le chemin vers le fichier. `open()` retourne un seul objet fichier :"
   ]
  },
  {
   "cell_type": "code",
   "execution_count": 1,
   "id": "81795e74",
   "metadata": {},
   "outputs": [
    {
     "data": {
      "text/plain": [
       "_io.TextIOWrapper"
      ]
     },
     "execution_count": 1,
     "metadata": {},
     "output_type": "execute_result"
    }
   ],
   "source": [
    "file = open('cars.txt')\n",
    "type(file)"
   ]
  },
  {
   "cell_type": "markdown",
   "id": "2f719169",
   "metadata": {},
   "source": [
    "Après avoir ouvert un fichier, la prochaine chose à apprendre est comment le fermer.\n",
    "\n",
    "**Avertissement :** Vous devriez toujours vous assurer qu'un fichier ouvert est correctement fermé. Fermer les fichiers en Python libère les ressources système, assure l'enregistrement des modifications, et prévient les erreurs.\n",
    "\n",
    "Lorsque vous manipulez un fichier, il existe deux façons de vous assurer qu'un fichier est correctement fermé, même en cas d'erreur. La première façon de fermer un fichier est d'utiliser le bloc try-finally :\n"
   ]
  },
  {
   "cell_type": "code",
   "execution_count": null,
   "id": "808d6e05",
   "metadata": {},
   "outputs": [],
   "source": [
    "reader = open('cars.txt')\n",
    "try:\n",
    "    # Traitement supplémentaire du fichier va ici\n",
    "finally:\n",
    "    reader.close()"
   ]
  },
  {
   "cell_type": "markdown",
   "id": "ce2db08a",
   "metadata": {},
   "source": [
    "La deuxième façon de fermer un fichier est d'utiliser l'instruction `with` :\n",
    "L'instruction `with` prend automatiquement en charge la fermeture du fichier une fois qu'elle quitte le bloc `with`, même en cas d'erreur."
   ]
  },
  {
   "cell_type": "code",
   "execution_count": null,
   "id": "affb669e",
   "metadata": {},
   "outputs": [],
   "source": [
    "with open('cars.txt') as reader:\n",
    "    # Traitement supplémentaire du fichier va ici"
   ]
  },
  {
   "cell_type": "markdown",
   "id": "17c00a23",
   "metadata": {},
   "source": [
    "Il est probable que vous voudrez également utiliser le deuxième argument positionnel, `mode`. Cet argument est une chaîne de caractères qui contient plusieurs caractères pour représenter comment vous souhaitez ouvrir le fichier. La valeur par défaut et la plus courante est 'r', qui représente l'ouverture du fichier en mode lecture seule en tant que fichier texte :"
   ]
  },
  {
   "cell_type": "code",
   "execution_count": null,
   "id": "3c06d90b",
   "metadata": {},
   "outputs": [],
   "source": [
    "with open('dog_breeds.txt', 'r') as reader:\n",
    "    # Traitement supplémentaire du fichier va ici"
   ]
  },
  {
   "cell_type": "markdown",
   "id": "a5770c09",
   "metadata": {},
   "source": [
    "**Voici un tableau résumant les modes d'ouverture de fichiers les plus courants en Python :**\n",
    "\n",
    "| Mode | Description |\n",
    "|---|---|\n",
    "| **'r' (lecture)** | Ouvre un fichier en lecture seule. Génère une erreur si le fichier n'existe pas. |\n",
    "| **'w' (écriture)** | Ouvre un fichier en écriture seule. Crée un nouveau fichier s'il n'existe pas, sinon écrase le contenu existant. |\n",
    "| **'a' (ajout)** | Ouvre un fichier pour l'ajout (ajouter du contenu à la fin). Crée un nouveau fichier s'il n'existe pas. |\n",
    "| **'r+' (lecture et écriture)** | Ouvre un fichier à la fois en lecture et en écriture. Génère une erreur si le fichier n'existe pas. |\n",
    "| **'w+' (écriture et lecture)** | Ouvre un fichier à la fois en écriture et en lecture, mais écrase le contenu existant. Crée un nouveau fichier s'il n'existe pas. |\n",
    "\n",
    "**Points clés :**\n",
    "\n",
    "* **Considérez les modes binaires** (`'rb'`, `'wb'`, `'ab'`) pour les fichiers non textuels comme les images et l'audio.\n",
    "* **Choisissez le mode approprié** en fonction de vos opérations prévues.\n",
    "* **Soyez prudent avec les modes d'écriture** (`'w'`, `'w+'`) pour éviter la perte accidentelle de données."
   ]
  },
  {
   "cell_type": "markdown",
   "id": "f3f94c59",
   "metadata": {},
   "source": [
    "\n"
   ]
  },
  {
   "cell_type": "code",
   "execution_count": null,
   "id": "92c9cd1d",
   "metadata": {},
   "outputs": [],
   "source": []
  },
  {
   "cell_type": "code",
   "execution_count": null,
   "id": "d083f366",
   "metadata": {},
   "outputs": [],
   "source": []
  },
  {
   "cell_type": "code",
   "execution_count": null,
   "id": "d5aed2b2",
   "metadata": {},
   "outputs": [],
   "source": []
  },
  {
   "cell_type": "code",
   "execution_count": null,
   "id": "a5d93464",
   "metadata": {},
   "outputs": [],
   "source": []
  }
 ],
 "metadata": {
  "kernelspec": {
   "display_name": "Python 3 (ipykernel)",
   "language": "python",
   "name": "python3"
  },
  "language_info": {
   "codemirror_mode": {
    "name": "ipython",
    "version": 3
   },
   "file_extension": ".py",
   "mimetype": "text/x-python",
   "name": "python",
   "nbconvert_exporter": "python",
   "pygments_lexer": "ipython3",
   "version": "3.11.5"
  }
 },
 "nbformat": 4,
 "nbformat_minor": 5
}
