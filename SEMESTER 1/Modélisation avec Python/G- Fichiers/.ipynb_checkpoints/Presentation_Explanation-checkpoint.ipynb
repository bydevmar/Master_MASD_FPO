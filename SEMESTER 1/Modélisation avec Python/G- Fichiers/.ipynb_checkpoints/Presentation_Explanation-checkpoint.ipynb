{
 "cells": [
  {
   "cell_type": "markdown",
   "id": "726ced8d",
   "metadata": {},
   "source": [
    "# Manipulation des Fichier Avec PYTHON"
   ]
  },
  {
   "attachments": {},
   "cell_type": "markdown",
   "id": "4d377ba2",
   "metadata": {},
   "source": [
    "## 1- Qu'est-ce qu'un Fichier ?"
   ]
  },
  {
   "cell_type": "code",
   "execution_count": null,
   "id": "de7d9007",
   "metadata": {},
   "outputs": [],
   "source": []
  },
  {
   "attachments": {},
   "cell_type": "markdown",
   "id": "d5e32cb4",
   "metadata": {},
   "source": [
    "## 2- Comprendre les Chemins de Fichiers :"
   ]
  },
  {
   "cell_type": "code",
   "execution_count": null,
   "id": "b990e249",
   "metadata": {},
   "outputs": [],
   "source": []
  },
  {
   "attachments": {},
   "cell_type": "markdown",
   "id": "04c2a5c4",
   "metadata": {},
   "source": [
    "## 3- Ouverture et Fermeture de Fichiers : "
   ]
  },
  {
   "cell_type": "code",
   "execution_count": null,
   "id": "4f264202",
   "metadata": {},
   "outputs": [],
   "source": []
  },
  {
   "attachments": {},
   "cell_type": "markdown",
   "id": "bdb93750",
   "metadata": {},
   "source": [
    "## 4- Lecture de Fichiers : \n",
    "\n",
    "### 4-1 Read()"
   ]
  },
  {
   "cell_type": "code",
   "execution_count": 1,
   "id": "4875b7f8",
   "metadata": {
    "scrolled": true
   },
   "outputs": [
    {
     "name": "stdout",
     "output_type": "stream",
     "text": [
      "Land Rover Defender: The king of all-terrain vehicles\n",
      "Tesla Model S: The epitome of electric luxury\n",
      "Porsche 911: Few cars inspire as much passion as the Porsche 911\n",
      "Volkswagen Golf GTI: The hot hatch that started it all\n",
      "Toyota Prius: The pioneer of hybrid cars\n"
     ]
    }
   ],
   "source": [
    "with open('cars.txt', 'r') as reader:\n",
    "    # Lit et imprime le fichier entier\n",
    "    print(reader.read())"
   ]
  },
  {
   "cell_type": "markdown",
   "id": "a480b4e4",
   "metadata": {},
   "source": [
    "### 4-2 Readline"
   ]
  },
  {
   "cell_type": "code",
   "execution_count": 2,
   "id": "9cd1b8b1",
   "metadata": {
    "scrolled": true
   },
   "outputs": [
    {
     "name": "stdout",
     "output_type": "stream",
     "text": [
      "Land \n",
      "Rover\n",
      " Defe\n",
      "nder:\n",
      " The \n"
     ]
    }
   ],
   "source": [
    "with open('cars.txt', 'r') as reader:\n",
    "    # Lit et imprime les 5 premiers caractères de la ligne 5 fois\n",
    "    print(reader.readline(5))\n",
    "    # Remarquez que la ligne est plus longue que les 5 caractères et continue\n",
    "    # sur la ligne, lisant 5 caractères à chaque fois jusqu'à la fin de la\n",
    "    # ligne, puis \"reboucle\"\n",
    "    print(reader.readline(5))\n",
    "    print(reader.readline(5))\n",
    "    print(reader.readline(5))\n",
    "    print(reader.readline(5))"
   ]
  },
  {
   "cell_type": "markdown",
   "id": "d489c045",
   "metadata": {},
   "source": [
    "### 4-3 Readlines"
   ]
  },
  {
   "cell_type": "code",
   "execution_count": 4,
   "id": "7133f4ca",
   "metadata": {
    "scrolled": true
   },
   "outputs": [
    {
     "data": {
      "text/plain": [
       "['Land Rover Defender: The king of all-terrain vehicles\\n',\n",
       " 'Tesla Model S: The epitome of electric luxury\\n',\n",
       " 'Porsche 911: Few cars inspire as much passion as the Porsche 911\\n',\n",
       " 'Volkswagen Golf GTI: The hot hatch that started it all\\n',\n",
       " 'Toyota Prius: The pioneer of hybrid cars']"
      ]
     },
     "execution_count": 4,
     "metadata": {},
     "output_type": "execute_result"
    }
   ],
   "source": [
    "fichier = open('cars.txt')\n",
    "listeDesLignes = fichier.readlines()  # Renvoie un objet liste\n",
    "listeDesLignes"
   ]
  },
  {
   "cell_type": "markdown",
   "id": "643ea2c2",
   "metadata": {},
   "source": [
    "### list "
   ]
  },
  {
   "cell_type": "code",
   "execution_count": null,
   "id": "2087ca08",
   "metadata": {},
   "outputs": [],
   "source": [
    "f = open('cars.txt')\n",
    "list(f)"
   ]
  },
  {
   "cell_type": "code",
   "execution_count": null,
   "id": "c03a3cf0",
   "metadata": {},
   "outputs": [],
   "source": []
  },
  {
   "cell_type": "code",
   "execution_count": null,
   "id": "c189a16c",
   "metadata": {},
   "outputs": [],
   "source": []
  },
  {
   "attachments": {},
   "cell_type": "markdown",
   "id": "c8502144",
   "metadata": {},
   "source": [
    "## 5- Écriture dans des Fichiers : "
   ]
  },
  {
   "cell_type": "code",
   "execution_count": null,
   "id": "886d19f7",
   "metadata": {},
   "outputs": [],
   "source": []
  },
  {
   "attachments": {},
   "cell_type": "markdown",
   "id": "c9e00f55",
   "metadata": {},
   "source": [
    "## 6- Extras: "
   ]
  },
  {
   "cell_type": "markdown",
   "id": "bb82cae7",
   "metadata": {},
   "source": []
  }
 ],
 "metadata": {
  "kernelspec": {
   "display_name": "Python 3 (ipykernel)",
   "language": "python",
   "name": "python3"
  },
  "language_info": {
   "codemirror_mode": {
    "name": "ipython",
    "version": 3
   },
   "file_extension": ".py",
   "mimetype": "text/x-python",
   "name": "python",
   "nbconvert_exporter": "python",
   "pygments_lexer": "ipython3",
   "version": "3.11.5"
  }
 },
 "nbformat": 4,
 "nbformat_minor": 5
}
