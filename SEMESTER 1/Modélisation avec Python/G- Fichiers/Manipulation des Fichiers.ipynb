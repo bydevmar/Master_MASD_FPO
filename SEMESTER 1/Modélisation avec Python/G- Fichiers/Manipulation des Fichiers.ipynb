{
 "cells": [
  {
   "cell_type": "markdown",
   "id": "0b13f6a2",
   "metadata": {},
   "source": [
    "# MANIPULATION DES FICHIERS AVEC PYTHON"
   ]
  },
  {
   "attachments": {},
   "cell_type": "markdown",
   "id": "3222bf0d",
   "metadata": {},
   "source": [
    "# Qu'est-ce qu'un Fichier ?\n",
    "\n",
    "Avant d'explorer comment travailler avec les fichiers en Python, il est important de comprendre ce qu'est exactement un fichier et comment les systèmes d'exploitation modernes gèrent certains de leurs aspects.\n",
    "\n",
    "À son cœur, un fichier est un ensemble continu d'octets utilisé pour stocker des données. Ces données sont organisées dans un format spécifique et peuvent être aussi simples qu'un fichier texte ou aussi complexes qu'un programme exécutable. En fin de compte, ces fichiers d'octets sont ensuite traduits en binaire 1 et 0 pour faciliter le traitement par l'ordinateur.\n",
    "\n",
    "Les fichiers sur la plupart des systèmes de fichiers modernes se composent de trois parties principales :\n",
    "\n",
    "1. **En-tête :** métadonnées sur le contenu du fichier (nom du fichier, taille, type, etc.)\n",
    "2. **Données :** contenu du fichier tel qu'écrit par le créateur ou l'éditeur\n",
    "3. **Fin de fichier (EOF) :** caractère spécial indiquant la fin du fichier\n",
    "\n",
    "![image.png](attachment:image.png)\n",
    "Ce que représentent ces données dépend de la spécification de format utilisée, généralement représentée par une extension. Par exemple, un fichier avec une extension .gif correspond probablement à la spécification du format Graphics Interchange Format. Il existe des centaines, voire des milliers, d'extensions de fichier. Pour ce cours, vous ne traiterez que les extensions de fichier .txt ou .csv.\n",
    "\n",
    "# Chemins de Fichiers\n",
    "\n",
    "Lorsque vous accédez à un fichier sur un système d'exploitation, un chemin de fichier est requis. Le chemin de fichier est une chaîne de caractères qui représente l'emplacement d'un fichier. Il est divisé en trois parties principales :\n",
    "\n",
    "1. **Chemin du Dossier :** l'emplacement du dossier sur le système de fichiers où les dossiers suivants sont séparés par une barre oblique / (Unix) ou un backslash \\ (Windows).\n",
    "2. **Nom du Fichier :** le nom réel du fichier.\n",
    "3. **Extension :** la fin du chemin du fichier précédée d'un point (.) indiquant le type de fichier.\n",
    "\n",
    "Voici un exemple rapide. Supposons que vous ayez un fichier situé dans une structure de dossier comme celle-ci :\n",
    "\n",
    "```plaintext\n",
    "/\n",
    "│\n",
    "├── path/  \n",
    "|   │\n",
    "|   ├── vehicules/ \n",
    "|   │   └── cars.txt\n",
    "|   |   └── motos.txt\n",
    "|   |   └── trucks.txt\n",
    "|   │\n",
    "|   └── planes.txt  \n",
    "|\n",
    "└── review.csv\n",
    "```\n",
    "\n",
    "Disons que vous vouliez accéder au fichier cars.txt, et que votre emplacement actuel était dans le même dossier que \"path\". Pour accéder au fichier, vous devez passer par le dossier \"path\" puis le dossier \"vehicules\", pour enfin arriver au fichier cars.txt. Le Chemin du Dossier est path/vehicules/. Le Nom du Fichier est cars. \n",
    "\n",
    "Mais que dire de planes.txt ? Comment y accéder sans utiliser le chemin complet ? Vous pouvez utiliser le caractère spécial double-point (..) pour remonter d'un répertoire. Cela signifie que ../planes.txt fera référence au fichier planes.txt dans le répertoire path.\n",
    "\n",
    "```plaintext\n",
    "/\n",
    "│\n",
    "├── path/  ← Faisant référence à ce dossier parent\n",
    "|   │\n",
    "|   ├── vehicules/  ← Répertoire de travail actuel (cwd)\n",
    "|   │   └── cars.txt\n",
    "|   |   └── motos.txt\n",
    "|   |   └── trucks.txt\n",
    "|   │\n",
    "|   └── planes.txt  ← Accès à ce fichier\n",
    "|\n",
    "└── review.csv\n",
    "```\n",
    "\n",
    "# Ouverture et Fermeture d'un Fichier en Python\n",
    "\n",
    "Lorsque vous souhaitez travailler avec un fichier, la première étape consiste à l'ouvrir. Cela se fait en invoquant la fonction intégrée `open()`. \n",
    "`open()` a un seul argument requis, le chemin vers le fichier. `open()` retourne un seul objet fichier :"
   ]
  },
  {
   "cell_type": "code",
   "execution_count": 3,
   "id": "7bdeb672",
   "metadata": {},
   "outputs": [
    {
     "data": {
      "text/plain": [
       "_io.TextIOWrapper"
      ]
     },
     "execution_count": 3,
     "metadata": {},
     "output_type": "execute_result"
    }
   ],
   "source": [
    "file = open('cars.txt')\n",
    "type(file)"
   ]
  },
  {
   "cell_type": "markdown",
   "id": "5f285130",
   "metadata": {},
   "source": [
    "Après avoir ouvert un fichier, la prochaine chose à apprendre est comment le fermer.\n",
    "\n",
    "**Avertissement :** Vous devriez toujours vous assurer qu'un fichier ouvert est correctement fermé. Fermer les fichiers en Python libère les ressources système, assure l'enregistrement des modifications, et prévient les erreurs.\n",
    "!!!!!!!!!!!!! Premier Façon : "
   ]
  },
  {
   "cell_type": "code",
   "execution_count": 4,
   "id": "104278fb",
   "metadata": {},
   "outputs": [],
   "source": [
    "file = open('cars.txt')\n",
    "file.close()"
   ]
  },
  {
   "cell_type": "markdown",
   "id": "afd73d3f",
   "metadata": {},
   "source": [
    "La deuxieme façon de fermer un fichier est d'utiliser l'instruction `with` :\n",
    "L'instruction `with` prend automatiquement en charge la fermeture du fichier une fois qu'elle quitte le bloc `with`, même en cas d'erreur."
   ]
  },
  {
   "cell_type": "code",
   "execution_count": 2,
   "id": "2a0f43fb",
   "metadata": {},
   "outputs": [
    {
     "name": "stdout",
     "output_type": "stream",
     "text": [
      "<_io.TextIOWrapper name='cars.txt' mode='r' encoding='cp1252'>\n"
     ]
    }
   ],
   "source": [
    "with open('cars.txt') as reader:\n",
    "    print(reader)\n",
    "    # Traitement supplémentaire du fichier va ici"
   ]
  },
  {
   "cell_type": "markdown",
   "id": "1c722ae4",
   "metadata": {},
   "source": [
    "Il est probable que vous voudrez également utiliser le deuxième argument positionnel, `mode`. Cet argument est une chaîne de caractères qui contient plusieurs caractères pour représenter comment vous souhaitez ouvrir le fichier. La valeur par défaut et la plus courante est 'r', qui représente l'ouverture du fichier en mode lecture seule en tant que fichier texte :"
   ]
  },
  {
   "cell_type": "code",
   "execution_count": 3,
   "id": "8992ac6b",
   "metadata": {},
   "outputs": [
    {
     "name": "stdout",
     "output_type": "stream",
     "text": [
      "<_io.TextIOWrapper name='cars.txt' mode='r' encoding='cp1252'>\n"
     ]
    }
   ],
   "source": [
    "with open('cars.txt', 'r') as reader:\n",
    "    print(reader)\n",
    "    # Traitement supplémentaire du fichier va ici"
   ]
  },
  {
   "cell_type": "markdown",
   "id": "af8e946f",
   "metadata": {},
   "source": [
    "**Voici un tableau résumant les modes d'ouverture de fichiers les plus courants en Python :**\n",
    "\n",
    "| Mode | Description |\n",
    "|---|---|\n",
    "| **'r' (lecture)** | Ouvre un fichier en lecture seule. Génère une erreur si le fichier n'existe pas. |\n",
    "| **'w' (écriture)** | Ouvre un fichier en écriture seule. Crée un nouveau fichier s'il n'existe pas, sinon écrase le contenu existant. |\n",
    "| **'a' (ajout)** | Ouvre un fichier pour l'ajout (ajouter du contenu à la fin). Crée un nouveau fichier s'il n'existe pas. |\n",
    "| **'r+' (lecture et écriture)** | Ouvre un fichier à la fois en lecture et en écriture. Génère une erreur si le fichier n'existe pas. |\n",
    "| **'w+' (écriture et lecture)** | Ouvre un fichier à la fois en écriture et en lecture, mais écrase le contenu existant. Crée un nouveau fichier s'il n'existe pas. |\n",
    "\n",
    "\n",
    "\n",
    "# Lecture et Écriture dans les Fichiers Ouverts\n",
    "\n",
    "# Lecture des Fichiers\n",
    "\n",
    "Une fois que vous avez ouvert un fichier, vous voudrez le lire ou écrire dedans. Tout d'abord, parlons de la lecture d'un fichier. Il existe plusieurs méthodes qui peuvent être appelées sur un objet fichier pour vous aider :\n",
    "\n",
    "| Méthode | Description |\n",
    "| --- | --- |\n",
    "| `.read(size=-1)` | Lit le nombre d'octets spécifié par la taille depuis le fichier. Si aucun argument n'est passé, None ou -1 est passé, alors le fichier entier est lu. |\n",
    "| `.readline(size=-1)` | Lit au plus la quantité spécifiée par la taille de caractères de la ligne. Cela continue jusqu'à la fin de la ligne, puis reboucle. Si aucun argument n'est passé, None ou -1 est passé, alors la ligne entière (ou le reste de la ligne) est lue. |\n",
    "| `.readlines()` | Lit les lignes restantes de l'objet fichier et les renvoie sous forme de liste. |\n",
    "\n",
    "En utilisant le même fichier `cars.txt` que précédemment, examinons quelques exemples d'utilisation de ces méthodes. Voici un exemple de comment ouvrir et lire le fichier entier avec `.read()` :"
   ]
  },
  {
   "cell_type": "code",
   "execution_count": 7,
   "id": "290c5f18",
   "metadata": {
    "scrolled": true
   },
   "outputs": [
    {
     "name": "stdout",
     "output_type": "stream",
     "text": [
      "Land Rover Defender: The king of all-terrain vehicles\n",
      "Tesla Model S: The epitome of electric luxury\n",
      "Porsche 911: Few cars inspire as much passion as the Porsche 911\n",
      "Volkswagen Golf GTI: The hot hatch that started it all\n",
      "Toyota Prius: The pioneer of hybrid cars\n"
     ]
    }
   ],
   "source": [
    "with open('cars.txt', 'r') as reader:\n",
    "    # Lit et imprime le fichier entier\n",
    "    print(reader.read())"
   ]
  },
  {
   "cell_type": "markdown",
   "id": "69c42edd",
   "metadata": {},
   "source": [
    "Voici un exemple de lecture de 5 octets de chaque ligne à l'aide de la méthode `.readline()` de Python :"
   ]
  },
  {
   "cell_type": "markdown",
   "id": "5c592819",
   "metadata": {},
   "source": [
    "\n"
   ]
  },
  {
   "cell_type": "code",
   "execution_count": 8,
   "id": "a831adf3",
   "metadata": {},
   "outputs": [
    {
     "name": "stdout",
     "output_type": "stream",
     "text": [
      "Land \n",
      "Rover\n",
      " Defe\n",
      "nder:\n",
      " The \n"
     ]
    }
   ],
   "source": [
    "with open('cars.txt', 'r') as reader:\n",
    "    # Lit et imprime les 5 premiers caractères de la ligne 5 fois\n",
    "    print(reader.readline(5))\n",
    "    # Remarquez que la ligne est plus longue que les 5 caractères et continue\n",
    "    # sur la ligne, lisant 5 caractères à chaque fois jusqu'à la fin de la\n",
    "    # ligne, puis \"reboucle\"\n",
    "    print(reader.readline(5))\n",
    "    print(reader.readline(5))\n",
    "    print(reader.readline(5))\n",
    "    print(reader.readline(5))"
   ]
  },
  {
   "cell_type": "markdown",
   "id": "ee8a9168",
   "metadata": {},
   "source": [
    "Voici un exemple de lecture du fichier entier sous forme de liste à l'aide de la méthode `.readlines()` de Python :"
   ]
  },
  {
   "cell_type": "code",
   "execution_count": 9,
   "id": "40e18411",
   "metadata": {},
   "outputs": [
    {
     "data": {
      "text/plain": [
       "['Land Rover Defender: The king of all-terrain vehicles\\n',\n",
       " 'Tesla Model S: The epitome of electric luxury\\n',\n",
       " 'Porsche 911: Few cars inspire as much passion as the Porsche 911\\n',\n",
       " 'Volkswagen Golf GTI: The hot hatch that started it all\\n',\n",
       " 'Toyota Prius: The pioneer of hybrid cars']"
      ]
     },
     "execution_count": 9,
     "metadata": {},
     "output_type": "execute_result"
    }
   ],
   "source": [
    "fichier = open('cars.txt')\n",
    "listeDesLignes = fichier.readlines()  # Renvoie un objet liste\n",
    "listeDesLignes"
   ]
  },
  {
   "cell_type": "markdown",
   "id": "799f9845",
   "metadata": {},
   "source": [
    "L'exemple ci-dessus peut également être réalisé en utilisant `list()` pour créer une liste à partir de l'objet fichier :"
   ]
  },
  {
   "cell_type": "code",
   "execution_count": 10,
   "id": "02d172b5",
   "metadata": {},
   "outputs": [
    {
     "data": {
      "text/plain": [
       "['Land Rover Defender: The king of all-terrain vehicles\\n',\n",
       " 'Tesla Model S: The epitome of electric luxury\\n',\n",
       " 'Porsche 911: Few cars inspire as much passion as the Porsche 911\\n',\n",
       " 'Volkswagen Golf GTI: The hot hatch that started it all\\n',\n",
       " 'Toyota Prius: The pioneer of hybrid cars']"
      ]
     },
     "execution_count": 10,
     "metadata": {},
     "output_type": "execute_result"
    }
   ],
   "source": [
    "f = open('cars.txt')\n",
    "list(f)"
   ]
  },
  {
   "cell_type": "markdown",
   "id": "730d3768",
   "metadata": {},
   "source": [
    "## Itération sur Chaque Ligne du Fichier\n",
    "\n",
    "Une chose courante à faire lors de la lecture d'un fichier est d'itérer sur chaque ligne. Voici un exemple de comment utiliser la méthode `.readline()` de Python pour effectuer cette itération :\n"
   ]
  },
  {
   "cell_type": "code",
   "execution_count": 11,
   "id": "d10ac38e",
   "metadata": {},
   "outputs": [
    {
     "name": "stdout",
     "output_type": "stream",
     "text": [
      "Land Rover Defender: The king of all-terrain vehicles\n",
      "Tesla Model S: The epitome of electric luxury\n",
      "Porsche 911: Few cars inspire as much passion as the Porsche 911\n",
      "Volkswagen Golf GTI: The hot hatch that started it all\n",
      "Toyota Prius: The pioneer of hybrid cars"
     ]
    }
   ],
   "source": [
    "with open('cars.txt', 'r') as reader:\n",
    "    # Lit et imprime le fichier entier ligne par ligne\n",
    "    line = reader.readline()\n",
    "    while line != '':  # Le caractère de fin de fichier est une chaîne vide\n",
    "        print(line, end='')\n",
    "        line = reader.readline()"
   ]
  },
  {
   "cell_type": "markdown",
   "id": "08e5f3ed",
   "metadata": {},
   "source": [
    "Une autre façon d'itérer sur chaque ligne du fichier est d'utiliser la méthode `.readlines()` de l'objet fichier. N'oubliez pas que `.readlines()` renvoie une liste où chaque élément dans la liste représente une ligne dans le fichier :"
   ]
  },
  {
   "cell_type": "code",
   "execution_count": 12,
   "id": "c3c6da86",
   "metadata": {},
   "outputs": [
    {
     "name": "stdout",
     "output_type": "stream",
     "text": [
      "Land Rover Defender: The king of all-terrain vehicles\n",
      "Tesla Model S: The epitome of electric luxury\n",
      "Porsche 911: Few cars inspire as much passion as the Porsche 911\n",
      "Volkswagen Golf GTI: The hot hatch that started it all\n",
      "Toyota Prius: The pioneer of hybrid cars"
     ]
    }
   ],
   "source": [
    "with open('cars.txt', 'r') as reader:\n",
    "    for line in reader.readlines():\n",
    "        print(line, end='')"
   ]
  },
  {
   "cell_type": "markdown",
   "id": "e41ec6df",
   "metadata": {},
   "source": [
    "Cependant, les exemples ci-dessus peuvent être simplifiés en itérant directement sur l'objet fichier lui-même :"
   ]
  },
  {
   "cell_type": "code",
   "execution_count": 13,
   "id": "923f9431",
   "metadata": {},
   "outputs": [
    {
     "name": "stdout",
     "output_type": "stream",
     "text": [
      "Land Rover Defender: The king of all-terrain vehicles\n",
      "Tesla Model S: The epitome of electric luxury\n",
      "Porsche 911: Few cars inspire as much passion as the Porsche 911\n",
      "Volkswagen Golf GTI: The hot hatch that started it all\n",
      "Toyota Prius: The pioneer of hybrid cars"
     ]
    }
   ],
   "source": [
    "with open('cars.txt', 'r') as reader:\n",
    "    # Lit et imprime le fichier entier ligne par ligne\n",
    "    for line in reader:\n",
    "        print(line, end='')"
   ]
  },
  {
   "cell_type": "markdown",
   "id": "5b09eb3a",
   "metadata": {},
   "source": [
    "Cette approche finale est plus pythonique et peut être plus rapide et plus efficace en mémoire. Par conséquent, il est recommandé de l'utiliser à la place.\n",
    "\n",
    "**Note :** Certains des exemples ci-dessus contiennent `print('some text', end='')`. L'argument `end=''` sert à empêcher Python d'ajouter une nouvelle ligne supplémentaire au texte qui est imprimé et n'imprime que ce qui est lu depuis le fichier.\n",
    "\n",
    "## Écriture des fichiers\n",
    "\n",
    "Maintenant, plongeons dans l'écriture de fichiers. Tout comme pour la lecture de fichiers, les objets fichier ont plusieurs méthodes utiles pour écrire dans un fichier :\n",
    "\n",
    "| Méthode | Description |\n",
    "| --- | --- |\n",
    "| `.write(string)` | Écrit la chaîne dans le fichier. |\n",
    "| `.writelines(seq)` | Écrit la séquence dans le fichier. Aucune fin de ligne n'est ajoutée à chaque élément de la séquence. C'est à vous d'ajouter les fins de ligne appropriées. |\n",
    "\n",
    "Voici un exemple rapide d'utilisation de `.write()` et `.writelines()` :"
   ]
  },
  {
   "cell_type": "code",
   "execution_count": 15,
   "id": "78ebd34f",
   "metadata": {
    "scrolled": true
   },
   "outputs": [
    {
     "name": "stdout",
     "output_type": "stream",
     "text": [
      "Cars file : \n",
      "\n",
      " \n",
      "\n",
      "Reversed file : \n",
      "\n",
      "Toyota Prius: The pioneer of hybrid carsVolkswagen Golf GTI: The hot hatch that started it all\n",
      "Porsche 911: Few cars inspire as much passion as the Porsche 911\n",
      "Tesla Model S: The epitome of electric luxury\n",
      "Land Rover Defender: The king of all-terrain vehicles\n",
      " \n",
      "\n",
      "en utilisent writelines\n",
      "Toyota Prius: The pioneer of hybrid carsVolkswagen Golf GTI: The hot hatch that started it all\n",
      "Porsche 911: Few cars inspire as much passion as the Porsche 911\n",
      "Tesla Model S: The epitome of electric luxury\n",
      "Land Rover Defender: The king of all-terrain vehicles\n"
     ]
    }
   ],
   "source": [
    "print(\"Cars file : \\n\")\n",
    "with open('cars.txt', 'r') as reader:\n",
    "    cars = list(reader)\n",
    "    for line in reader:\n",
    "        print(line, end='')\n",
    "    \n",
    "\n",
    "with open('cars_reversed.txt', 'w') as writer:\n",
    "    # Alternativement, vous pourriez utiliser\n",
    "    # writer.writelines(reversed(cars))\n",
    "\n",
    "    # Écrit les voitures dans l'ordre inverse\n",
    "    for car in reversed(cars):\n",
    "        writer.write(car)\n",
    "print(\" \\n\")\n",
    "print(\"Reversed file : \\n\")\n",
    "with open('cars_reversed.txt', 'r') as reader:\n",
    "    for line in reader:\n",
    "        print(line, end='')\n",
    "        \n",
    "        \n",
    "print(\" \\n\")\n",
    "print(\"en utilisent writelines\")\n",
    "#en utilisent writelines  \n",
    "with open('cars_reversed_readlines.txt', 'w') as writer:\n",
    "    writer.writelines(reversed(cars))\n",
    "\n",
    "with open('cars_reversed_readlines.txt', 'r') as reader:\n",
    "    for line in reader:\n",
    "        print(line, end='')\n",
    "    "
   ]
  },
  {
   "cell_type": "markdown",
   "id": "80316cca",
   "metadata": {},
   "source": [
    "## EXTRAS\n",
    "## Écriture d'une chaîne dans un fichier binaire \n",
    "   \n",
    "   Ajoutez une section sur l'écriture et la lecture de fichiers binaires. Montrez comment ouvrir un fichier en mode binaire ('wb' pour écriture binaire, 'rb' pour lecture binaire) et écrire une chaîne binaire dans le fichier. Vous pouvez également ajouter un exemple de lecture de ce fichier binaire."
   ]
  },
  {
   "cell_type": "code",
   "execution_count": 7,
   "id": "b47ac37d",
   "metadata": {},
   "outputs": [],
   "source": [
    "with open('other_files/binary_file.bin', 'wb') as binary_writer:\n",
    "    binary_writer.write(b'Master MASD')"
   ]
  },
  {
   "cell_type": "code",
   "execution_count": 6,
   "id": "b8fcb97e",
   "metadata": {
    "scrolled": true
   },
   "outputs": [
    {
     "name": "stdout",
     "output_type": "stream",
     "text": [
      "b'Master MASD'\n"
     ]
    }
   ],
   "source": [
    "with open('other_files/binary_file.bin', 'rb') as binary_reader:\n",
    "    binary_data = binary_reader.read()\n",
    "    print(binary_data)"
   ]
  },
  {
   "cell_type": "markdown",
   "id": "d6d483ba",
   "metadata": {},
   "source": [
    "2. **Lecture de fichiers JSON, XML et CSV :**\n",
    "\n",
    "   Ajoutez une section sur la lecture de fichiers JSON, XML et CSV, car ce sont des formats de fichier couramment utilisés dans le traitement des données.\n",
    "\n",
    "   - **Lecture de JSON :**"
   ]
  },
  {
   "cell_type": "code",
   "execution_count": 9,
   "id": "d1341f9f",
   "metadata": {},
   "outputs": [
    {
     "ename": "IndentationError",
     "evalue": "unexpected indent (3511426577.py, line 3)",
     "output_type": "error",
     "traceback": [
      "\u001b[1;36m  Cell \u001b[1;32mIn[9], line 3\u001b[1;36m\u001b[0m\n\u001b[1;33m    with open('other_files/data.json', 'r') as json_file:\u001b[0m\n\u001b[1;37m    ^\u001b[0m\n\u001b[1;31mIndentationError\u001b[0m\u001b[1;31m:\u001b[0m unexpected indent\n"
     ]
    }
   ],
   "source": [
    "import json\n",
    "\n",
    "    with open('other_files/data.json', 'r') as json_file:\n",
    "        data = json.load(json_file)\n",
    "        print(data)"
   ]
  },
  {
   "cell_type": "markdown",
   "id": "387c90bd",
   "metadata": {},
   "source": [
    "  - **Lecture de XML :**"
   ]
  },
  {
   "cell_type": "code",
   "execution_count": 8,
   "id": "00be7eea",
   "metadata": {},
   "outputs": [
    {
     "ename": "IndentationError",
     "evalue": "unexpected indent (2268931031.py, line 3)",
     "output_type": "error",
     "traceback": [
      "\u001b[1;36m  Cell \u001b[1;32mIn[8], line 3\u001b[1;36m\u001b[0m\n\u001b[1;33m    tree = ET.parse('data.xml')\u001b[0m\n\u001b[1;37m    ^\u001b[0m\n\u001b[1;31mIndentationError\u001b[0m\u001b[1;31m:\u001b[0m unexpected indent\n"
     ]
    }
   ],
   "source": [
    "import xml.etree.ElementTree as ET\n",
    "\n",
    "    tree = ET.parse('data.xml')\n",
    "    root = tree.getroot()\n",
    "\n",
    "    for element in root:\n",
    "        print(element.tag, element.text)"
   ]
  },
  {
   "cell_type": "markdown",
   "id": "6f67b528",
   "metadata": {},
   "source": [
    "   - **Lecture de CSV :**"
   ]
  },
  {
   "cell_type": "code",
   "execution_count": null,
   "id": "6095f5bf",
   "metadata": {},
   "outputs": [],
   "source": [
    " import csv\n",
    "\n",
    "    with open('data.csv', 'r') as csv_file:\n",
    "        csv_reader = csv.reader(csv_file)\n",
    "        for row in csv_reader:\n",
    "            print(row)"
   ]
  },
  {
   "cell_type": "markdown",
   "id": "8b229bbc",
   "metadata": {},
   "source": [
    "3. **Élargissement de la section sur l'écriture de fichiers :**\n",
    "\n",
    "   Ajoutez des exemples plus détaillés sur l'écriture de fichiers, y compris l'utilisation de la méthode `.write()` pour écrire des chaînes, et la méthode `.writelines()` pour écrire une liste de lignes."
   ]
  },
  {
   "cell_type": "code",
   "execution_count": null,
   "id": "cef72239",
   "metadata": {},
   "outputs": [],
   "source": [
    "# Écriture de chaînes dans un fichier\n",
    "with open('output.txt', 'w') as text_writer:\n",
    "    text_writer.write(\"Hello, this is a text file.\")\n",
    "\n",
    "# Écriture de lignes à partir d'une liste\n",
    "lines_to_write = ['Line 1\\n', 'Line 2\\n', 'Line 3\\n']\n",
    "\n",
    "with open('output_lines.txt', 'w') as lines_writer:\n",
    "    lines_writer.writelines(lines_to_write)"
   ]
  },
  {
   "cell_type": "markdown",
   "id": "5437adb6",
   "metadata": {},
   "source": [
    "4. **Ajout de remarques sur les gestionnaires de contexte (with) :**\n",
    "\n",
    "   Renforcez l'importance des gestionnaires de contexte (with) pour garantir que les fichiers sont correctement fermés, en particulier lors de l'écriture de données dans un fichier.\n"
   ]
  },
  {
   "cell_type": "code",
   "execution_count": 4,
   "id": "73f98356",
   "metadata": {},
   "outputs": [],
   "source": [
    "with open('output.txt', 'w') as text_writer:\n",
    "    text_writer.write(\"Hello, this is a text file.\")\n",
    "# Le fichier est automatiquement fermé à la sortie du bloc with"
   ]
  }
 ],
 "metadata": {
  "kernelspec": {
   "display_name": "Python 3 (ipykernel)",
   "language": "python",
   "name": "python3"
  },
  "language_info": {
   "codemirror_mode": {
    "name": "ipython",
    "version": 3
   },
   "file_extension": ".py",
   "mimetype": "text/x-python",
   "name": "python",
   "nbconvert_exporter": "python",
   "pygments_lexer": "ipython3",
   "version": "3.11.5"
  }
 },
 "nbformat": 4,
 "nbformat_minor": 5
}
