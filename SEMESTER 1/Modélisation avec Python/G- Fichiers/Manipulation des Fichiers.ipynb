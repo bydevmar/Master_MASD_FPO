{
 "cells": [
  {
   "cell_type": "markdown",
   "id": "0b13f6a2",
   "metadata": {},
   "source": [
    "# Fichiers en Python\n",
    "\n",
    "## Table des matières\n",
    "- [Fichiers](#fichiers)\n",
    "  \n",
    "  "
   ]
  },
  {
   "cell_type": "markdown",
   "id": "3222bf0d",
   "metadata": {},
   "source": [
    "# Qu'est-ce qu'un Fichier ?\n",
    "\n",
    "Avant d'explorer comment travailler avec les fichiers en Python, il est important de comprendre ce qu'est exactement un fichier et comment les systèmes d'exploitation modernes gèrent certains de leurs aspects.\n",
    "\n",
    "À son cœur, un fichier est un ensemble continu d'octets utilisé pour stocker des données. Ces données sont organisées dans un format spécifique et peuvent être aussi simples qu'un fichier texte ou aussi complexes qu'un programme exécutable. En fin de compte, ces fichiers d'octets sont ensuite traduits en binaire 1 et 0 pour faciliter le traitement par l'ordinateur.\n",
    "\n",
    "Les fichiers sur la plupart des systèmes de fichiers modernes se composent de trois parties principales :\n",
    "\n",
    "1. **En-tête :** métadonnées sur le contenu du fichier (nom du fichier, taille, type, etc.)\n",
    "2. **Données :** contenu du fichier tel qu'écrit par le créateur ou l'éditeur\n",
    "3. **Fin de fichier (EOF) :** caractère spécial indiquant la fin du fichier\n",
    "\n",
    "![image.png](attachment:image.png)\n",
    "\n",
    "Ce que représentent ces données dépend de la spécification de format utilisée, généralement représentée par une extension. Par exemple, un fichier avec une extension .gif correspond probablement à la spécification du format Graphics Interchange Format. Il existe des centaines, voire des milliers, d'extensions de fichier. Pour ce cours, vous ne traiterez que les extensions de fichier .txt ou .csv.\n",
    "\n",
    "# Chemins de Fichiers\n",
    "\n",
    "Lorsque vous accédez à un fichier sur un système d'exploitation, un chemin de fichier est requis. Le chemin de fichier est une chaîne de caractères qui représente l'emplacement d'un fichier. Il est divisé en trois parties principales :\n",
    "\n",
    "1. **Chemin du Dossier :** l'emplacement du dossier sur le système de fichiers où les dossiers suivants sont séparés par une barre oblique / (Unix) ou un backslash \\ (Windows).\n",
    "2. **Nom du Fichier :** le nom réel du fichier.\n",
    "3. **Extension :** la fin du chemin du fichier précédée d'un point (.) indiquant le type de fichier.\n",
    "\n",
    "Voici un exemple rapide. Supposons que vous ayez un fichier situé dans une structure de dossier comme celle-ci :\n",
    "\n",
    "```plaintext\n",
    "/\n",
    "│\n",
    "├── path/\n",
    "|   │\n",
    "│   ├── to/\n",
    "│   │   └── cats.txt\n",
    "│   │\n",
    "│   └── dog_breeds.txt\n",
    "|\n",
    "└── animals.csv\n",
    "```\n",
    "\n",
    "Disons que vous vouliez accéder au fichier cats.txt, et que votre emplacement actuel était dans le même dossier que path. Pour accéder au fichier, vous devez passer par le dossier path puis le dossier to, pour enfin arriver au fichier cats.txt. Le Chemin du Dossier est path/to/. Le Nom du Fichier est cats. \n",
    "\n",
    "Mais que dire de dog_breeds.txt ? Comment y accéder sans utiliser le chemin complet ? Vous pouvez utiliser le caractère spécial double-point (..) pour remonter d'un répertoire. Cela signifie que ../dog_breeds.txt fera référence au fichier dog_breeds.txt dans le répertoire to.\n",
    "\n",
    "```plaintext\n",
    "/\n",
    "│\n",
    "├── path/  ← Faisant référence à ce dossier parent\n",
    "|   │\n",
    "|   ├── to/  ← Répertoire de travail actuel (cwd)\n",
    "|   │   └── cats.gif\n",
    "|   │\n",
    "|   └── dog_breeds.txt  ← Accès à ce fichier\n",
    "|\n",
    "└── animals.csv\n",
    "```\n",
    "\n",
    "# Ouverture et Fermeture d'un Fichier en Python\n",
    "\n",
    "Lorsque vous souhaitez travailler avec un fichier, la première étape consiste à l'ouvrir. Cela se fait en invoquant la fonction intégrée `open()`. \n",
    "`open()` a un seul argument requis, le chemin vers le fichier. `open()` retourne un seul objet fichier :"
   ]
  },
  {
   "cell_type": "code",
   "execution_count": 1,
   "id": "7bdeb672",
   "metadata": {},
   "outputs": [
    {
     "data": {
      "text/plain": [
       "_io.TextIOWrapper"
      ]
     },
     "execution_count": 1,
     "metadata": {},
     "output_type": "execute_result"
    }
   ],
   "source": [
    "file = open('cars.txt')\n",
    "type(file)"
   ]
  },
  {
   "cell_type": "markdown",
   "id": "5f285130",
   "metadata": {},
   "source": [
    "Après avoir ouvert un fichier, la prochaine chose à apprendre est comment le fermer.\n",
    "\n",
    "**Avertissement :** Vous devriez toujours vous assurer qu'un fichier ouvert est correctement fermé. Fermer les fichiers en Python libère les ressources système, assure l'enregistrement des modifications, et prévient les erreurs.\n",
    "\n",
    "Lorsque vous manipulez un fichier, il existe deux façons de vous assurer qu'un fichier est correctement fermé, même en cas d'erreur. La première façon de fermer un fichier est d'utiliser le bloc try-finally :\n"
   ]
  },
  {
   "cell_type": "code",
   "execution_count": null,
   "id": "104278fb",
   "metadata": {},
   "outputs": [],
   "source": [
    "reader = open('cars.txt')\n",
    "try:\n",
    "    # Traitement supplémentaire du fichier va ici\n",
    "finally:\n",
    "    reader.close()"
   ]
  },
  {
   "cell_type": "markdown",
   "id": "afd73d3f",
   "metadata": {},
   "source": [
    "La deuxième façon de fermer un fichier est d'utiliser l'instruction `with` :\n",
    "L'instruction `with` prend automatiquement en charge la fermeture du fichier une fois qu'elle quitte le bloc `with`, même en cas d'erreur."
   ]
  },
  {
   "cell_type": "code",
   "execution_count": null,
   "id": "2a0f43fb",
   "metadata": {},
   "outputs": [],
   "source": [
    "with open('cars.txt') as reader:\n",
    "    # Traitement supplémentaire du fichier va ici"
   ]
  },
  {
   "cell_type": "markdown",
   "id": "1c722ae4",
   "metadata": {},
   "source": [
    "Il est probable que vous voudrez également utiliser le deuxième argument positionnel, `mode`. Cet argument est une chaîne de caractères qui contient plusieurs caractères pour représenter comment vous souhaitez ouvrir le fichier. La valeur par défaut et la plus courante est 'r', qui représente l'ouverture du fichier en mode lecture seule en tant que fichier texte :"
   ]
  },
  {
   "cell_type": "code",
   "execution_count": null,
   "id": "8992ac6b",
   "metadata": {},
   "outputs": [],
   "source": [
    "with open('dog_breeds.txt', 'r') as reader:\n",
    "    # Traitement supplémentaire du fichier va ici"
   ]
  },
  {
   "cell_type": "markdown",
   "id": "af8e946f",
   "metadata": {},
   "source": [
    "**Voici un tableau résumant les modes d'ouverture de fichiers les plus courants en Python :**\n",
    "\n",
    "| Mode | Description |\n",
    "|---|---|\n",
    "| **'r' (lecture)** | Ouvre un fichier en lecture seule. Génère une erreur si le fichier n'existe pas. |\n",
    "| **'w' (écriture)** | Ouvre un fichier en écriture seule. Crée un nouveau fichier s'il n'existe pas, sinon écrase le contenu existant. |\n",
    "| **'a' (ajout)** | Ouvre un fichier pour l'ajout (ajouter du contenu à la fin). Crée un nouveau fichier s'il n'existe pas. |\n",
    "| **'r+' (lecture et écriture)** | Ouvre un fichier à la fois en lecture et en écriture. Génère une erreur si le fichier n'existe pas. |\n",
    "| **'w+' (écriture et lecture)** | Ouvre un fichier à la fois en écriture et en lecture, mais écrase le contenu existant. Crée un nouveau fichier s'il n'existe pas. |\n",
    "\n",
    "**Points clés :**\n",
    "\n",
    "* **Considérez les modes binaires** (`'rb'`, `'wb'`, `'ab'`) pour les fichiers non textuels comme les images et l'audio.\n",
    "* **Choisissez le mode approprié** en fonction de vos opérations prévues.\n",
    "* **Soyez prudent avec les modes d'écriture** (`'w'`, `'w+'`) pour éviter la perte accidentelle de données.\n",
    "\n",
    "\n",
    "# Lecture et Écriture dans les Fichiers Ouverts\n",
    "\n",
    "Une fois que vous avez ouvert un fichier, vous voudrez le lire ou écrire dedans. Tout d'abord, parlons de la lecture d'un fichier. Il existe plusieurs méthodes qui peuvent être appelées sur un objet fichier pour vous aider :\n",
    "\n",
    "| Méthode | Description |\n",
    "| --- | --- |\n",
    "| `.read(size=-1)` | Lit le nombre d'octets spécifié par la taille depuis le fichier. Si aucun argument n'est passé, None ou -1 est passé, alors le fichier entier est lu. |\n",
    "| `.readline(size=-1)` | Lit au plus la quantité spécifiée par la taille de caractères de la ligne. Cela continue jusqu'à la fin de la ligne, puis reboucle. Si aucun argument n'est passé, None ou -1 est passé, alors la ligne entière (ou le reste de la ligne) est lue. |\n",
    "| `.readlines()` | Lit les lignes restantes de l'objet fichier et les renvoie sous forme de liste. |\n",
    "\n",
    "En utilisant le même fichier `cars.txt` que précédemment, examinons quelques exemples d'utilisation de ces méthodes. Voici un exemple de comment ouvrir et lire le fichier entier avec `.read()` :"
   ]
  },
  {
   "cell_type": "code",
   "execution_count": 2,
   "id": "290c5f18",
   "metadata": {
    "scrolled": true
   },
   "outputs": [
    {
     "name": "stdout",
     "output_type": "stream",
     "text": [
      "Toyota\n",
      "Honda\n",
      "Ford\n",
      "Chevrolet\n",
      "Mercedes Benz\n",
      "Alfa Romeo\n"
     ]
    }
   ],
   "source": [
    "with open('cars.txt', 'r') as reader:\n",
    "    # Lit et imprime le fichier entier\n",
    "    print(reader.read())"
   ]
  },
  {
   "cell_type": "markdown",
   "id": "69c42edd",
   "metadata": {},
   "source": [
    "Voici un exemple de lecture de 5 octets de chaque ligne à l'aide de la méthode `.readline()` de Python :"
   ]
  },
  {
   "cell_type": "markdown",
   "id": "5c592819",
   "metadata": {},
   "source": [
    "\n"
   ]
  },
  {
   "cell_type": "code",
   "execution_count": 26,
   "id": "a831adf3",
   "metadata": {},
   "outputs": [
    {
     "name": "stdout",
     "output_type": "stream",
     "text": [
      "Land \n",
      "Rover\n",
      " Defe\n",
      "nder:\n",
      " The \n"
     ]
    }
   ],
   "source": [
    "with open('cars.txt', 'r') as reader:\n",
    "    # Lit et imprime les 5 premiers caractères de la ligne 5 fois\n",
    "    print(reader.readline(5))\n",
    "    # Remarquez que la ligne est plus longue que les 5 caractères et continue\n",
    "    # sur la ligne, lisant 5 caractères à chaque fois jusqu'à la fin de la\n",
    "    # ligne, puis \"reboucle\"\n",
    "    print(reader.readline(5))\n",
    "    print(reader.readline(5))\n",
    "    print(reader.readline(5))\n",
    "    print(reader.readline(5))"
   ]
  },
  {
   "cell_type": "code",
   "execution_count": 25,
   "id": "f234d59d",
   "metadata": {},
   "outputs": [
    {
     "ename": "SyntaxError",
     "evalue": "unterminated string literal (detected at line 1) (3602992320.py, line 1)",
     "output_type": "error",
     "traceback": [
      "\u001b[1;36m  Cell \u001b[1;32mIn[25], line 1\u001b[1;36m\u001b[0m\n\u001b[1;33m    Voici un exemple de lecture du fichier entier sous forme de liste à l'aide de la méthode `.readlines()` de Python :\u001b[0m\n\u001b[1;37m                                                                         ^\u001b[0m\n\u001b[1;31mSyntaxError\u001b[0m\u001b[1;31m:\u001b[0m unterminated string literal (detected at line 1)\n"
     ]
    }
   ],
   "source": [
    "Voici un exemple de lecture du fichier entier sous forme de liste à l'aide de la méthode `.readlines()` de Python :"
   ]
  },
  {
   "cell_type": "code",
   "execution_count": 11,
   "id": "40e18411",
   "metadata": {},
   "outputs": [
    {
     "ename": "FileNotFoundError",
     "evalue": "[Errno 2] No such file or directory: 'dog_breeds.txt'",
     "output_type": "error",
     "traceback": [
      "\u001b[1;31m---------------------------------------------------------------------------\u001b[0m",
      "\u001b[1;31mFileNotFoundError\u001b[0m                         Traceback (most recent call last)",
      "Cell \u001b[1;32mIn[11], line 1\u001b[0m\n\u001b[1;32m----> 1\u001b[0m f \u001b[38;5;241m=\u001b[39m \u001b[38;5;28mopen\u001b[39m(\u001b[38;5;124m'\u001b[39m\u001b[38;5;124mdog_breeds.txt\u001b[39m\u001b[38;5;124m'\u001b[39m)\n\u001b[0;32m      2\u001b[0m f\u001b[38;5;241m.\u001b[39mreadlines()  \u001b[38;5;66;03m# Renvoie un objet liste\u001b[39;00m\n\u001b[0;32m      3\u001b[0m [\u001b[38;5;124m'\u001b[39m\u001b[38;5;124mPug\u001b[39m\u001b[38;5;130;01m\\n\u001b[39;00m\u001b[38;5;124m'\u001b[39m, \u001b[38;5;124m'\u001b[39m\u001b[38;5;124mJack Russell Terrier\u001b[39m\u001b[38;5;130;01m\\n\u001b[39;00m\u001b[38;5;124m'\u001b[39m, \u001b[38;5;124m'\u001b[39m\u001b[38;5;124mEnglish Springer Spaniel\u001b[39m\u001b[38;5;130;01m\\n\u001b[39;00m\u001b[38;5;124m'\u001b[39m, \u001b[38;5;124m'\u001b[39m\u001b[38;5;124mGerman Shepherd\u001b[39m\u001b[38;5;130;01m\\n\u001b[39;00m\u001b[38;5;124m'\u001b[39m, \u001b[38;5;124m'\u001b[39m\u001b[38;5;124mStaffordshire Bull Terrier\u001b[39m\u001b[38;5;130;01m\\n\u001b[39;00m\u001b[38;5;124m'\u001b[39m, \u001b[38;5;124m'\u001b[39m\u001b[38;5;124mCavalier King Charles Spaniel\u001b[39m\u001b[38;5;130;01m\\n\u001b[39;00m\u001b[38;5;124m'\u001b[39m, \u001b[38;5;124m'\u001b[39m\u001b[38;5;124mGolden Retriever\u001b[39m\u001b[38;5;130;01m\\n\u001b[39;00m\u001b[38;5;124m'\u001b[39m, \u001b[38;5;124m'\u001b[39m\u001b[38;5;124mWest Highland White Terrier\u001b[39m\u001b[38;5;130;01m\\n\u001b[39;00m\u001b[38;5;124m'\u001b[39m, \u001b[38;5;124m'\u001b[39m\u001b[38;5;124mBoxer\u001b[39m\u001b[38;5;130;01m\\n\u001b[39;00m\u001b[38;5;124m'\u001b[39m, \u001b[38;5;124m'\u001b[39m\u001b[38;5;124mBorder Terrier\u001b[39m\u001b[38;5;130;01m\\n\u001b[39;00m\u001b[38;5;124m'\u001b[39m]\n",
      "File \u001b[1;32m~\\anaconda3\\Lib\\site-packages\\IPython\\core\\interactiveshell.py:286\u001b[0m, in \u001b[0;36m_modified_open\u001b[1;34m(file, *args, **kwargs)\u001b[0m\n\u001b[0;32m    279\u001b[0m \u001b[38;5;28;01mif\u001b[39;00m file \u001b[38;5;129;01min\u001b[39;00m {\u001b[38;5;241m0\u001b[39m, \u001b[38;5;241m1\u001b[39m, \u001b[38;5;241m2\u001b[39m}:\n\u001b[0;32m    280\u001b[0m     \u001b[38;5;28;01mraise\u001b[39;00m \u001b[38;5;167;01mValueError\u001b[39;00m(\n\u001b[0;32m    281\u001b[0m         \u001b[38;5;124mf\u001b[39m\u001b[38;5;124m\"\u001b[39m\u001b[38;5;124mIPython won\u001b[39m\u001b[38;5;124m'\u001b[39m\u001b[38;5;124mt let you open fd=\u001b[39m\u001b[38;5;132;01m{\u001b[39;00mfile\u001b[38;5;132;01m}\u001b[39;00m\u001b[38;5;124m by default \u001b[39m\u001b[38;5;124m\"\u001b[39m\n\u001b[0;32m    282\u001b[0m         \u001b[38;5;124m\"\u001b[39m\u001b[38;5;124mas it is likely to crash IPython. If you know what you are doing, \u001b[39m\u001b[38;5;124m\"\u001b[39m\n\u001b[0;32m    283\u001b[0m         \u001b[38;5;124m\"\u001b[39m\u001b[38;5;124myou can use builtins\u001b[39m\u001b[38;5;124m'\u001b[39m\u001b[38;5;124m open.\u001b[39m\u001b[38;5;124m\"\u001b[39m\n\u001b[0;32m    284\u001b[0m     )\n\u001b[1;32m--> 286\u001b[0m \u001b[38;5;28;01mreturn\u001b[39;00m io_open(file, \u001b[38;5;241m*\u001b[39margs, \u001b[38;5;241m*\u001b[39m\u001b[38;5;241m*\u001b[39mkwargs)\n",
      "\u001b[1;31mFileNotFoundError\u001b[0m: [Errno 2] No such file or directory: 'dog_breeds.txt'"
     ]
    }
   ],
   "source": [
    "f = open('dog_breeds.txt')\n",
    "f.readlines()  # Renvoie un objet liste\n",
    "['Pug\\n', 'Jack Russell Terrier\\n', 'English Springer Spaniel\\n', 'German Shepherd\\n', 'Staffordshire Bull Terrier\\n', 'Cavalier King Charles Spaniel\\n', 'Golden Retriever\\n', 'West Highland White Terrier\\n', 'Boxer\\n', 'Border Terrier\\n']\n"
   ]
  },
  {
   "cell_type": "markdown",
   "id": "799f9845",
   "metadata": {},
   "source": [
    "L'exemple ci-dessus peut également être réalisé en utilisant `list()` pour créer une liste à partir de l'objet fichier :"
   ]
  },
  {
   "cell_type": "code",
   "execution_count": null,
   "id": "02d172b5",
   "metadata": {},
   "outputs": [],
   "source": [
    "f = open('dog_breeds.txt')\n",
    "list(f)\n",
    "['Pug\\n', 'Jack Russell Terrier\\n', 'English Springer Spaniel\\n', 'German Shepherd\\n', 'Staffordshire Bull Terrier\\n', 'Cavalier King Charles Spaniel\\n', 'Golden Retriever\\n', 'West Highland White Terrier\\n', 'Boxer\\n', 'Border Terrier\\n']"
   ]
  },
  {
   "cell_type": "markdown",
   "id": "730d3768",
   "metadata": {},
   "source": [
    "## Itération sur Chaque Ligne du Fichier\n",
    "\n",
    "Une chose courante à faire lors de la lecture d'un fichier est d'itérer sur chaque ligne. Voici un exemple de comment utiliser la méthode `.readline()` de Python pour effectuer cette itération :\n"
   ]
  },
  {
   "cell_type": "code",
   "execution_count": null,
   "id": "d10ac38e",
   "metadata": {},
   "outputs": [],
   "source": [
    "with open('dog_breeds.txt', 'r') as reader:\n",
    "    # Lit et imprime le fichier entier ligne par ligne\n",
    "    line = reader.readline()\n",
    "    while line != '':  # Le caractère de fin de fichier est une chaîne vide\n",
    "        print(line, end='')\n",
    "        line = reader.readline()"
   ]
  },
  {
   "cell_type": "markdown",
   "id": "08e5f3ed",
   "metadata": {},
   "source": [
    "Une autre façon d'itérer sur chaque ligne du fichier est d'utiliser la méthode `.readlines()` de l'objet fichier. N'oubliez pas que `.readlines()` renvoie une liste où chaque élément dans la liste représente une ligne dans le fichier :"
   ]
  },
  {
   "cell_type": "code",
   "execution_count": null,
   "id": "c3c6da86",
   "metadata": {},
   "outputs": [],
   "source": [
    "with open('dog_breeds.txt', 'r') as reader:\n",
    "    for line in reader.readlines():\n",
    "        print(line, end='')"
   ]
  },
  {
   "cell_type": "markdown",
   "id": "e41ec6df",
   "metadata": {},
   "source": [
    "Cependant, les exemples ci-dessus peuvent être simplifiés en itérant directement sur l'objet fichier lui-même :"
   ]
  },
  {
   "cell_type": "code",
   "execution_count": null,
   "id": "923f9431",
   "metadata": {},
   "outputs": [],
   "source": [
    "with open('dog_breeds.txt', 'r') as reader:\n",
    "    # Lit et imprime le fichier entier ligne par ligne\n",
    "    for line in reader:\n",
    "        print(line, end='')"
   ]
  },
  {
   "cell_type": "markdown",
   "id": "5b09eb3a",
   "metadata": {},
   "source": [
    "Cette approche finale est plus pythonique et peut être plus rapide et plus efficace en mémoire. Par conséquent, il est recommandé de l'utiliser à la place.\n",
    "\n",
    "**Note :** Certains des exemples ci-dessus contiennent `print('some text', end='')`. L'argument `end=''` sert à empêcher Python d'ajouter une nouvelle ligne supplémentaire au texte qui est imprimé et n'imprime que ce qui est lu depuis le fichier.\n",
    "\n",
    "Maintenant, plongeons dans l'écriture de fichiers. Tout comme pour la lecture de fichiers, les objets fichier ont plusieurs méthodes utiles pour écrire dans un fichier :\n",
    "\n",
    "| Méthode | Description |\n",
    "| --- | --- |\n",
    "| `.write(string)` | Écrit la chaîne dans le fichier. |\n",
    "| `.writelines(seq)` | Écrit la séquence dans le fichier. Aucune fin de ligne n'est ajoutée à chaque élément de la séquence. C'est à vous d'ajouter les fins de ligne appropriées. |\n",
    "\n",
    "Voici un exemple rapide d'utilisation de `.write()` et `.writelines()` :"
   ]
  },
  {
   "cell_type": "code",
   "execution_count": null,
   "id": "78ebd34f",
   "metadata": {},
   "outputs": [],
   "source": [
    "with open('dog_breeds.txt', 'r') as reader:\n",
    "    # Remarque : readlines ne supprime pas les fins de ligne\n",
    "    dog_breeds = reader.readlines()\n",
    "\n",
    "with open('dog_breeds_reversed.txt', 'w') as writer:\n",
    "    # Alternativement, vous pourriez utiliser\n",
    "    # writer.writelines(reversed(dog_breeds))\n",
    "\n",
    "    # Écrit les races de chiens dans le fichier dans l'ordre inverse\n",
    "    for breed in reversed(dog_breeds):\n",
    "        writer.write(breed)"
   ]
  },
  {
   "cell_type": "code",
   "execution_count": null,
   "id": "089e39aa",
   "metadata": {},
   "outputs": [],
   "source": []
  },
  {
   "cell_type": "code",
   "execution_count": null,
   "id": "80019daf",
   "metadata": {},
   "outputs": [],
   "source": []
  }
 ],
 "metadata": {
  "kernelspec": {
   "display_name": "Python 3 (ipykernel)",
   "language": "python",
   "name": "python3"
  },
  "language_info": {
   "codemirror_mode": {
    "name": "ipython",
    "version": 3
   },
   "file_extension": ".py",
   "mimetype": "text/x-python",
   "name": "python",
   "nbconvert_exporter": "python",
   "pygments_lexer": "ipython3",
   "version": "3.11.5"
  }
 },
 "nbformat": 4,
 "nbformat_minor": 5
}
