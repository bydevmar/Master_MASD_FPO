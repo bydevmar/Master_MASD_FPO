{
 "cells": [
  {
   "cell_type": "markdown",
   "id": "aa59231a",
   "metadata": {},
   "source": [
    "# Manipulation des Fichier Avec PYTHON"
   ]
  },
  {
   "cell_type": "markdown",
   "id": "6a43aba2",
   "metadata": {},
   "source": [
    "## 1- Qu'est-ce qu'un Fichier ?"
   ]
  },
  {
   "cell_type": "code",
   "execution_count": null,
   "id": "d51f1f91",
   "metadata": {},
   "outputs": [],
   "source": []
  },
  {
   "cell_type": "markdown",
   "id": "ef5b42ad",
   "metadata": {},
   "source": [
    "## 2- Comprendre les Chemins de Fichiers :"
   ]
  },
  {
   "cell_type": "code",
   "execution_count": null,
   "id": "735d61b4",
   "metadata": {},
   "outputs": [],
   "source": []
  },
  {
   "cell_type": "markdown",
   "id": "7621822c",
   "metadata": {},
   "source": [
    "## 3- Ouverture et Fermeture de Fichiers : "
   ]
  },
  {
   "cell_type": "code",
   "execution_count": null,
   "id": "4b47ea28",
   "metadata": {},
   "outputs": [],
   "source": []
  },
  {
   "cell_type": "markdown",
   "id": "6cf6df75",
   "metadata": {},
   "source": [
    "## 4- Lecture de Fichiers : \n",
    "\n",
    "### 4-1 Read()"
   ]
  },
  {
   "cell_type": "code",
   "execution_count": 3,
   "id": "c14ab93d",
   "metadata": {
    "scrolled": true
   },
   "outputs": [
    {
     "name": "stdout",
     "output_type": "stream",
     "text": [
      "Land Rover Defender: The king of all-terrain vehicles\n",
      "Tesla Model S: The epitome of electric luxury\n",
      "Porsche 911: Few cars inspire as much passion as the Porsche 911\n",
      "Volkswagen Golf GTI: The hot hatch that started it all\n",
      "Toyota Prius: The pioneer of hybrid cars\n"
     ]
    }
   ],
   "source": [
    "with open('cars.txt', 'r') as reader:\n",
    "    # Lit et imprime le fichier entier\n",
    "    print(reader.read())"
   ]
  },
  {
   "cell_type": "markdown",
   "id": "57da168b",
   "metadata": {},
   "source": [
    "### 4-2 Readline"
   ]
  },
  {
   "cell_type": "code",
   "execution_count": 4,
   "id": "4e02baf2",
   "metadata": {
    "scrolled": true
   },
   "outputs": [
    {
     "name": "stdout",
     "output_type": "stream",
     "text": [
      "Land \n",
      "Rover\n",
      " Defe\n",
      "nder:\n",
      " The \n"
     ]
    }
   ],
   "source": [
    "with open('cars.txt', 'r') as reader:\n",
    "    # Lit et imprime les 5 premiers caractères de la ligne 5 fois\n",
    "    print(reader.readline(5))\n",
    "    # Remarquez que la ligne est plus longue que les 5 caractères et continue\n",
    "    # sur la ligne, lisant 5 caractères à chaque fois jusqu'à la fin de la\n",
    "    # ligne, puis \"reboucle\"\n",
    "    print(reader.readline(5))\n",
    "    print(reader.readline(5))\n",
    "    print(reader.readline(5))\n",
    "    print(reader.readline(5))"
   ]
  },
  {
   "cell_type": "markdown",
   "id": "767a77d5",
   "metadata": {},
   "source": [
    "### 4-3 Readlines"
   ]
  },
  {
   "cell_type": "code",
   "execution_count": 15,
   "id": "66ec9fde",
   "metadata": {
    "scrolled": true
   },
   "outputs": [
    {
     "name": "stdout",
     "output_type": "stream",
     "text": [
      "Land Rover Defender: The king of all-terrain vehicles\n",
      "Tesla Model S: The epitome of electric luxury\n",
      "Porsche 911: Few cars inspire as much passion as the Porsche 911\n",
      "Volkswagen Golf GTI: The hot hatch that started it all\n",
      "Toyota Prius: The pioneer of hybrid cars"
     ]
    }
   ],
   "source": [
    "with open('cars.txt') as reader : \n",
    "    listeDesLignes = reader.readlines()  # Renvoie un objet liste\n",
    "    \n",
    "for ligne in listeDesLignes :   \n",
    "    print(ligne,end='')\n",
    "        "
   ]
  },
  {
   "cell_type": "markdown",
   "id": "66b218a4",
   "metadata": {},
   "source": [
    "### 4-4 list "
   ]
  },
  {
   "cell_type": "code",
   "execution_count": 5,
   "id": "17092b9f",
   "metadata": {
    "scrolled": true
   },
   "outputs": [
    {
     "data": {
      "text/plain": [
       "['Land Rover Defender: The king of all-terrain vehicles\\n',\n",
       " 'Tesla Model S: The epitome of electric luxury\\n',\n",
       " 'Porsche 911: Few cars inspire as much passion as the Porsche 911\\n',\n",
       " 'Volkswagen Golf GTI: The hot hatch that started it all\\n',\n",
       " 'Toyota Prius: The pioneer of hybrid cars']"
      ]
     },
     "execution_count": 5,
     "metadata": {},
     "output_type": "execute_result"
    }
   ],
   "source": [
    "f = open('cars.txt')\n",
    "list(f)"
   ]
  },
  {
   "cell_type": "markdown",
   "id": "8da478c3",
   "metadata": {},
   "source": [
    "## 5- Écriture dans des Fichiers : "
   ]
  },
  {
   "cell_type": "markdown",
   "id": "b9476500",
   "metadata": {},
   "source": [
    "### 5-1 Write"
   ]
  },
  {
   "cell_type": "code",
   "execution_count": 25,
   "id": "b795c001",
   "metadata": {
    "scrolled": false
   },
   "outputs": [
    {
     "name": "stdout",
     "output_type": "stream",
     "text": [
      "Cars file : \n",
      "\n",
      "Land Rover Defender: The king of all-terrain vehicles\n",
      " \n",
      "Tesla Model S: The epitome of electric luxury\n",
      " \n",
      "Porsche 911: Few cars inspire as much passion as the Porsche 911\n",
      " \n",
      "Volkswagen Golf GTI: The hot hatch that started it all\n",
      " \n",
      "Toyota Prius: The pioneer of hybrid cars \n"
     ]
    }
   ],
   "source": [
    "print(\"Cars file : \\n\")\n",
    "with open('cars.txt', 'r') as reader:\n",
    "    cars = list(reader)\n",
    "    for car in cars:\n",
    "        print(car,\"\")"
   ]
  },
  {
   "cell_type": "markdown",
   "id": "f1c104a5",
   "metadata": {},
   "source": [
    "### 5-2 Fichier Ecrit"
   ]
  },
  {
   "cell_type": "code",
   "execution_count": 36,
   "id": "98f4d3be",
   "metadata": {},
   "outputs": [
    {
     "name": "stdout",
     "output_type": "stream",
     "text": [
      "Reversed file : \n",
      "\n",
      "Toyota Prius: The pioneer of hybrid carsVolkswagen Golf GTI: The hot hatch that started it all\n",
      "Porsche 911: Few cars inspire as much passion as the Porsche 911\n",
      "Tesla Model S: The epitome of electric luxury\n",
      "Land Rover Defender: The king of all-terrain vehicles\n"
     ]
    }
   ],
   "source": [
    "with open('cars_reversed.txt', 'w') as writer:\n",
    "    for car in reversed(cars):\n",
    "        writer.write(car)\n",
    "print(\"Reversed file : \\n\")\n",
    "with open('cars_reversed.txt', 'r') as reader:\n",
    "    for line in reader:\n",
    "        print(line, end='')"
   ]
  },
  {
   "cell_type": "markdown",
   "id": "2f56192e",
   "metadata": {},
   "source": [
    "## 6- Extras: "
   ]
  },
  {
   "cell_type": "markdown",
   "id": "54763e9d",
   "metadata": {},
   "source": [
    "### Lire un fichier CSV:"
   ]
  },
  {
   "cell_type": "code",
   "execution_count": 16,
   "id": "8fa88e53",
   "metadata": {
    "scrolled": true
   },
   "outputs": [
    {
     "name": "stdout",
     "output_type": "stream",
     "text": [
      "{'CarName': 'Toyota Camry', 'Make': 'Toyota', 'Model': 'Camry', 'Year': '2022', 'Color': 'Blue'}\n",
      "{'CarName': 'Honda Accord', 'Make': 'Honda', 'Model': 'Accord', 'Year': '2021', 'Color': 'Silver'}\n",
      "{'CarName': 'Ford Mustang', 'Make': 'Ford', 'Model': 'Mustang', 'Year': '2022', 'Color': 'Red'}\n",
      "{'CarName': 'Chevrolet Malibu', 'Make': 'Chevrolet', 'Model': 'Malibu', 'Year': '2020', 'Color': 'Black'}\n"
     ]
    }
   ],
   "source": [
    "import csv\n",
    "\n",
    "csv_file_path = './other_files/cars.csv'\n",
    "\n",
    "with open(csv_file_path, 'r') as csv_file:\n",
    "    csv_reader = csv.reader(csv_file)\n",
    "    header = next(csv_reader)  # Skip header if present\n",
    "    for row in csv_reader:\n",
    "        print(dict(zip(header, row)))\n"
   ]
  },
  {
   "cell_type": "markdown",
   "id": "a1ad0012",
   "metadata": {},
   "source": [
    "### Lire un Fichier JSON : "
   ]
  },
  {
   "cell_type": "code",
   "execution_count": 18,
   "id": "fda8e067",
   "metadata": {},
   "outputs": [
    {
     "name": "stdout",
     "output_type": "stream",
     "text": [
      "{'carName': 'Toyota Camry', 'make': 'Toyota', 'model': 'Camry', 'year': 2022, 'color': 'Blue'}\n",
      "{'carName': 'Honda Accord', 'make': 'Honda', 'model': 'Accord', 'year': 2021, 'color': 'Silver'}\n",
      "{'carName': 'Ford Mustang', 'make': 'Ford', 'model': 'Mustang', 'year': 2022, 'color': 'Red'}\n",
      "{'carName': 'Chevrolet Malibu', 'make': 'Chevrolet', 'model': 'Malibu', 'year': 2020, 'color': 'Black'}\n"
     ]
    }
   ],
   "source": [
    "import json\n",
    "\n",
    "json_file_path = './other_files/cars.json'\n",
    "\n",
    "with open(json_file_path, 'r') as json_file:\n",
    "    cars_data = json.load(json_file)\n",
    "    for car in cars_data['cars']:\n",
    "        print(car)\n"
   ]
  },
  {
   "cell_type": "markdown",
   "id": "364c8b9c",
   "metadata": {},
   "source": [
    "### Lire un Fichier XML"
   ]
  },
  {
   "cell_type": "code",
   "execution_count": 20,
   "id": "86539785",
   "metadata": {
    "scrolled": true
   },
   "outputs": [
    {
     "name": "stdout",
     "output_type": "stream",
     "text": [
      "{'carName': 'Toyota Camry', 'make': 'Toyota', 'model': 'Camry', 'year': '2022', 'color': 'Blue'}\n",
      "{'carName': 'Honda Accord', 'make': 'Honda', 'model': 'Accord', 'year': '2021', 'color': 'Silver'}\n",
      "{'carName': 'Ford Mustang', 'make': 'Ford', 'model': 'Mustang', 'year': '2022', 'color': 'Red'}\n",
      "{'carName': 'Chevrolet Malibu', 'make': 'Chevrolet', 'model': 'Malibu', 'year': '2020', 'color': 'Black'}\n"
     ]
    }
   ],
   "source": [
    "import xml.etree.ElementTree as ET\n",
    "\n",
    "xml_file_path = './other_files/cars.xml'\n",
    "\n",
    "tree = ET.parse(xml_file_path)\n",
    "root = tree.getroot()\n",
    "\n",
    "for car_elem in root.findall('car'):\n",
    "    car_info = {}\n",
    "    for child_elem in car_elem:\n",
    "        car_info[child_elem.tag] = child_elem.text\n",
    "    print(car_info)\n"
   ]
  },
  {
   "cell_type": "code",
   "execution_count": 7,
   "id": "1422770f",
   "metadata": {},
   "outputs": [
    {
     "name": "stdout",
     "output_type": "stream",
     "text": [
      "Requirement already satisfied: pygame in c:\\users\\bydevmar\\anaconda3\\lib\\site-packages (2.5.2)\n",
      "Note: you may need to restart the kernel to use updated packages.\n"
     ]
    }
   ],
   "source": [
    "#install the package\n",
    "pip install pygame"
   ]
  },
  {
   "cell_type": "code",
   "execution_count": 6,
   "id": "05689df3",
   "metadata": {},
   "outputs": [
    {
     "data": {
      "text/plain": [
       "<pygame.mixer.Channel at 0x1723c3e8750>"
      ]
     },
     "execution_count": 6,
     "metadata": {},
     "output_type": "execute_result"
    }
   ],
   "source": [
    "import pygame\n",
    "\n",
    "# Initialize pygame\n",
    "pygame.init()\n",
    "\n",
    "# Create a Sound object for the MP3 file\n",
    "sound = pygame.mixer.Sound(\"other_files/goodjob.mp3\")\n",
    "\n",
    "# Play the audio\n",
    "sound.play()\n",
    "\n",
    "##pygame.mixer.music.stop()"
   ]
  }
 ],
 "metadata": {
  "kernelspec": {
   "display_name": "Python 3 (ipykernel)",
   "language": "python",
   "name": "python3"
  },
  "language_info": {
   "codemirror_mode": {
    "name": "ipython",
    "version": 3
   },
   "file_extension": ".py",
   "mimetype": "text/x-python",
   "name": "python",
   "nbconvert_exporter": "python",
   "pygments_lexer": "ipython3",
   "version": "3.11.5"
  }
 },
 "nbformat": 4,
 "nbformat_minor": 5
}
