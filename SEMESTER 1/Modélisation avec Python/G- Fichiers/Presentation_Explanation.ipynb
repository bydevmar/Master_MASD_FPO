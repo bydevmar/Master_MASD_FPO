{
 "cells": [
  {
   "cell_type": "markdown",
   "id": "aa59231a",
   "metadata": {},
   "source": [
    "# Manipulation des Fichier Avec PYTHON"
   ]
  },
  {
   "attachments": {},
   "cell_type": "markdown",
   "id": "6a43aba2",
   "metadata": {},
   "source": [
    "## 1- Qu'est-ce qu'un Fichier ?"
   ]
  },
  {
   "cell_type": "code",
   "execution_count": null,
   "id": "d51f1f91",
   "metadata": {},
   "outputs": [],
   "source": []
  },
  {
   "attachments": {},
   "cell_type": "markdown",
   "id": "ef5b42ad",
   "metadata": {},
   "source": [
    "## 2- Comprendre les Chemins de Fichiers :"
   ]
  },
  {
   "cell_type": "code",
   "execution_count": null,
   "id": "735d61b4",
   "metadata": {},
   "outputs": [],
   "source": []
  },
  {
   "attachments": {},
   "cell_type": "markdown",
   "id": "7621822c",
   "metadata": {},
   "source": [
    "## 3- Ouverture et Fermeture de Fichiers : "
   ]
  },
  {
   "cell_type": "code",
   "execution_count": null,
   "id": "4b47ea28",
   "metadata": {},
   "outputs": [],
   "source": []
  },
  {
   "attachments": {},
   "cell_type": "markdown",
   "id": "6cf6df75",
   "metadata": {},
   "source": [
    "## 4- Lecture de Fichiers : \n",
    "\n",
    "### 4-1 Read()"
   ]
  },
  {
   "cell_type": "code",
   "execution_count": 1,
   "id": "c14ab93d",
   "metadata": {
    "scrolled": true
   },
   "outputs": [
    {
     "name": "stdout",
     "output_type": "stream",
     "text": [
      "Land Rover Defender: The king of all-terrain vehicles\n",
      "Tesla Model S: The epitome of electric luxury\n",
      "Porsche 911: Few cars inspire as much passion as the Porsche 911\n",
      "Volkswagen Golf GTI: The hot hatch that started it all\n",
      "Toyota Prius: The pioneer of hybrid cars\n"
     ]
    }
   ],
   "source": [
    "with open('cars.txt', 'r') as reader:\n",
    "    # Lit et imprime le fichier entier\n",
    "    print(reader.read())"
   ]
  },
  {
   "cell_type": "markdown",
   "id": "57da168b",
   "metadata": {},
   "source": [
    "### 4-2 Readline"
   ]
  },
  {
   "cell_type": "code",
   "execution_count": 2,
   "id": "4e02baf2",
   "metadata": {
    "scrolled": true
   },
   "outputs": [
    {
     "name": "stdout",
     "output_type": "stream",
     "text": [
      "Land \n",
      "Rover\n",
      " Defe\n",
      "nder:\n",
      " The \n"
     ]
    }
   ],
   "source": [
    "with open('cars.txt', 'r') as reader:\n",
    "    # Lit et imprime les 5 premiers caractères de la ligne 5 fois\n",
    "    print(reader.readline(5))\n",
    "    # Remarquez que la ligne est plus longue que les 5 caractères et continue\n",
    "    # sur la ligne, lisant 5 caractères à chaque fois jusqu'à la fin de la\n",
    "    # ligne, puis \"reboucle\"\n",
    "    print(reader.readline(5))\n",
    "    print(reader.readline(5))\n",
    "    print(reader.readline(5))\n",
    "    print(reader.readline(5))"
   ]
  },
  {
   "cell_type": "markdown",
   "id": "767a77d5",
   "metadata": {},
   "source": [
    "### 4-3 Readlines"
   ]
  },
  {
   "cell_type": "code",
   "execution_count": 4,
   "id": "66ec9fde",
   "metadata": {
    "scrolled": true
   },
   "outputs": [
    {
     "data": {
      "text/plain": [
       "['Land Rover Defender: The king of all-terrain vehicles\\n',\n",
       " 'Tesla Model S: The epitome of electric luxury\\n',\n",
       " 'Porsche 911: Few cars inspire as much passion as the Porsche 911\\n',\n",
       " 'Volkswagen Golf GTI: The hot hatch that started it all\\n',\n",
       " 'Toyota Prius: The pioneer of hybrid cars']"
      ]
     },
     "execution_count": 4,
     "metadata": {},
     "output_type": "execute_result"
    }
   ],
   "source": [
    "fichier = open('cars.txt')\n",
    "listeDesLignes = fichier.readlines()  # Renvoie un objet liste\n",
    "listeDesLignes"
   ]
  },
  {
   "cell_type": "markdown",
   "id": "66b218a4",
   "metadata": {},
   "source": [
    "### 4-4 list "
   ]
  },
  {
   "cell_type": "code",
   "execution_count": 5,
   "id": "17092b9f",
   "metadata": {
    "scrolled": true
   },
   "outputs": [
    {
     "data": {
      "text/plain": [
       "['Land Rover Defender: The king of all-terrain vehicles\\n',\n",
       " 'Tesla Model S: The epitome of electric luxury\\n',\n",
       " 'Porsche 911: Few cars inspire as much passion as the Porsche 911\\n',\n",
       " 'Volkswagen Golf GTI: The hot hatch that started it all\\n',\n",
       " 'Toyota Prius: The pioneer of hybrid cars']"
      ]
     },
     "execution_count": 5,
     "metadata": {},
     "output_type": "execute_result"
    }
   ],
   "source": [
    "f = open('cars.txt')\n",
    "list(f)"
   ]
  },
  {
   "cell_type": "markdown",
   "id": "e4acba42",
   "metadata": {},
   "source": [
    "### 4-5 Comment Supprimer Les \"\\n\""
   ]
  },
  {
   "cell_type": "code",
   "execution_count": 12,
   "id": "ad8c1b84",
   "metadata": {},
   "outputs": [
    {
     "data": {
      "text/plain": [
       "['Land Rover Defender: The king of all-terrain vehicles\\n',\n",
       " 'Tesla Model S: The epitome of electric luxury\\n',\n",
       " 'Porsche 911: Few cars inspire as much passion as the Porsche 911\\n',\n",
       " 'Volkswagen Golf GTI: The hot hatch that started it all\\n',\n",
       " 'Toyota Prius: The pioneer of hybrid cars']"
      ]
     },
     "execution_count": 12,
     "metadata": {},
     "output_type": "execute_result"
    }
   ],
   "source": [
    "f = open('cars.txt')\n",
    "listCars = list(f)\n",
    "listCars"
   ]
  },
  {
   "attachments": {},
   "cell_type": "markdown",
   "id": "8da478c3",
   "metadata": {},
   "source": [
    "## 5- Écriture dans des Fichiers : "
   ]
  },
  {
   "cell_type": "markdown",
   "id": "b9476500",
   "metadata": {},
   "source": [
    "### 5-1 Write"
   ]
  },
  {
   "cell_type": "code",
   "execution_count": 25,
   "id": "b795c001",
   "metadata": {
    "scrolled": false
   },
   "outputs": [
    {
     "name": "stdout",
     "output_type": "stream",
     "text": [
      "Cars file : \n",
      "\n",
      "Land Rover Defender: The king of all-terrain vehicles\n",
      " \n",
      "Tesla Model S: The epitome of electric luxury\n",
      " \n",
      "Porsche 911: Few cars inspire as much passion as the Porsche 911\n",
      " \n",
      "Volkswagen Golf GTI: The hot hatch that started it all\n",
      " \n",
      "Toyota Prius: The pioneer of hybrid cars \n"
     ]
    }
   ],
   "source": [
    "print(\"Cars file : \\n\")\n",
    "with open('cars.txt', 'r') as reader:\n",
    "    cars = list(reader)\n",
    "    for car in cars:\n",
    "        print(car,\"\")"
   ]
  },
  {
   "cell_type": "markdown",
   "id": "f1c104a5",
   "metadata": {},
   "source": [
    "### 5-2 Fichier Ecrit"
   ]
  },
  {
   "cell_type": "code",
   "execution_count": 36,
   "id": "98f4d3be",
   "metadata": {},
   "outputs": [
    {
     "name": "stdout",
     "output_type": "stream",
     "text": [
      "Reversed file : \n",
      "\n",
      "Toyota Prius: The pioneer of hybrid carsVolkswagen Golf GTI: The hot hatch that started it all\n",
      "Porsche 911: Few cars inspire as much passion as the Porsche 911\n",
      "Tesla Model S: The epitome of electric luxury\n",
      "Land Rover Defender: The king of all-terrain vehicles\n"
     ]
    }
   ],
   "source": [
    "with open('cars_reversed.txt', 'w') as writer:\n",
    "    for car in reversed(cars):\n",
    "        writer.write(car)\n",
    "print(\"Reversed file : \\n\")\n",
    "with open('cars_reversed.txt', 'r') as reader:\n",
    "    for line in reader:\n",
    "        print(line, end='')"
   ]
  },
  {
   "attachments": {},
   "cell_type": "markdown",
   "id": "2f56192e",
   "metadata": {},
   "source": [
    "## 6- Extras: "
   ]
  },
  {
   "cell_type": "markdown",
   "id": "70bfa07d",
   "metadata": {},
   "source": []
  }
 ],
 "metadata": {
  "kernelspec": {
   "display_name": "Python 3 (ipykernel)",
   "language": "python",
   "name": "python3"
  },
  "language_info": {
   "codemirror_mode": {
    "name": "ipython",
    "version": 3
   },
   "file_extension": ".py",
   "mimetype": "text/x-python",
   "name": "python",
   "nbconvert_exporter": "python",
   "pygments_lexer": "ipython3",
   "version": "3.11.5"
  }
 },
 "nbformat": 4,
 "nbformat_minor": 5
}
