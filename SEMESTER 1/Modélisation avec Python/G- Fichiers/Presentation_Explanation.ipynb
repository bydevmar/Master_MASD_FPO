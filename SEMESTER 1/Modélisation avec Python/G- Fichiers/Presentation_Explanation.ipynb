{
 "cells": [
  {
   "cell_type": "markdown",
   "id": "e9571e7a",
   "metadata": {},
   "source": [
    "# Manipulation des Fichier Avec PYTHON"
   ]
  },
  {
   "attachments": {},
   "cell_type": "markdown",
   "id": "b17485f1",
   "metadata": {},
   "source": [
    "## 1- Qu'est-ce qu'un Fichier ?"
   ]
  },
  {
   "cell_type": "code",
   "execution_count": null,
   "id": "85b5febe",
   "metadata": {},
   "outputs": [],
   "source": []
  },
  {
   "attachments": {},
   "cell_type": "markdown",
   "id": "12cd5481",
   "metadata": {},
   "source": [
    "## 2- Comprendre les Chemins de Fichiers :"
   ]
  },
  {
   "cell_type": "code",
   "execution_count": null,
   "id": "0325cb99",
   "metadata": {},
   "outputs": [],
   "source": []
  },
  {
   "attachments": {},
   "cell_type": "markdown",
   "id": "9845d649",
   "metadata": {},
   "source": [
    "## 3- Ouverture et Fermeture de Fichiers : "
   ]
  },
  {
   "cell_type": "code",
   "execution_count": null,
   "id": "e155c1fc",
   "metadata": {},
   "outputs": [],
   "source": []
  },
  {
   "attachments": {},
   "cell_type": "markdown",
   "id": "28d90562",
   "metadata": {},
   "source": [
    "## 4- Lecture de Fichiers : \n",
    "\n",
    "### 4-1 Read()"
   ]
  },
  {
   "cell_type": "code",
   "execution_count": 1,
   "id": "7282ed4b",
   "metadata": {
    "scrolled": true
   },
   "outputs": [
    {
     "name": "stdout",
     "output_type": "stream",
     "text": [
      "Land Rover Defender: The king of all-terrain vehicles\n",
      "Tesla Model S: The epitome of electric luxury\n",
      "Porsche 911: Few cars inspire as much passion as the Porsche 911\n",
      "Volkswagen Golf GTI: The hot hatch that started it all\n",
      "Toyota Prius: The pioneer of hybrid cars\n"
     ]
    }
   ],
   "source": [
    "with open('cars.txt', 'r') as reader:\n",
    "    # Lit et imprime le fichier entier\n",
    "    print(reader.read())"
   ]
  },
  {
   "cell_type": "markdown",
   "id": "bed50016",
   "metadata": {},
   "source": [
    "### 4-2 Readline"
   ]
  },
  {
   "cell_type": "code",
   "execution_count": 2,
   "id": "889f9591",
   "metadata": {
    "scrolled": true
   },
   "outputs": [
    {
     "name": "stdout",
     "output_type": "stream",
     "text": [
      "Land \n",
      "Rover\n",
      " Defe\n",
      "nder:\n",
      " The \n"
     ]
    }
   ],
   "source": [
    "with open('cars.txt', 'r') as reader:\n",
    "    # Lit et imprime les 5 premiers caractères de la ligne 5 fois\n",
    "    print(reader.readline(5))\n",
    "    # Remarquez que la ligne est plus longue que les 5 caractères et continue\n",
    "    # sur la ligne, lisant 5 caractères à chaque fois jusqu'à la fin de la\n",
    "    # ligne, puis \"reboucle\"\n",
    "    print(reader.readline(5))\n",
    "    print(reader.readline(5))\n",
    "    print(reader.readline(5))\n",
    "    print(reader.readline(5))"
   ]
  },
  {
   "cell_type": "markdown",
   "id": "3919b77f",
   "metadata": {},
   "source": [
    "### 4-3 Readlines"
   ]
  },
  {
   "cell_type": "code",
   "execution_count": 4,
   "id": "628e68bd",
   "metadata": {
    "scrolled": true
   },
   "outputs": [
    {
     "data": {
      "text/plain": [
       "['Land Rover Defender: The king of all-terrain vehicles\\n',\n",
       " 'Tesla Model S: The epitome of electric luxury\\n',\n",
       " 'Porsche 911: Few cars inspire as much passion as the Porsche 911\\n',\n",
       " 'Volkswagen Golf GTI: The hot hatch that started it all\\n',\n",
       " 'Toyota Prius: The pioneer of hybrid cars']"
      ]
     },
     "execution_count": 4,
     "metadata": {},
     "output_type": "execute_result"
    }
   ],
   "source": [
    "fichier = open('cars.txt')\n",
    "listeDesLignes = fichier.readlines()  # Renvoie un objet liste\n",
    "listeDesLignes"
   ]
  },
  {
   "cell_type": "markdown",
   "id": "36695bac",
   "metadata": {},
   "source": [
    "### 4-4 list "
   ]
  },
  {
   "cell_type": "code",
   "execution_count": 5,
   "id": "c1492ebe",
   "metadata": {
    "scrolled": true
   },
   "outputs": [
    {
     "data": {
      "text/plain": [
       "['Land Rover Defender: The king of all-terrain vehicles\\n',\n",
       " 'Tesla Model S: The epitome of electric luxury\\n',\n",
       " 'Porsche 911: Few cars inspire as much passion as the Porsche 911\\n',\n",
       " 'Volkswagen Golf GTI: The hot hatch that started it all\\n',\n",
       " 'Toyota Prius: The pioneer of hybrid cars']"
      ]
     },
     "execution_count": 5,
     "metadata": {},
     "output_type": "execute_result"
    }
   ],
   "source": [
    "f = open('cars.txt')\n",
    "list(f)"
   ]
  },
  {
   "cell_type": "markdown",
   "id": "51363c5a",
   "metadata": {},
   "source": [
    "### 4-5 Comment Supprimer Les \"\\n\""
   ]
  },
  {
   "cell_type": "code",
   "execution_count": 12,
   "id": "14246eab",
   "metadata": {},
   "outputs": [
    {
     "data": {
      "text/plain": [
       "['Land Rover Defender: The king of all-terrain vehicles\\n',\n",
       " 'Tesla Model S: The epitome of electric luxury\\n',\n",
       " 'Porsche 911: Few cars inspire as much passion as the Porsche 911\\n',\n",
       " 'Volkswagen Golf GTI: The hot hatch that started it all\\n',\n",
       " 'Toyota Prius: The pioneer of hybrid cars']"
      ]
     },
     "execution_count": 12,
     "metadata": {},
     "output_type": "execute_result"
    }
   ],
   "source": [
    "f = open('cars.txt')\n",
    "listCars = list(f)\n",
    "listCars"
   ]
  },
  {
   "attachments": {},
   "cell_type": "markdown",
   "id": "9d2b0fc1",
   "metadata": {},
   "source": [
    "## 5- Écriture dans des Fichiers : "
   ]
  },
  {
   "cell_type": "markdown",
   "id": "8debeecb",
   "metadata": {},
   "source": [
    "### 5-1 Write"
   ]
  },
  {
   "cell_type": "code",
   "execution_count": 25,
   "id": "d6bee850",
   "metadata": {
    "scrolled": false
   },
   "outputs": [
    {
     "name": "stdout",
     "output_type": "stream",
     "text": [
      "Cars file : \n",
      "\n",
      "Land Rover Defender: The king of all-terrain vehicles\n",
      " \n",
      "Tesla Model S: The epitome of electric luxury\n",
      " \n",
      "Porsche 911: Few cars inspire as much passion as the Porsche 911\n",
      " \n",
      "Volkswagen Golf GTI: The hot hatch that started it all\n",
      " \n",
      "Toyota Prius: The pioneer of hybrid cars \n"
     ]
    }
   ],
   "source": [
    "print(\"Cars file : \\n\")\n",
    "with open('cars.txt', 'r') as reader:\n",
    "    cars = list(reader)\n",
    "    for car in cars:\n",
    "        print(car,\"\")"
   ]
  },
  {
   "cell_type": "markdown",
   "id": "26720e19",
   "metadata": {},
   "source": [
    "### 5-2 Fichier Ecrit"
   ]
  },
  {
   "cell_type": "code",
   "execution_count": 36,
   "id": "d193d063",
   "metadata": {},
   "outputs": [
    {
     "name": "stdout",
     "output_type": "stream",
     "text": [
      "Reversed file : \n",
      "\n",
      "Toyota Prius: The pioneer of hybrid carsVolkswagen Golf GTI: The hot hatch that started it all\n",
      "Porsche 911: Few cars inspire as much passion as the Porsche 911\n",
      "Tesla Model S: The epitome of electric luxury\n",
      "Land Rover Defender: The king of all-terrain vehicles\n"
     ]
    }
   ],
   "source": [
    "with open('cars_reversed.txt', 'w') as writer:\n",
    "    for car in reversed(cars):\n",
    "        writer.write(car)\n",
    "print(\"Reversed file : \\n\")\n",
    "with open('cars_reversed.txt', 'r') as reader:\n",
    "    for line in reader:\n",
    "        print(line, end='')"
   ]
  },
  {
   "attachments": {},
   "cell_type": "markdown",
   "id": "f34e4a1d",
   "metadata": {},
   "source": [
    "## 6- Extras: "
   ]
  },
  {
   "cell_type": "markdown",
   "id": "63889975",
   "metadata": {},
   "source": []
  }
 ],
 "metadata": {
  "kernelspec": {
   "display_name": "Python 3 (ipykernel)",
   "language": "python",
   "name": "python3"
  },
  "language_info": {
   "codemirror_mode": {
    "name": "ipython",
    "version": 3
   },
   "file_extension": ".py",
   "mimetype": "text/x-python",
   "name": "python",
   "nbconvert_exporter": "python",
   "pygments_lexer": "ipython3",
   "version": "3.11.5"
  }
 },
 "nbformat": 4,
 "nbformat_minor": 5
}
