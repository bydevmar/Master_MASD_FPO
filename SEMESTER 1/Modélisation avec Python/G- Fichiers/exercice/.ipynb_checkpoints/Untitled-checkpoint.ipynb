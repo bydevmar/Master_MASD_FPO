{
 "cells": [
  {
   "cell_type": "markdown",
   "id": "a3fd22ba",
   "metadata": {},
   "source": [
    "# Exercice : Manipulation basique de fichiers sans fonctions\n",
    "\n"
   ]
  },
  {
   "cell_type": "markdown",
   "id": "d5af6582",
   "metadata": {},
   "source": [
    "1-Créez un fichier texte appelé \"cars.txt\" avec quelques lignes de texte.\n",
    "\n",
    "2-Écrivez un programme Python qui fait ce qui suit :\n",
    "\n",
    "   -Ouvre le fichier \"cars.txt\".\n",
    "    -Affiche le nombre de lignes dans le fichier.\n",
    "   -Affiche le premier caractère de chaque ligne.\n",
    "   -Crée un nouveau fichier appelé \"cars_inverse.txt\" avec le contenu de chaque ligne inversé."
   ]
  },
  {
   "cell_type": "code",
   "execution_count": null,
   "id": "36a95246",
   "metadata": {},
   "outputs": [],
   "source": []
  },
  {
   "cell_type": "code",
   "execution_count": null,
   "id": "0f904565",
   "metadata": {},
   "outputs": [],
   "source": []
  },
  {
   "cell_type": "code",
   "execution_count": null,
   "id": "b7ef8f31",
   "metadata": {},
   "outputs": [],
   "source": []
  },
  {
   "cell_type": "code",
   "execution_count": null,
   "id": "dc52b3cb",
   "metadata": {},
   "outputs": [],
   "source": []
  },
  {
   "cell_type": "code",
   "execution_count": null,
   "id": "c85a7ee7",
   "metadata": {},
   "outputs": [],
   "source": []
  },
  {
   "cell_type": "code",
   "execution_count": null,
   "id": "76edb249",
   "metadata": {},
   "outputs": [],
   "source": []
  },
  {
   "cell_type": "code",
   "execution_count": null,
   "id": "2bf7c7dc",
   "metadata": {},
   "outputs": [],
   "source": []
  },
  {
   "cell_type": "code",
   "execution_count": null,
   "id": "15c5f1dd",
   "metadata": {},
   "outputs": [],
   "source": [
    "try:\n",
    "    # Ouvrir le fichier original en mode lecture\n",
    "    with open(\"cars.txt\", 'r') as fichier_original:\n",
    "        # Afficher le nombre de lignes dans le fichier\n",
    "        nombre_lignes = sum(1 for _ in fichier_original)\n",
    "        print(f\"Nombre de lignes dans le fichier : {nombre_lignes}\")\n",
    "\n",
    "        # Réinitialiser la position du curseur au début du fichier\n",
    "        fichier_original.seek(0)\n",
    "\n",
    "        # Afficher le premier caractère de chaque ligne\n",
    "        print(\"\\nPremier caractère de chaque ligne :\")\n",
    "        for ligne in fichier_original:\n",
    "            if ligne.strip():  # Ignorer les lignes vides\n",
    "                premier_caractere = ligne[0]\n",
    "                print(premier_caractere)\n",
    "\n",
    "        # Réinitialiser la position du curseur au début du fichier\n",
    "        fichier_original.seek(0)\n",
    "\n",
    "        # Créer un nouveau fichier avec le contenu inversé\n",
    "        with open(\"cars_inverse.txt\", 'w') as fichier_inverse:\n",
    "            for ligne in fichier_original:\n",
    "                ligne_inverse = ligne.strip()[::-1]  # Inverser la ligne\n",
    "                fichier_inverse.write(ligne_inverse + '\\n')\n",
    "\n",
    "    print(\"\\nOpérations réussies.\")\n",
    "\n",
    "except FileNotFoundError:\n",
    "    print(\"Le fichier 'cars_original.txt' n'a pas été trouvé.\")\n",
    "except Exception as e:\n",
    "    print(f\"Une erreur s'est produite : {e}\")\n"
   ]
  }
 ],
 "metadata": {
  "kernelspec": {
   "display_name": "Python 3 (ipykernel)",
   "language": "python",
   "name": "python3"
  },
  "language_info": {
   "codemirror_mode": {
    "name": "ipython",
    "version": 3
   },
   "file_extension": ".py",
   "mimetype": "text/x-python",
   "name": "python",
   "nbconvert_exporter": "python",
   "pygments_lexer": "ipython3",
   "version": "3.11.5"
  }
 },
 "nbformat": 4,
 "nbformat_minor": 5
}
