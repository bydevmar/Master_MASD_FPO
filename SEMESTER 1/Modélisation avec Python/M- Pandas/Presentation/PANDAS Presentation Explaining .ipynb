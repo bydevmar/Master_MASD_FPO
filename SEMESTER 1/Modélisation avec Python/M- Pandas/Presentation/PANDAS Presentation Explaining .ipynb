{
 "cells": [
  {
   "cell_type": "markdown",
   "id": "083f662a",
   "metadata": {},
   "source": [
    "# PANDAS Presentation Explaining "
   ]
  },
  {
   "cell_type": "code",
   "execution_count": 13,
   "id": "12e63c1a",
   "metadata": {},
   "outputs": [],
   "source": [
    "import pandas as pd"
   ]
  },
  {
   "cell_type": "markdown",
   "id": "1242e29c",
   "metadata": {},
   "source": [
    "# Series et DataFrames"
   ]
  },
  {
   "cell_type": "markdown",
   "id": "5ac720d5",
   "metadata": {},
   "source": [
    "## Series"
   ]
  },
  {
   "cell_type": "markdown",
   "id": "0d9b6958",
   "metadata": {},
   "source": [
    "## DataFrame"
   ]
  },
  {
   "cell_type": "code",
   "execution_count": 81,
   "id": "34ddaa2f",
   "metadata": {},
   "outputs": [
    {
     "name": "stdout",
     "output_type": "stream",
     "text": [
      "            population   area             region\n",
      "Tinghir        2187526  105.4     Drâa-Tafilalet\n",
      "Agadir          863310  240.6         Sous-massa\n",
      "Ouarzazate      516092   47.9     Drâa-Tafilalet\n",
      "CasaBlanca      479553  118.3  Casablanca-settat\n",
      "Tiznit          340017   71.9         Sous-massa\n"
     ]
    }
   ],
   "source": [
    "population_dict = {'Tinghir': 2187526, 'Agadir': 863310, 'Ouarzazate': 516092, 'CasaBlanca': 479553, 'Tiznit': 340017}\n",
    "\n",
    "population = pd.Series(population_dict)\n",
    "\n",
    "area_dict = {'Tinghir': 105.4, 'Agadir': 240.6, 'Ouarzazate': 47.9, 'CasaBlanca': 118.3, 'Tiznit': 71.9}\n",
    "\n",
    "area = pd.Series(area_dict)\n",
    "\n",
    "region_dict = {'Tinghir': \"Drâa-Tafilalet\", 'Agadir': \"Sous-massa\", 'Ouarzazate': \"Drâa-Tafilalet\", 'CasaBlanca': \"Casablanca-settat\", 'Tiznit': \"Sous-massa\"}\n",
    "\n",
    "region = pd.Series(region_dict)\n",
    "\n",
    "df = pd.DataFrame({'population': population, 'area': area , 'region': region})\n",
    "\n",
    "print(df)"
   ]
  },
  {
   "cell_type": "markdown",
   "id": "b33f7038",
   "metadata": {},
   "source": [
    "**On peut accéder aux données et aux index d’un DataFrame avec les attributs values, index et columns. Par exemple :**"
   ]
  },
  {
   "cell_type": "code",
   "execution_count": 82,
   "id": "61b4e54d",
   "metadata": {},
   "outputs": [
    {
     "name": "stdout",
     "output_type": "stream",
     "text": [
      "[[2187526 105.4 'Drâa-Tafilalet']\n",
      " [863310 240.6 'Sous-massa']\n",
      " [516092 47.9 'Drâa-Tafilalet']\n",
      " [479553 118.3 'Casablanca-settat']\n",
      " [340017 71.9 'Sous-massa']]\n",
      "Index(['Tinghir', 'Agadir', 'Ouarzazate', 'CasaBlanca', 'Tiznit'], dtype='object')\n",
      "Index(['population', 'area', 'region'], dtype='object')\n"
     ]
    }
   ],
   "source": [
    "print(df.values) # affiche [[2187526.   105.4]\n",
    "                 #         [ 863310.   240.6]\n",
    "                 #         [ 516092.    47.9]\n",
    "                 #         [ 479553.   118.3]\n",
    "                 #         [ 340017.    71.9]]\n",
    "print(df.index) # affiche Index(['Paris', 'Marseille', 'Lyon', 'Toulouse', 'Nice'], dtype='object')\n",
    "print(df.columns) # affiche Index(['population', 'area'], dtype='object')\n"
   ]
  },
  {
   "cell_type": "markdown",
   "id": "e361f84b",
   "metadata": {},
   "source": [
    "**On peut accéder aux colonnes d’un DataFrame par leur nom, en utilisant la notation [] ou la notation .. Par exemple :**"
   ]
  },
  {
   "cell_type": "code",
   "execution_count": 83,
   "id": "3dac181c",
   "metadata": {
    "scrolled": true
   },
   "outputs": [
    {
     "name": "stdout",
     "output_type": "stream",
     "text": [
      "Methode 1 : \n",
      "Tinghir       2187526\n",
      "Agadir         863310\n",
      "Ouarzazate     516092\n",
      "CasaBlanca     479553\n",
      "Tiznit         340017\n",
      "Name: population, dtype: int64\n",
      " \n",
      " Methode 2 : \n",
      "Tinghir       2187526\n",
      "Agadir         863310\n",
      "Ouarzazate     516092\n",
      "CasaBlanca     479553\n",
      "Tiznit         340017\n",
      "Name: population, dtype: int64\n"
     ]
    }
   ],
   "source": [
    "print(\"Methode 1 : \")\n",
    "print(df['population']) # affiche la colonne population\n",
    "\n",
    "print(\" \\n Methode 2 : \")\n",
    "print(df.population) # affiche la même chose"
   ]
  },
  {
   "cell_type": "markdown",
   "id": "dda4bd9e",
   "metadata": {},
   "source": [
    "**On peut accéder aux lignes d’un DataFrame par leur index, en utilisant la méthode loc[]. Par exemple :**"
   ]
  },
  {
   "cell_type": "code",
   "execution_count": 84,
   "id": "ef56400b",
   "metadata": {},
   "outputs": [
    {
     "ename": "KeyError",
     "evalue": "'Paris'",
     "output_type": "error",
     "traceback": [
      "\u001b[1;31m---------------------------------------------------------------------------\u001b[0m",
      "\u001b[1;31mKeyError\u001b[0m                                  Traceback (most recent call last)",
      "File \u001b[1;32m~\\anaconda3\\Lib\\site-packages\\pandas\\core\\indexes\\base.py:3791\u001b[0m, in \u001b[0;36mIndex.get_loc\u001b[1;34m(self, key)\u001b[0m\n\u001b[0;32m   3790\u001b[0m \u001b[38;5;28;01mtry\u001b[39;00m:\n\u001b[1;32m-> 3791\u001b[0m     \u001b[38;5;28;01mreturn\u001b[39;00m \u001b[38;5;28mself\u001b[39m\u001b[38;5;241m.\u001b[39m_engine\u001b[38;5;241m.\u001b[39mget_loc(casted_key)\n\u001b[0;32m   3792\u001b[0m \u001b[38;5;28;01mexcept\u001b[39;00m \u001b[38;5;167;01mKeyError\u001b[39;00m \u001b[38;5;28;01mas\u001b[39;00m err:\n",
      "File \u001b[1;32mindex.pyx:152\u001b[0m, in \u001b[0;36mpandas._libs.index.IndexEngine.get_loc\u001b[1;34m()\u001b[0m\n",
      "File \u001b[1;32mindex.pyx:181\u001b[0m, in \u001b[0;36mpandas._libs.index.IndexEngine.get_loc\u001b[1;34m()\u001b[0m\n",
      "File \u001b[1;32mpandas\\_libs\\hashtable_class_helper.pxi:7080\u001b[0m, in \u001b[0;36mpandas._libs.hashtable.PyObjectHashTable.get_item\u001b[1;34m()\u001b[0m\n",
      "File \u001b[1;32mpandas\\_libs\\hashtable_class_helper.pxi:7088\u001b[0m, in \u001b[0;36mpandas._libs.hashtable.PyObjectHashTable.get_item\u001b[1;34m()\u001b[0m\n",
      "\u001b[1;31mKeyError\u001b[0m: 'Paris'",
      "\nThe above exception was the direct cause of the following exception:\n",
      "\u001b[1;31mKeyError\u001b[0m                                  Traceback (most recent call last)",
      "Cell \u001b[1;32mIn[84], line 1\u001b[0m\n\u001b[1;32m----> 1\u001b[0m \u001b[38;5;28mprint\u001b[39m(df\u001b[38;5;241m.\u001b[39mloc[\u001b[38;5;124m'\u001b[39m\u001b[38;5;124mParis\u001b[39m\u001b[38;5;124m'\u001b[39m])\n",
      "File \u001b[1;32m~\\anaconda3\\Lib\\site-packages\\pandas\\core\\indexing.py:1153\u001b[0m, in \u001b[0;36m_LocationIndexer.__getitem__\u001b[1;34m(self, key)\u001b[0m\n\u001b[0;32m   1150\u001b[0m axis \u001b[38;5;241m=\u001b[39m \u001b[38;5;28mself\u001b[39m\u001b[38;5;241m.\u001b[39maxis \u001b[38;5;129;01mor\u001b[39;00m \u001b[38;5;241m0\u001b[39m\n\u001b[0;32m   1152\u001b[0m maybe_callable \u001b[38;5;241m=\u001b[39m com\u001b[38;5;241m.\u001b[39mapply_if_callable(key, \u001b[38;5;28mself\u001b[39m\u001b[38;5;241m.\u001b[39mobj)\n\u001b[1;32m-> 1153\u001b[0m \u001b[38;5;28;01mreturn\u001b[39;00m \u001b[38;5;28mself\u001b[39m\u001b[38;5;241m.\u001b[39m_getitem_axis(maybe_callable, axis\u001b[38;5;241m=\u001b[39maxis)\n",
      "File \u001b[1;32m~\\anaconda3\\Lib\\site-packages\\pandas\\core\\indexing.py:1393\u001b[0m, in \u001b[0;36m_LocIndexer._getitem_axis\u001b[1;34m(self, key, axis)\u001b[0m\n\u001b[0;32m   1391\u001b[0m \u001b[38;5;66;03m# fall thru to straight lookup\u001b[39;00m\n\u001b[0;32m   1392\u001b[0m \u001b[38;5;28mself\u001b[39m\u001b[38;5;241m.\u001b[39m_validate_key(key, axis)\n\u001b[1;32m-> 1393\u001b[0m \u001b[38;5;28;01mreturn\u001b[39;00m \u001b[38;5;28mself\u001b[39m\u001b[38;5;241m.\u001b[39m_get_label(key, axis\u001b[38;5;241m=\u001b[39maxis)\n",
      "File \u001b[1;32m~\\anaconda3\\Lib\\site-packages\\pandas\\core\\indexing.py:1343\u001b[0m, in \u001b[0;36m_LocIndexer._get_label\u001b[1;34m(self, label, axis)\u001b[0m\n\u001b[0;32m   1341\u001b[0m \u001b[38;5;28;01mdef\u001b[39;00m \u001b[38;5;21m_get_label\u001b[39m(\u001b[38;5;28mself\u001b[39m, label, axis: AxisInt):\n\u001b[0;32m   1342\u001b[0m     \u001b[38;5;66;03m# GH#5567 this will fail if the label is not present in the axis.\u001b[39;00m\n\u001b[1;32m-> 1343\u001b[0m     \u001b[38;5;28;01mreturn\u001b[39;00m \u001b[38;5;28mself\u001b[39m\u001b[38;5;241m.\u001b[39mobj\u001b[38;5;241m.\u001b[39mxs(label, axis\u001b[38;5;241m=\u001b[39maxis)\n",
      "File \u001b[1;32m~\\anaconda3\\Lib\\site-packages\\pandas\\core\\generic.py:4236\u001b[0m, in \u001b[0;36mNDFrame.xs\u001b[1;34m(self, key, axis, level, drop_level)\u001b[0m\n\u001b[0;32m   4234\u001b[0m             new_index \u001b[38;5;241m=\u001b[39m index[loc]\n\u001b[0;32m   4235\u001b[0m \u001b[38;5;28;01melse\u001b[39;00m:\n\u001b[1;32m-> 4236\u001b[0m     loc \u001b[38;5;241m=\u001b[39m index\u001b[38;5;241m.\u001b[39mget_loc(key)\n\u001b[0;32m   4238\u001b[0m     \u001b[38;5;28;01mif\u001b[39;00m \u001b[38;5;28misinstance\u001b[39m(loc, np\u001b[38;5;241m.\u001b[39mndarray):\n\u001b[0;32m   4239\u001b[0m         \u001b[38;5;28;01mif\u001b[39;00m loc\u001b[38;5;241m.\u001b[39mdtype \u001b[38;5;241m==\u001b[39m np\u001b[38;5;241m.\u001b[39mbool_:\n",
      "File \u001b[1;32m~\\anaconda3\\Lib\\site-packages\\pandas\\core\\indexes\\base.py:3798\u001b[0m, in \u001b[0;36mIndex.get_loc\u001b[1;34m(self, key)\u001b[0m\n\u001b[0;32m   3793\u001b[0m     \u001b[38;5;28;01mif\u001b[39;00m \u001b[38;5;28misinstance\u001b[39m(casted_key, \u001b[38;5;28mslice\u001b[39m) \u001b[38;5;129;01mor\u001b[39;00m (\n\u001b[0;32m   3794\u001b[0m         \u001b[38;5;28misinstance\u001b[39m(casted_key, abc\u001b[38;5;241m.\u001b[39mIterable)\n\u001b[0;32m   3795\u001b[0m         \u001b[38;5;129;01mand\u001b[39;00m \u001b[38;5;28many\u001b[39m(\u001b[38;5;28misinstance\u001b[39m(x, \u001b[38;5;28mslice\u001b[39m) \u001b[38;5;28;01mfor\u001b[39;00m x \u001b[38;5;129;01min\u001b[39;00m casted_key)\n\u001b[0;32m   3796\u001b[0m     ):\n\u001b[0;32m   3797\u001b[0m         \u001b[38;5;28;01mraise\u001b[39;00m InvalidIndexError(key)\n\u001b[1;32m-> 3798\u001b[0m     \u001b[38;5;28;01mraise\u001b[39;00m \u001b[38;5;167;01mKeyError\u001b[39;00m(key) \u001b[38;5;28;01mfrom\u001b[39;00m \u001b[38;5;21;01merr\u001b[39;00m\n\u001b[0;32m   3799\u001b[0m \u001b[38;5;28;01mexcept\u001b[39;00m \u001b[38;5;167;01mTypeError\u001b[39;00m:\n\u001b[0;32m   3800\u001b[0m     \u001b[38;5;66;03m# If we have a listlike key, _check_indexing_error will raise\u001b[39;00m\n\u001b[0;32m   3801\u001b[0m     \u001b[38;5;66;03m#  InvalidIndexError. Otherwise we fall through and re-raise\u001b[39;00m\n\u001b[0;32m   3802\u001b[0m     \u001b[38;5;66;03m#  the TypeError.\u001b[39;00m\n\u001b[0;32m   3803\u001b[0m     \u001b[38;5;28mself\u001b[39m\u001b[38;5;241m.\u001b[39m_check_indexing_error(key)\n",
      "\u001b[1;31mKeyError\u001b[0m: 'Paris'"
     ]
    }
   ],
   "source": [
    "print(df.loc['Paris']) # affiche la ligne correspondant à Paris"
   ]
  },
  {
   "cell_type": "markdown",
   "id": "29ca53fa",
   "metadata": {},
   "source": [
    "**On peut aussi accéder aux lignes d’un DataFrame par leur position, en utilisant la méthode iloc[]. Par exemple :**"
   ]
  },
  {
   "cell_type": "code",
   "execution_count": 85,
   "id": "bedb32c4",
   "metadata": {},
   "outputs": [
    {
     "name": "stdout",
     "output_type": "stream",
     "text": [
      "population           2187526\n",
      "area                   105.4\n",
      "region        Drâa-Tafilalet\n",
      "Name: Tinghir, dtype: object\n"
     ]
    }
   ],
   "source": [
    "print(df.iloc[0]) # affiche la première ligne du DataFrame"
   ]
  },
  {
   "cell_type": "markdown",
   "id": "a91bcb75",
   "metadata": {},
   "source": [
    "**On peut accéder à un élément spécifique d’un DataFrame en utilisant la méthode at[]. Par exemple :**"
   ]
  },
  {
   "cell_type": "code",
   "execution_count": 88,
   "id": "8a2ca9ce",
   "metadata": {},
   "outputs": [
    {
     "name": "stdout",
     "output_type": "stream",
     "text": [
      "2187526\n"
     ]
    }
   ],
   "source": [
    "print(df.at['Tinghir', 'population']) # affiche 2187526"
   ]
  },
  {
   "cell_type": "markdown",
   "id": "987d78ef",
   "metadata": {},
   "source": [
    "# 4. Créer un DataFrame à partir de différentes sources"
   ]
  },
  {
   "attachments": {},
   "cell_type": "markdown",
   "id": "b3285e01",
   "metadata": {},
   "source": [
    "## À partir d'une liste de listes\n",
    ">Ce code crée un DataFrame avec trois lignes et trois colonnes, à partir d’une liste de listes. On spécifie les index et les colonnes avec les paramètres index et columns. Le résultat affiché est :"
   ]
  },
  {
   "cell_type": "code",
   "execution_count": 89,
   "id": "e1912b06",
   "metadata": {
    "scrolled": true
   },
   "outputs": [
    {
     "name": "stdout",
     "output_type": "stream",
     "text": [
      "   x  y  z\n",
      "a  1  2  3\n",
      "b  4  5  6\n",
      "c  7  8  9\n"
     ]
    }
   ],
   "source": [
    "data = [[1, 2, 3], [4, 5, 6], [7, 8, 9]]\n",
    "df = pd.DataFrame(data, index=['a', 'b', 'c'], columns=['x', 'y', 'z'])\n",
    "print(df)"
   ]
  },
  {
   "cell_type": "markdown",
   "id": "ef0ad76d",
   "metadata": {},
   "source": [
    "## À partir d’un dictionnaire de listes :\n",
    "> Ce code crée un DataFrame avec trois lignes et trois colonnes, à partir d’un dictionnaire de listes. Les clés du dictionnaire deviennent les noms des colonnes, et les valeurs du dictionnaire deviennent les données des colonnes. On spécifie les index avec le paramètre index. Le résultat affiché est le même que le précédent."
   ]
  },
  {
   "cell_type": "code",
   "execution_count": 90,
   "id": "caf82dee",
   "metadata": {},
   "outputs": [
    {
     "name": "stdout",
     "output_type": "stream",
     "text": [
      "   x  y  z\n",
      "a  1  2  3\n",
      "b  4  5  6\n",
      "c  7  8  9\n"
     ]
    }
   ],
   "source": [
    "import pandas as pd\n",
    "data = {'x': [1, 4, 7], 'y': [2, 5, 8], 'z': [3, 6, 9]}\n",
    "df = pd.DataFrame(data, index=['a', 'b', 'c'])\n",
    "print(df)"
   ]
  },
  {
   "cell_type": "markdown",
   "id": "7dd22983",
   "metadata": {},
   "source": [
    "## À partir d’un array NumPy :\n",
    ">Ce code crée un DataFrame avec trois lignes et trois colonnes, à partir d’un array NumPy. On spécifie les index et les colonnes avec les paramètres index et columns. Le résultat affiché est le même que les précédents."
   ]
  },
  {
   "cell_type": "code",
   "execution_count": 91,
   "id": "528ee2ca",
   "metadata": {},
   "outputs": [
    {
     "name": "stdout",
     "output_type": "stream",
     "text": [
      "   x  y  z\n",
      "a  1  2  3\n",
      "b  4  5  6\n",
      "c  7  8  9\n"
     ]
    }
   ],
   "source": [
    "import pandas as pd\n",
    "import numpy as np\n",
    "data = np.array([[1, 2, 3], [4, 5, 6], [7, 8, 9]])\n",
    "df = pd.DataFrame(data, index=['a', 'b', 'c'], columns=['x', 'y', 'z'])\n",
    "print(df)"
   ]
  },
  {
   "cell_type": "markdown",
   "id": "44276fb6",
   "metadata": {},
   "source": [
    "## creation des Fichiers"
   ]
  },
  {
   "cell_type": "code",
   "execution_count": 92,
   "id": "c2182f47",
   "metadata": {},
   "outputs": [
    {
     "ename": "OperationalError",
     "evalue": "table PC already exists",
     "output_type": "error",
     "traceback": [
      "\u001b[1;31m---------------------------------------------------------------------------\u001b[0m",
      "\u001b[1;31mOperationalError\u001b[0m                          Traceback (most recent call last)",
      "Cell \u001b[1;32mIn[92], line 40\u001b[0m\n\u001b[0;32m     37\u001b[0m conn \u001b[38;5;241m=\u001b[39m sqlite3\u001b[38;5;241m.\u001b[39mconnect(\u001b[38;5;124m'\u001b[39m\u001b[38;5;124mpc.db\u001b[39m\u001b[38;5;124m'\u001b[39m)\n\u001b[0;32m     38\u001b[0m cursor \u001b[38;5;241m=\u001b[39m conn\u001b[38;5;241m.\u001b[39mcursor()\n\u001b[1;32m---> 40\u001b[0m cursor\u001b[38;5;241m.\u001b[39mexecute(\u001b[38;5;124m'''\u001b[39m\n\u001b[0;32m     41\u001b[0m \u001b[38;5;124m    CREATE TABLE PC (\u001b[39m\n\u001b[0;32m     42\u001b[0m \u001b[38;5;124m        id INTEGER PRIMARY KEY,\u001b[39m\n\u001b[0;32m     43\u001b[0m \u001b[38;5;124m        nom TEXT,\u001b[39m\n\u001b[0;32m     44\u001b[0m \u001b[38;5;124m        marque TEXT,\u001b[39m\n\u001b[0;32m     45\u001b[0m \u001b[38;5;124m        ram INTEGER,\u001b[39m\n\u001b[0;32m     46\u001b[0m \u001b[38;5;124m        processeur TEXT\u001b[39m\n\u001b[0;32m     47\u001b[0m \u001b[38;5;124m    )\u001b[39m\n\u001b[0;32m     48\u001b[0m \u001b[38;5;124m'''\u001b[39m)\n\u001b[0;32m     50\u001b[0m \u001b[38;5;28;01mfor\u001b[39;00m pc \u001b[38;5;129;01min\u001b[39;00m ensemble_de_pc:\n\u001b[0;32m     51\u001b[0m     cursor\u001b[38;5;241m.\u001b[39mexecute(\u001b[38;5;124m'''\u001b[39m\n\u001b[0;32m     52\u001b[0m \u001b[38;5;124m        INSERT INTO PC (nom, marque, ram, processeur)\u001b[39m\n\u001b[0;32m     53\u001b[0m \u001b[38;5;124m        VALUES (?, ?, ?, ?)\u001b[39m\n\u001b[0;32m     54\u001b[0m \u001b[38;5;124m    \u001b[39m\u001b[38;5;124m'''\u001b[39m, (pc[\u001b[38;5;124m'\u001b[39m\u001b[38;5;124mnom\u001b[39m\u001b[38;5;124m'\u001b[39m], pc[\u001b[38;5;124m'\u001b[39m\u001b[38;5;124mmarque\u001b[39m\u001b[38;5;124m'\u001b[39m], pc[\u001b[38;5;124m'\u001b[39m\u001b[38;5;124mram\u001b[39m\u001b[38;5;124m'\u001b[39m], pc[\u001b[38;5;124m'\u001b[39m\u001b[38;5;124mprocesseur\u001b[39m\u001b[38;5;124m'\u001b[39m]))\n",
      "\u001b[1;31mOperationalError\u001b[0m: table PC already exists"
     ]
    }
   ],
   "source": [
    "import csv\n",
    "import json\n",
    "import xml.etree.ElementTree as ET\n",
    "import sqlite3\n",
    "\n",
    "# Exemple de données pour les PC\n",
    "ensemble_de_pc = [\n",
    "    {\"id\": 1, \"nom\": \"PC1\", \"marque\": \"Dell\", \"ram\": 8, \"processeur\": \"Intel i5\"},\n",
    "    {\"id\": 2, \"nom\": \"PC2\", \"marque\": \"HP\", \"ram\": 16, \"processeur\": \"AMD Ryzen 7\"},\n",
    "    # Ajoutez d'autres PC au besoin\n",
    "]\n",
    "\n",
    "# Générer le fichier CSV\n",
    "with open('pc.csv', 'w', newline='') as csvfile:\n",
    "    fieldnames = ensemble_de_pc[0].keys()\n",
    "    writer = csv.DictWriter(csvfile, fieldnames=fieldnames)\n",
    "    \n",
    "    writer.writeheader()\n",
    "    for pc in ensemble_de_pc:\n",
    "        writer.writerow(pc)\n",
    "\n",
    "# Générer le fichier JSON\n",
    "with open('pc.json', 'w') as jsonfile:\n",
    "    json.dump(ensemble_de_pc, jsonfile, indent=2)\n",
    "\n",
    "# Générer le fichier XML\n",
    "root = ET.Element(\"pcs\")\n",
    "for pc in ensemble_de_pc:\n",
    "    pc_element = ET.SubElement(root, \"pc\")\n",
    "    for key, value in pc.items():\n",
    "        ET.SubElement(pc_element, key).text = str(value)\n",
    "\n",
    "tree = ET.ElementTree(root)\n",
    "tree.write('pc.xml')\n",
    "\n",
    "# Générer le fichier SQLite (fichier .db)\n",
    "conn = sqlite3.connect('pc.db')\n",
    "cursor = conn.cursor()\n",
    "\n",
    "cursor.execute('''\n",
    "    CREATE TABLE PC (\n",
    "        id INTEGER PRIMARY KEY,\n",
    "        nom TEXT,\n",
    "        marque TEXT,\n",
    "        ram INTEGER,\n",
    "        processeur TEXT\n",
    "    )\n",
    "''')\n",
    "\n",
    "for pc in ensemble_de_pc:\n",
    "    cursor.execute('''\n",
    "        INSERT INTO PC (nom, marque, ram, processeur)\n",
    "        VALUES (?, ?, ?, ?)\n",
    "    ''', (pc['nom'], pc['marque'], pc['ram'], pc['processeur']))\n",
    "\n",
    "conn.commit()\n",
    "conn.close()"
   ]
  },
  {
   "cell_type": "markdown",
   "id": "08d5ea97",
   "metadata": {},
   "source": [
    "## À partir d’un fichier CSV :\n",
    "> Ce code crée un DataFrame à partir d’un fichier CSV, qui est un format courant pour stocker des données tabulaires. Le fichier CSV doit avoir une ligne d’en-tête avec les noms des colonnes, et des lignes de données séparées par des virgules. Par exemple, le fichier data.csv pourrait contenir "
   ]
  },
  {
   "cell_type": "code",
   "execution_count": 93,
   "id": "1231313c",
   "metadata": {},
   "outputs": [
    {
     "name": "stdout",
     "output_type": "stream",
     "text": [
      "   id  nom marque  ram   processeur\n",
      "0   1  PC1   Dell    8     Intel i5\n",
      "1   2  PC2     HP   16  AMD Ryzen 7\n"
     ]
    }
   ],
   "source": [
    "import pandas as pd\n",
    "df = pd.read_csv('pc.csv')\n",
    "print(df)"
   ]
  },
  {
   "cell_type": "markdown",
   "id": "d03b6d61",
   "metadata": {},
   "source": [
    "## À partir d’un fichier JSON :\n",
    ">Ce code crée un DataFrame à partir d’un fichier JSON, qui est un format courant pour stocker des données structurées. Le fichier JSON doit avoir un objet avec des paires clé-valeur, où les clés sont les noms des colonnes, et les valeurs sont des listes de données."
   ]
  },
  {
   "cell_type": "code",
   "execution_count": 94,
   "id": "80391712",
   "metadata": {},
   "outputs": [
    {
     "name": "stdout",
     "output_type": "stream",
     "text": [
      "   id  nom marque  ram   processeur\n",
      "0   1  PC1   Dell    8     Intel i5\n",
      "1   2  PC2     HP   16  AMD Ryzen 7\n"
     ]
    }
   ],
   "source": [
    "import pandas as pd\n",
    "df = pd.read_json('pc.json')\n",
    "print(df)"
   ]
  },
  {
   "cell_type": "markdown",
   "id": "7b637176",
   "metadata": {},
   "source": [
    "## À partir d’une base de données :\n",
    ">Ce code crée un DataFrame à partir d’une base de données SQLite, qui est un système de gestion de base de données relationnelle. On utilise le module sqlite3 pour se connecter à la base de données, et la méthode pd.read_sql() pour exécuter une requête SQL et renvoyer le résultat sous forme de DataFrame."
   ]
  },
  {
   "cell_type": "code",
   "execution_count": 95,
   "id": "f38470c9",
   "metadata": {},
   "outputs": [
    {
     "name": "stdout",
     "output_type": "stream",
     "text": [
      "   id  nom marque  ram   processeur\n",
      "0   1  PC1   Dell    8     Intel i5\n",
      "1   2  PC2     HP   16  AMD Ryzen 7\n"
     ]
    }
   ],
   "source": [
    "import pandas as pd\n",
    "import sqlite3\n",
    "conn = sqlite3.connect('pc.db')\n",
    "df = pd.read_sql('SELECT * FROM pc', conn)\n",
    "print(df)"
   ]
  },
  {
   "attachments": {},
   "cell_type": "markdown",
   "id": "26954249",
   "metadata": {},
   "source": [
    "# 5. Explorer et transformer un DataFrame"
   ]
  },
  {
   "cell_type": "code",
   "execution_count": 97,
   "id": "f5582b17",
   "metadata": {},
   "outputs": [
    {
     "name": "stdout",
     "output_type": "stream",
     "text": [
      "            population   area             region\n",
      "Tinghir        2187526  105.4     Drâa-Tafilalet\n",
      "Agadir          863310  240.6         Sous-massa\n",
      "Ouarzazate      516092   47.9     Drâa-Tafilalet\n",
      "CasaBlanca      479553  118.3  Casablanca-settat\n",
      "Tiznit          340017   71.9         Sous-massa\n"
     ]
    }
   ],
   "source": [
    "#DATA\n",
    "population_dict = {'Tinghir': 2187526, 'Agadir': 863310, 'Ouarzazate': 516092, 'CasaBlanca': 479553, 'Tiznit': 340017}\n",
    "\n",
    "population = pd.Series(population_dict)\n",
    "\n",
    "area_dict = {'Tinghir': 105.4, 'Agadir': 240.6, 'Ouarzazate': 47.9, 'CasaBlanca': 118.3, 'Tiznit': 71.9}\n",
    "\n",
    "area = pd.Series(area_dict)\n",
    "\n",
    "region_dict = {'Tinghir': \"Drâa-Tafilalet\", 'Agadir': \"Sous-massa\", 'Ouarzazate': \"Drâa-Tafilalet\", 'CasaBlanca': \"Casablanca-settat\", 'Tiznit': \"Sous-massa\"}\n",
    "\n",
    "region = pd.Series(region_dict)\n",
    "\n",
    "df = pd.DataFrame({'population': population, 'area': area , 'region': region})\n",
    "\n",
    "print(df)\n"
   ]
  },
  {
   "attachments": {},
   "cell_type": "markdown",
   "id": "731dde72",
   "metadata": {},
   "source": [
    "## 4-1- Accéder a des colonnes et des lignes\n",
    "\n",
    "### Accéder à une colonne:\n",
    ">Pour accéder à une colonne d’un DataFrame, vous pouvez utiliser la notation [] ou la notation . avec le nom de la colonne. Par exemple, si vous avez un DataFrame nommé df avec une colonne nommée population, vous pouvez faire :"
   ]
  },
  {
   "cell_type": "code",
   "execution_count": 99,
   "id": "395b60ec",
   "metadata": {
    "scrolled": false
   },
   "outputs": [
    {
     "data": {
      "text/plain": [
       "Tinghir       2187526\n",
       "Agadir         863310\n",
       "Ouarzazate     516092\n",
       "CasaBlanca     479553\n",
       "Tiznit         340017\n",
       "Name: population, dtype: int64"
      ]
     },
     "execution_count": 99,
     "metadata": {},
     "output_type": "execute_result"
    }
   ],
   "source": [
    "df['population']  # ou df.population"
   ]
  },
  {
   "cell_type": "markdown",
   "id": "3910e657",
   "metadata": {},
   "source": [
    "### Accéder à plusieurs colonnes:\n",
    ">Pour accéder à plusieurs colonnes d’un DataFrame, vous pouvez utiliser la notation [] avec une liste de noms de colonnes. Par exemple, si vous avez un DataFrame nommé df avec des colonnes nommées population et area, vous pouvez faire :"
   ]
  },
  {
   "cell_type": "code",
   "execution_count": 100,
   "id": "e75a1df7",
   "metadata": {
    "scrolled": true
   },
   "outputs": [
    {
     "data": {
      "text/html": [
       "<div>\n",
       "<style scoped>\n",
       "    .dataframe tbody tr th:only-of-type {\n",
       "        vertical-align: middle;\n",
       "    }\n",
       "\n",
       "    .dataframe tbody tr th {\n",
       "        vertical-align: top;\n",
       "    }\n",
       "\n",
       "    .dataframe thead th {\n",
       "        text-align: right;\n",
       "    }\n",
       "</style>\n",
       "<table border=\"1\" class=\"dataframe\">\n",
       "  <thead>\n",
       "    <tr style=\"text-align: right;\">\n",
       "      <th></th>\n",
       "      <th>population</th>\n",
       "      <th>area</th>\n",
       "    </tr>\n",
       "  </thead>\n",
       "  <tbody>\n",
       "    <tr>\n",
       "      <th>Tinghir</th>\n",
       "      <td>2187526</td>\n",
       "      <td>105.4</td>\n",
       "    </tr>\n",
       "    <tr>\n",
       "      <th>Agadir</th>\n",
       "      <td>863310</td>\n",
       "      <td>240.6</td>\n",
       "    </tr>\n",
       "    <tr>\n",
       "      <th>Ouarzazate</th>\n",
       "      <td>516092</td>\n",
       "      <td>47.9</td>\n",
       "    </tr>\n",
       "    <tr>\n",
       "      <th>CasaBlanca</th>\n",
       "      <td>479553</td>\n",
       "      <td>118.3</td>\n",
       "    </tr>\n",
       "    <tr>\n",
       "      <th>Tiznit</th>\n",
       "      <td>340017</td>\n",
       "      <td>71.9</td>\n",
       "    </tr>\n",
       "  </tbody>\n",
       "</table>\n",
       "</div>"
      ],
      "text/plain": [
       "            population   area\n",
       "Tinghir        2187526  105.4\n",
       "Agadir          863310  240.6\n",
       "Ouarzazate      516092   47.9\n",
       "CasaBlanca      479553  118.3\n",
       "Tiznit          340017   71.9"
      ]
     },
     "execution_count": 100,
     "metadata": {},
     "output_type": "execute_result"
    }
   ],
   "source": [
    "df[['population', 'area']]"
   ]
  },
  {
   "cell_type": "markdown",
   "id": "5e0d4fd2",
   "metadata": {},
   "source": [
    "### Accéder à une ligne:\n",
    ">Pour accéder à plusieurs lignes d’un DataFrame, vous pouvez utiliser la méthode loc[] avec une liste de noms d’index. Par exemple, si vous avez un DataFrame nommé df avec des lignes nommées Paris et Marseille, vous pouvez faire :"
   ]
  },
  {
   "cell_type": "code",
   "execution_count": 101,
   "id": "71dd4500",
   "metadata": {},
   "outputs": [
    {
     "data": {
      "text/plain": [
       "population            516092\n",
       "area                    47.9\n",
       "region        Drâa-Tafilalet\n",
       "Name: Ouarzazate, dtype: object"
      ]
     },
     "execution_count": 101,
     "metadata": {},
     "output_type": "execute_result"
    }
   ],
   "source": [
    "df.loc['Ouarzazate']"
   ]
  },
  {
   "cell_type": "markdown",
   "id": "f1c531dc",
   "metadata": {},
   "source": [
    "### Accéder à plusieurs lignes:\n",
    ">Pour accéder à un élément spécifique d’un DataFrame, vous pouvez utiliser la méthode at[] avec le nom de l’index de la ligne et le nom de la colonne. Par exemple, si vous avez un DataFrame nommé df avec une colonne nommée population et une ligne nommée Paris, vous pouvez faire :"
   ]
  },
  {
   "cell_type": "code",
   "execution_count": 102,
   "id": "7d703095",
   "metadata": {},
   "outputs": [
    {
     "data": {
      "text/html": [
       "<div>\n",
       "<style scoped>\n",
       "    .dataframe tbody tr th:only-of-type {\n",
       "        vertical-align: middle;\n",
       "    }\n",
       "\n",
       "    .dataframe tbody tr th {\n",
       "        vertical-align: top;\n",
       "    }\n",
       "\n",
       "    .dataframe thead th {\n",
       "        text-align: right;\n",
       "    }\n",
       "</style>\n",
       "<table border=\"1\" class=\"dataframe\">\n",
       "  <thead>\n",
       "    <tr style=\"text-align: right;\">\n",
       "      <th></th>\n",
       "      <th>population</th>\n",
       "      <th>area</th>\n",
       "      <th>region</th>\n",
       "    </tr>\n",
       "  </thead>\n",
       "  <tbody>\n",
       "    <tr>\n",
       "      <th>Tinghir</th>\n",
       "      <td>2187526</td>\n",
       "      <td>105.4</td>\n",
       "      <td>Drâa-Tafilalet</td>\n",
       "    </tr>\n",
       "    <tr>\n",
       "      <th>Ouarzazate</th>\n",
       "      <td>516092</td>\n",
       "      <td>47.9</td>\n",
       "      <td>Drâa-Tafilalet</td>\n",
       "    </tr>\n",
       "  </tbody>\n",
       "</table>\n",
       "</div>"
      ],
      "text/plain": [
       "            population   area          region\n",
       "Tinghir        2187526  105.4  Drâa-Tafilalet\n",
       "Ouarzazate      516092   47.9  Drâa-Tafilalet"
      ]
     },
     "execution_count": 102,
     "metadata": {},
     "output_type": "execute_result"
    }
   ],
   "source": [
    "df.loc[['Tinghir', 'Ouarzazate']]\n"
   ]
  },
  {
   "cell_type": "markdown",
   "id": "eff06d73",
   "metadata": {},
   "source": [
    "### Accéder à un élément spécifique:\n",
    ">Pour modifier une colonne ou une ligne d’un DataFrame, vous pouvez utiliser la notation [] ou la méthode loc[] avec une affectation. Par exemple, si vous voulez ajouter une nouvelle colonne nommée density à un DataFrame nommé df, vous pouvez faire :"
   ]
  },
  {
   "cell_type": "code",
   "execution_count": 104,
   "id": "9f2ae468",
   "metadata": {},
   "outputs": [
    {
     "data": {
      "text/plain": [
       "2187526"
      ]
     },
     "execution_count": 104,
     "metadata": {},
     "output_type": "execute_result"
    }
   ],
   "source": [
    "df.at['Tinghir', 'population']"
   ]
  },
  {
   "cell_type": "markdown",
   "id": "4c7f5acd",
   "metadata": {},
   "source": [
    "### Modifier une colonne ou une ligne:\n",
    ">Pour supprimer une colonne ou une ligne d’un DataFrame, vous pouvez utiliser la méthode drop() avec le nom de la colonne ou de l’index. Par exemple, si vous voulez supprimer la colonne density du DataFrame df, vous pouvez faire :"
   ]
  },
  {
   "cell_type": "code",
   "execution_count": 107,
   "id": "27997d00",
   "metadata": {},
   "outputs": [
    {
     "data": {
      "text/html": [
       "<div>\n",
       "<style scoped>\n",
       "    .dataframe tbody tr th:only-of-type {\n",
       "        vertical-align: middle;\n",
       "    }\n",
       "\n",
       "    .dataframe tbody tr th {\n",
       "        vertical-align: top;\n",
       "    }\n",
       "\n",
       "    .dataframe thead th {\n",
       "        text-align: right;\n",
       "    }\n",
       "</style>\n",
       "<table border=\"1\" class=\"dataframe\">\n",
       "  <thead>\n",
       "    <tr style=\"text-align: right;\">\n",
       "      <th></th>\n",
       "      <th>population</th>\n",
       "      <th>area</th>\n",
       "      <th>region</th>\n",
       "      <th>density</th>\n",
       "    </tr>\n",
       "  </thead>\n",
       "  <tbody>\n",
       "    <tr>\n",
       "      <th>Tinghir</th>\n",
       "      <td>2187526</td>\n",
       "      <td>105.4</td>\n",
       "      <td>Drâa-Tafilalet</td>\n",
       "      <td>20754.516129</td>\n",
       "    </tr>\n",
       "    <tr>\n",
       "      <th>Agadir</th>\n",
       "      <td>863310</td>\n",
       "      <td>240.6</td>\n",
       "      <td>Sous-massa</td>\n",
       "      <td>3588.154613</td>\n",
       "    </tr>\n",
       "    <tr>\n",
       "      <th>Ouarzazate</th>\n",
       "      <td>516092</td>\n",
       "      <td>47.9</td>\n",
       "      <td>Drâa-Tafilalet</td>\n",
       "      <td>10774.363257</td>\n",
       "    </tr>\n",
       "    <tr>\n",
       "      <th>CasaBlanca</th>\n",
       "      <td>479553</td>\n",
       "      <td>118.3</td>\n",
       "      <td>Casablanca-settat</td>\n",
       "      <td>4053.702451</td>\n",
       "    </tr>\n",
       "    <tr>\n",
       "      <th>Tiznit</th>\n",
       "      <td>340017</td>\n",
       "      <td>71.9</td>\n",
       "      <td>Sous-massa</td>\n",
       "      <td>4729.026426</td>\n",
       "    </tr>\n",
       "  </tbody>\n",
       "</table>\n",
       "</div>"
      ],
      "text/plain": [
       "            population   area             region       density\n",
       "Tinghir        2187526  105.4     Drâa-Tafilalet  20754.516129\n",
       "Agadir          863310  240.6         Sous-massa   3588.154613\n",
       "Ouarzazate      516092   47.9     Drâa-Tafilalet  10774.363257\n",
       "CasaBlanca      479553  118.3  Casablanca-settat   4053.702451\n",
       "Tiznit          340017   71.9         Sous-massa   4729.026426"
      ]
     },
     "execution_count": 107,
     "metadata": {},
     "output_type": "execute_result"
    }
   ],
   "source": [
    "df['density'] = df['population'] / df['area']\n",
    "df"
   ]
  },
  {
   "cell_type": "markdown",
   "id": "65c795a8",
   "metadata": {},
   "source": [
    "### Supprimer une colonne:"
   ]
  },
  {
   "cell_type": "code",
   "execution_count": 108,
   "id": "e44b8d83",
   "metadata": {
    "scrolled": true
   },
   "outputs": [
    {
     "data": {
      "text/html": [
       "<div>\n",
       "<style scoped>\n",
       "    .dataframe tbody tr th:only-of-type {\n",
       "        vertical-align: middle;\n",
       "    }\n",
       "\n",
       "    .dataframe tbody tr th {\n",
       "        vertical-align: top;\n",
       "    }\n",
       "\n",
       "    .dataframe thead th {\n",
       "        text-align: right;\n",
       "    }\n",
       "</style>\n",
       "<table border=\"1\" class=\"dataframe\">\n",
       "  <thead>\n",
       "    <tr style=\"text-align: right;\">\n",
       "      <th></th>\n",
       "      <th>population</th>\n",
       "      <th>area</th>\n",
       "      <th>region</th>\n",
       "    </tr>\n",
       "  </thead>\n",
       "  <tbody>\n",
       "    <tr>\n",
       "      <th>Tinghir</th>\n",
       "      <td>2187526</td>\n",
       "      <td>105.4</td>\n",
       "      <td>Drâa-Tafilalet</td>\n",
       "    </tr>\n",
       "    <tr>\n",
       "      <th>Agadir</th>\n",
       "      <td>863310</td>\n",
       "      <td>240.6</td>\n",
       "      <td>Sous-massa</td>\n",
       "    </tr>\n",
       "    <tr>\n",
       "      <th>Ouarzazate</th>\n",
       "      <td>516092</td>\n",
       "      <td>47.9</td>\n",
       "      <td>Drâa-Tafilalet</td>\n",
       "    </tr>\n",
       "    <tr>\n",
       "      <th>CasaBlanca</th>\n",
       "      <td>479553</td>\n",
       "      <td>118.3</td>\n",
       "      <td>Casablanca-settat</td>\n",
       "    </tr>\n",
       "    <tr>\n",
       "      <th>Tiznit</th>\n",
       "      <td>340017</td>\n",
       "      <td>71.9</td>\n",
       "      <td>Sous-massa</td>\n",
       "    </tr>\n",
       "  </tbody>\n",
       "</table>\n",
       "</div>"
      ],
      "text/plain": [
       "            population   area             region\n",
       "Tinghir        2187526  105.4     Drâa-Tafilalet\n",
       "Agadir          863310  240.6         Sous-massa\n",
       "Ouarzazate      516092   47.9     Drâa-Tafilalet\n",
       "CasaBlanca      479553  118.3  Casablanca-settat\n",
       "Tiznit          340017   71.9         Sous-massa"
      ]
     },
     "execution_count": 108,
     "metadata": {},
     "output_type": "execute_result"
    }
   ],
   "source": [
    "df.drop('density', axis=1 , inplace=True)\n",
    "df"
   ]
  },
  {
   "attachments": {},
   "cell_type": "markdown",
   "id": "233e28a2",
   "metadata": {},
   "source": [
    "## 4-2 Filtrer, trier, grouper et agréger des données"
   ]
  },
  {
   "cell_type": "markdown",
   "id": "841a60a1",
   "metadata": {},
   "source": [
    "### Filtrer selon une condition:\n",
    ">Pour filtrer des données d’un DataFrame selon une condition, vous pouvez utiliser la notation [] avec une expression booléenne. Par exemple, si vous voulez sélectionner les lignes du DataFrame df où la population est supérieure à un million, vous pouvez faire :"
   ]
  },
  {
   "cell_type": "code",
   "execution_count": 111,
   "id": "e6cbcc50",
   "metadata": {},
   "outputs": [
    {
     "data": {
      "text/html": [
       "<div>\n",
       "<style scoped>\n",
       "    .dataframe tbody tr th:only-of-type {\n",
       "        vertical-align: middle;\n",
       "    }\n",
       "\n",
       "    .dataframe tbody tr th {\n",
       "        vertical-align: top;\n",
       "    }\n",
       "\n",
       "    .dataframe thead th {\n",
       "        text-align: right;\n",
       "    }\n",
       "</style>\n",
       "<table border=\"1\" class=\"dataframe\">\n",
       "  <thead>\n",
       "    <tr style=\"text-align: right;\">\n",
       "      <th></th>\n",
       "      <th>population</th>\n",
       "      <th>area</th>\n",
       "      <th>region</th>\n",
       "    </tr>\n",
       "  </thead>\n",
       "  <tbody>\n",
       "    <tr>\n",
       "      <th>Tinghir</th>\n",
       "      <td>2187526</td>\n",
       "      <td>105.4</td>\n",
       "      <td>Drâa-Tafilalet</td>\n",
       "    </tr>\n",
       "    <tr>\n",
       "      <th>Agadir</th>\n",
       "      <td>863310</td>\n",
       "      <td>240.6</td>\n",
       "      <td>Sous-massa</td>\n",
       "    </tr>\n",
       "    <tr>\n",
       "      <th>Ouarzazate</th>\n",
       "      <td>516092</td>\n",
       "      <td>47.9</td>\n",
       "      <td>Drâa-Tafilalet</td>\n",
       "    </tr>\n",
       "  </tbody>\n",
       "</table>\n",
       "</div>"
      ],
      "text/plain": [
       "            population   area          region\n",
       "Tinghir        2187526  105.4  Drâa-Tafilalet\n",
       "Agadir          863310  240.6      Sous-massa\n",
       "Ouarzazate      516092   47.9  Drâa-Tafilalet"
      ]
     },
     "execution_count": 111,
     "metadata": {},
     "output_type": "execute_result"
    }
   ],
   "source": [
    "df[df['population'] > 500000]"
   ]
  },
  {
   "cell_type": "markdown",
   "id": "e33d1087",
   "metadata": {},
   "source": [
    "### Trier par ordre décroissant de population:\n",
    ">Pour trier des données d’un DataFrame selon une ou plusieurs colonnes, vous pouvez utiliser la méthode sort_values() avec le nom ou la liste des noms des colonnes. Par exemple, si vous voulez trier le DataFrame df par ordre décroissant de population, vous pouvez faire :"
   ]
  },
  {
   "cell_type": "code",
   "execution_count": 112,
   "id": "398b130a",
   "metadata": {},
   "outputs": [
    {
     "data": {
      "text/html": [
       "<div>\n",
       "<style scoped>\n",
       "    .dataframe tbody tr th:only-of-type {\n",
       "        vertical-align: middle;\n",
       "    }\n",
       "\n",
       "    .dataframe tbody tr th {\n",
       "        vertical-align: top;\n",
       "    }\n",
       "\n",
       "    .dataframe thead th {\n",
       "        text-align: right;\n",
       "    }\n",
       "</style>\n",
       "<table border=\"1\" class=\"dataframe\">\n",
       "  <thead>\n",
       "    <tr style=\"text-align: right;\">\n",
       "      <th></th>\n",
       "      <th>population</th>\n",
       "      <th>area</th>\n",
       "      <th>region</th>\n",
       "    </tr>\n",
       "  </thead>\n",
       "  <tbody>\n",
       "    <tr>\n",
       "      <th>Tinghir</th>\n",
       "      <td>2187526</td>\n",
       "      <td>105.4</td>\n",
       "      <td>Drâa-Tafilalet</td>\n",
       "    </tr>\n",
       "    <tr>\n",
       "      <th>Agadir</th>\n",
       "      <td>863310</td>\n",
       "      <td>240.6</td>\n",
       "      <td>Sous-massa</td>\n",
       "    </tr>\n",
       "    <tr>\n",
       "      <th>Ouarzazate</th>\n",
       "      <td>516092</td>\n",
       "      <td>47.9</td>\n",
       "      <td>Drâa-Tafilalet</td>\n",
       "    </tr>\n",
       "    <tr>\n",
       "      <th>CasaBlanca</th>\n",
       "      <td>479553</td>\n",
       "      <td>118.3</td>\n",
       "      <td>Casablanca-settat</td>\n",
       "    </tr>\n",
       "    <tr>\n",
       "      <th>Tiznit</th>\n",
       "      <td>340017</td>\n",
       "      <td>71.9</td>\n",
       "      <td>Sous-massa</td>\n",
       "    </tr>\n",
       "  </tbody>\n",
       "</table>\n",
       "</div>"
      ],
      "text/plain": [
       "            population   area             region\n",
       "Tinghir        2187526  105.4     Drâa-Tafilalet\n",
       "Agadir          863310  240.6         Sous-massa\n",
       "Ouarzazate      516092   47.9     Drâa-Tafilalet\n",
       "CasaBlanca      479553  118.3  Casablanca-settat\n",
       "Tiznit          340017   71.9         Sous-massa"
      ]
     },
     "execution_count": 112,
     "metadata": {},
     "output_type": "execute_result"
    }
   ],
   "source": [
    "df.sort_values('population', ascending=False)"
   ]
  },
  {
   "cell_type": "markdown",
   "id": "6c7566c2",
   "metadata": {},
   "source": [
    "### Grouper selon la colonne 'region':\n",
    ">Pour grouper des données d’un DataFrame selon une ou plusieurs colonnes, vous pouvez utiliser la méthode groupby() avec le nom ou la liste des noms des colonnes. Par exemple, si vous avez un DataFrame nommé df avec une colonne nommée region, vous pouvez faire :"
   ]
  },
  {
   "cell_type": "code",
   "execution_count": 125,
   "id": "206924d3",
   "metadata": {},
   "outputs": [
    {
     "name": "stdout",
     "output_type": "stream",
     "text": [
      "Group Casablanca-settat:\n",
      "            population   area             region\n",
      "CasaBlanca      479553  118.3  Casablanca-settat\n",
      "Group Drâa-Tafilalet:\n",
      "            population   area          region\n",
      "Tinghir        2187526  105.4  Drâa-Tafilalet\n",
      "Ouarzazate      516092   47.9  Drâa-Tafilalet\n",
      "Group Sous-massa:\n",
      "        population   area      region\n",
      "Agadir      863310  240.6  Sous-massa\n",
      "Tiznit      340017   71.9  Sous-massa\n"
     ]
    }
   ],
   "source": [
    "# Groupement par densité de population\n",
    "grouped = df.groupby('region') # mean() sum() count()\n",
    "# Accéder aux données de chaque groupe sans agrégation\n",
    "for name, group in grouped:\n",
    "    print(f\"Group {name}:\")\n",
    "    print(group)"
   ]
  },
  {
   "cell_type": "markdown",
   "id": "9cd1ec44",
   "metadata": {},
   "source": [
    "### Agréger la colonne 'population':\n",
    ">Pour agréger des données d’un DataFrame selon une fonction ou une liste de fonctions, vous pouvez utiliser la méthode agg() avec le nom ou la liste des noms des fonctions. Par exemple, si vous voulez calculer la somme, la moyenne et le nombre de valeurs de la colonne population du DataFrame df, vous pouvez faire :"
   ]
  },
  {
   "cell_type": "code",
   "execution_count": 126,
   "id": "9533b46f",
   "metadata": {
    "scrolled": true
   },
   "outputs": [
    {
     "data": {
      "text/plain": [
       "sum      4386498.0\n",
       "mean      877299.6\n",
       "count          5.0\n",
       "Name: population, dtype: float64"
      ]
     },
     "execution_count": 126,
     "metadata": {},
     "output_type": "execute_result"
    }
   ],
   "source": [
    "df['population'].agg(['sum', 'mean', 'count'])"
   ]
  },
  {
   "cell_type": "markdown",
   "id": "84d43b0e",
   "metadata": {},
   "source": [
    "## Gérer les valeurs manquantes et les doublons\n",
    "### Détecter les valeurs manquantes:\n",
    ">Pour détecter les valeurs manquantes d’un DataFrame, vous pouvez utiliser la méthode isna() qui renvoie un DataFrame de booléens indiquant la présence ou l’absence de valeurs. Par exemple, si vous avez un DataFrame nommé df avec des valeurs manquantes, vous pouvez faire :"
   ]
  },
  {
   "cell_type": "code",
   "execution_count": 127,
   "id": "d2e073e8",
   "metadata": {},
   "outputs": [
    {
     "data": {
      "text/html": [
       "<div>\n",
       "<style scoped>\n",
       "    .dataframe tbody tr th:only-of-type {\n",
       "        vertical-align: middle;\n",
       "    }\n",
       "\n",
       "    .dataframe tbody tr th {\n",
       "        vertical-align: top;\n",
       "    }\n",
       "\n",
       "    .dataframe thead th {\n",
       "        text-align: right;\n",
       "    }\n",
       "</style>\n",
       "<table border=\"1\" class=\"dataframe\">\n",
       "  <thead>\n",
       "    <tr style=\"text-align: right;\">\n",
       "      <th></th>\n",
       "      <th>population</th>\n",
       "      <th>area</th>\n",
       "      <th>region</th>\n",
       "    </tr>\n",
       "  </thead>\n",
       "  <tbody>\n",
       "    <tr>\n",
       "      <th>Tinghir</th>\n",
       "      <td>False</td>\n",
       "      <td>False</td>\n",
       "      <td>False</td>\n",
       "    </tr>\n",
       "    <tr>\n",
       "      <th>Agadir</th>\n",
       "      <td>False</td>\n",
       "      <td>False</td>\n",
       "      <td>False</td>\n",
       "    </tr>\n",
       "    <tr>\n",
       "      <th>Ouarzazate</th>\n",
       "      <td>False</td>\n",
       "      <td>False</td>\n",
       "      <td>False</td>\n",
       "    </tr>\n",
       "    <tr>\n",
       "      <th>CasaBlanca</th>\n",
       "      <td>False</td>\n",
       "      <td>False</td>\n",
       "      <td>False</td>\n",
       "    </tr>\n",
       "    <tr>\n",
       "      <th>Tiznit</th>\n",
       "      <td>False</td>\n",
       "      <td>False</td>\n",
       "      <td>False</td>\n",
       "    </tr>\n",
       "  </tbody>\n",
       "</table>\n",
       "</div>"
      ],
      "text/plain": [
       "            population   area  region\n",
       "Tinghir          False  False   False\n",
       "Agadir           False  False   False\n",
       "Ouarzazate       False  False   False\n",
       "CasaBlanca       False  False   False\n",
       "Tiznit           False  False   False"
      ]
     },
     "execution_count": 127,
     "metadata": {},
     "output_type": "execute_result"
    }
   ],
   "source": [
    "df.isna()"
   ]
  },
  {
   "cell_type": "markdown",
   "id": "9ed15d6e",
   "metadata": {},
   "source": [
    "### Remplir les valeurs manquantes par la moyenne:\n",
    ">Pour remplir les valeurs manquantes d’un DataFrame, vous pouvez utiliser la méthode fillna() avec une valeur ou une méthode de remplissage. Par exemple, si vous voulez remplir les valeurs manquantes du DataFrame df par la moyenne de la colonne correspondante, vous pouvez faire :"
   ]
  },
  {
   "cell_type": "code",
   "execution_count": 131,
   "id": "67459efd",
   "metadata": {},
   "outputs": [
    {
     "data": {
      "text/html": [
       "<div>\n",
       "<style scoped>\n",
       "    .dataframe tbody tr th:only-of-type {\n",
       "        vertical-align: middle;\n",
       "    }\n",
       "\n",
       "    .dataframe tbody tr th {\n",
       "        vertical-align: top;\n",
       "    }\n",
       "\n",
       "    .dataframe thead th {\n",
       "        text-align: right;\n",
       "    }\n",
       "</style>\n",
       "<table border=\"1\" class=\"dataframe\">\n",
       "  <thead>\n",
       "    <tr style=\"text-align: right;\">\n",
       "      <th></th>\n",
       "      <th>population</th>\n",
       "      <th>area</th>\n",
       "      <th>region</th>\n",
       "    </tr>\n",
       "  </thead>\n",
       "  <tbody>\n",
       "    <tr>\n",
       "      <th>Tinghir</th>\n",
       "      <td>2187526</td>\n",
       "      <td>105.4</td>\n",
       "      <td>Drâa-Tafilalet</td>\n",
       "    </tr>\n",
       "    <tr>\n",
       "      <th>Agadir</th>\n",
       "      <td>863310</td>\n",
       "      <td>240.6</td>\n",
       "      <td>Sous-massa</td>\n",
       "    </tr>\n",
       "    <tr>\n",
       "      <th>Ouarzazate</th>\n",
       "      <td>516092</td>\n",
       "      <td>47.9</td>\n",
       "      <td>Drâa-Tafilalet</td>\n",
       "    </tr>\n",
       "    <tr>\n",
       "      <th>CasaBlanca</th>\n",
       "      <td>479553</td>\n",
       "      <td>118.3</td>\n",
       "      <td>Casablanca-settat</td>\n",
       "    </tr>\n",
       "    <tr>\n",
       "      <th>Tiznit</th>\n",
       "      <td>340017</td>\n",
       "      <td>71.9</td>\n",
       "      <td>Sous-massa</td>\n",
       "    </tr>\n",
       "  </tbody>\n",
       "</table>\n",
       "</div>"
      ],
      "text/plain": [
       "            population   area             region\n",
       "Tinghir        2187526  105.4     Drâa-Tafilalet\n",
       "Agadir          863310  240.6         Sous-massa\n",
       "Ouarzazate      516092   47.9     Drâa-Tafilalet\n",
       "CasaBlanca      479553  118.3  Casablanca-settat\n",
       "Tiznit          340017   71.9         Sous-massa"
      ]
     },
     "execution_count": 131,
     "metadata": {},
     "output_type": "execute_result"
    }
   ],
   "source": [
    "df.fillna(df[\"population\"].mean())"
   ]
  },
  {
   "cell_type": "markdown",
   "id": "4704029f",
   "metadata": {},
   "source": [
    "### Supprimer les lignes avec des valeurs manquantes:\n",
    ">Pour supprimer les valeurs manquantes d’un DataFrame, vous pouvez utiliser la méthode dropna() avec un paramètre indiquant l’axe, le seuil ou la sous-ensemble de colonnes à considérer. Par exemple, si vous voulez supprimer les lignes du DataFrame df qui ont au moins une valeur manquante, vous pouvez faire :"
   ]
  },
  {
   "cell_type": "code",
   "execution_count": 132,
   "id": "bf849011",
   "metadata": {},
   "outputs": [
    {
     "data": {
      "text/html": [
       "<div>\n",
       "<style scoped>\n",
       "    .dataframe tbody tr th:only-of-type {\n",
       "        vertical-align: middle;\n",
       "    }\n",
       "\n",
       "    .dataframe tbody tr th {\n",
       "        vertical-align: top;\n",
       "    }\n",
       "\n",
       "    .dataframe thead th {\n",
       "        text-align: right;\n",
       "    }\n",
       "</style>\n",
       "<table border=\"1\" class=\"dataframe\">\n",
       "  <thead>\n",
       "    <tr style=\"text-align: right;\">\n",
       "      <th></th>\n",
       "      <th>population</th>\n",
       "      <th>area</th>\n",
       "      <th>region</th>\n",
       "    </tr>\n",
       "  </thead>\n",
       "  <tbody>\n",
       "    <tr>\n",
       "      <th>Tinghir</th>\n",
       "      <td>2187526</td>\n",
       "      <td>105.4</td>\n",
       "      <td>Drâa-Tafilalet</td>\n",
       "    </tr>\n",
       "    <tr>\n",
       "      <th>Agadir</th>\n",
       "      <td>863310</td>\n",
       "      <td>240.6</td>\n",
       "      <td>Sous-massa</td>\n",
       "    </tr>\n",
       "    <tr>\n",
       "      <th>Ouarzazate</th>\n",
       "      <td>516092</td>\n",
       "      <td>47.9</td>\n",
       "      <td>Drâa-Tafilalet</td>\n",
       "    </tr>\n",
       "    <tr>\n",
       "      <th>CasaBlanca</th>\n",
       "      <td>479553</td>\n",
       "      <td>118.3</td>\n",
       "      <td>Casablanca-settat</td>\n",
       "    </tr>\n",
       "    <tr>\n",
       "      <th>Tiznit</th>\n",
       "      <td>340017</td>\n",
       "      <td>71.9</td>\n",
       "      <td>Sous-massa</td>\n",
       "    </tr>\n",
       "  </tbody>\n",
       "</table>\n",
       "</div>"
      ],
      "text/plain": [
       "            population   area             region\n",
       "Tinghir        2187526  105.4     Drâa-Tafilalet\n",
       "Agadir          863310  240.6         Sous-massa\n",
       "Ouarzazate      516092   47.9     Drâa-Tafilalet\n",
       "CasaBlanca      479553  118.3  Casablanca-settat\n",
       "Tiznit          340017   71.9         Sous-massa"
      ]
     },
     "execution_count": 132,
     "metadata": {},
     "output_type": "execute_result"
    }
   ],
   "source": [
    "df.dropna(axis=0, how='any')"
   ]
  },
  {
   "cell_type": "markdown",
   "id": "8aa992ff",
   "metadata": {},
   "source": [
    "### Détecter les doublons:\n",
    ">Pour détecter les doublons d’un DataFrame, vous pouvez utiliser la méthode duplicated() qui renvoie une Series de booléens indiquant si la ligne est dupliquée ou non. Par exemple, si vous avez un DataFrame nommé df avec des doublons, vous pouvez faire :"
   ]
  },
  {
   "cell_type": "code",
   "execution_count": 133,
   "id": "5fdbc271",
   "metadata": {},
   "outputs": [
    {
     "data": {
      "text/plain": [
       "Tinghir       False\n",
       "Agadir        False\n",
       "Ouarzazate    False\n",
       "CasaBlanca    False\n",
       "Tiznit        False\n",
       "dtype: bool"
      ]
     },
     "execution_count": 133,
     "metadata": {},
     "output_type": "execute_result"
    }
   ],
   "source": [
    "df.duplicated()"
   ]
  },
  {
   "cell_type": "markdown",
   "id": "a7221a09",
   "metadata": {},
   "source": [
    "### Supprimer les doublons basés sur la colonne 'population':\n",
    ">Pour supprimer les doublons d’un DataFrame, vous pouvez utiliser la méthode drop_duplicates() avec un paramètre indiquant les colonnes à considérer. Par exemple, si vous voulez supprimer les lignes du DataFrame df qui ont des valeurs identiques dans la colonne population, vous pouvez faire :"
   ]
  },
  {
   "cell_type": "code",
   "execution_count": 134,
   "id": "3a7e4094",
   "metadata": {},
   "outputs": [
    {
     "data": {
      "text/html": [
       "<div>\n",
       "<style scoped>\n",
       "    .dataframe tbody tr th:only-of-type {\n",
       "        vertical-align: middle;\n",
       "    }\n",
       "\n",
       "    .dataframe tbody tr th {\n",
       "        vertical-align: top;\n",
       "    }\n",
       "\n",
       "    .dataframe thead th {\n",
       "        text-align: right;\n",
       "    }\n",
       "</style>\n",
       "<table border=\"1\" class=\"dataframe\">\n",
       "  <thead>\n",
       "    <tr style=\"text-align: right;\">\n",
       "      <th></th>\n",
       "      <th>population</th>\n",
       "      <th>area</th>\n",
       "      <th>region</th>\n",
       "    </tr>\n",
       "  </thead>\n",
       "  <tbody>\n",
       "    <tr>\n",
       "      <th>Tinghir</th>\n",
       "      <td>2187526</td>\n",
       "      <td>105.4</td>\n",
       "      <td>Drâa-Tafilalet</td>\n",
       "    </tr>\n",
       "    <tr>\n",
       "      <th>Agadir</th>\n",
       "      <td>863310</td>\n",
       "      <td>240.6</td>\n",
       "      <td>Sous-massa</td>\n",
       "    </tr>\n",
       "    <tr>\n",
       "      <th>Ouarzazate</th>\n",
       "      <td>516092</td>\n",
       "      <td>47.9</td>\n",
       "      <td>Drâa-Tafilalet</td>\n",
       "    </tr>\n",
       "    <tr>\n",
       "      <th>CasaBlanca</th>\n",
       "      <td>479553</td>\n",
       "      <td>118.3</td>\n",
       "      <td>Casablanca-settat</td>\n",
       "    </tr>\n",
       "    <tr>\n",
       "      <th>Tiznit</th>\n",
       "      <td>340017</td>\n",
       "      <td>71.9</td>\n",
       "      <td>Sous-massa</td>\n",
       "    </tr>\n",
       "  </tbody>\n",
       "</table>\n",
       "</div>"
      ],
      "text/plain": [
       "            population   area             region\n",
       "Tinghir        2187526  105.4     Drâa-Tafilalet\n",
       "Agadir          863310  240.6         Sous-massa\n",
       "Ouarzazate      516092   47.9     Drâa-Tafilalet\n",
       "CasaBlanca      479553  118.3  Casablanca-settat\n",
       "Tiznit          340017   71.9         Sous-massa"
      ]
     },
     "execution_count": 134,
     "metadata": {},
     "output_type": "execute_result"
    }
   ],
   "source": [
    "df.drop_duplicates(subset='population')"
   ]
  },
  {
   "cell_type": "markdown",
   "id": "60439aca",
   "metadata": {},
   "source": []
  },
  {
   "cell_type": "code",
   "execution_count": null,
   "id": "be126e34",
   "metadata": {},
   "outputs": [],
   "source": []
  },
  {
   "cell_type": "markdown",
   "id": "ea64fb16",
   "metadata": {},
   "source": []
  },
  {
   "cell_type": "code",
   "execution_count": null,
   "id": "c4646517",
   "metadata": {},
   "outputs": [],
   "source": []
  },
  {
   "cell_type": "markdown",
   "id": "8082fbc7",
   "metadata": {},
   "source": []
  },
  {
   "cell_type": "code",
   "execution_count": null,
   "id": "b9732153",
   "metadata": {},
   "outputs": [],
   "source": []
  },
  {
   "cell_type": "markdown",
   "id": "9b34ea65",
   "metadata": {},
   "source": []
  },
  {
   "cell_type": "code",
   "execution_count": null,
   "id": "1cdd2cfb",
   "metadata": {},
   "outputs": [],
   "source": []
  },
  {
   "cell_type": "markdown",
   "id": "8e341a83",
   "metadata": {},
   "source": []
  },
  {
   "cell_type": "code",
   "execution_count": null,
   "id": "27b52f2b",
   "metadata": {},
   "outputs": [],
   "source": []
  },
  {
   "cell_type": "markdown",
   "id": "eb4245bf",
   "metadata": {},
   "source": []
  },
  {
   "cell_type": "code",
   "execution_count": null,
   "id": "d5400a24",
   "metadata": {},
   "outputs": [],
   "source": []
  },
  {
   "cell_type": "markdown",
   "id": "eb50d6e9",
   "metadata": {},
   "source": []
  },
  {
   "cell_type": "code",
   "execution_count": null,
   "id": "32c36efb",
   "metadata": {},
   "outputs": [],
   "source": []
  },
  {
   "cell_type": "markdown",
   "id": "7c68ccc2",
   "metadata": {},
   "source": []
  },
  {
   "cell_type": "code",
   "execution_count": null,
   "id": "d3a4a12c",
   "metadata": {},
   "outputs": [],
   "source": []
  },
  {
   "cell_type": "markdown",
   "id": "1784ebf5",
   "metadata": {},
   "source": []
  },
  {
   "cell_type": "code",
   "execution_count": null,
   "id": "37d470e7",
   "metadata": {},
   "outputs": [],
   "source": []
  },
  {
   "cell_type": "markdown",
   "id": "ffa77fe2",
   "metadata": {},
   "source": []
  },
  {
   "cell_type": "code",
   "execution_count": null,
   "id": "30f00934",
   "metadata": {},
   "outputs": [],
   "source": []
  },
  {
   "cell_type": "markdown",
   "id": "a0d7d360",
   "metadata": {},
   "source": []
  },
  {
   "cell_type": "code",
   "execution_count": null,
   "id": "02fb5e5e",
   "metadata": {},
   "outputs": [],
   "source": []
  },
  {
   "cell_type": "markdown",
   "id": "ff2d69ff",
   "metadata": {},
   "source": []
  },
  {
   "cell_type": "code",
   "execution_count": null,
   "id": "757c56e0",
   "metadata": {},
   "outputs": [],
   "source": []
  },
  {
   "cell_type": "markdown",
   "id": "a844a318",
   "metadata": {},
   "source": []
  },
  {
   "cell_type": "code",
   "execution_count": null,
   "id": "421bd2b5",
   "metadata": {},
   "outputs": [],
   "source": []
  },
  {
   "cell_type": "markdown",
   "id": "a8f44b98",
   "metadata": {},
   "source": []
  },
  {
   "cell_type": "code",
   "execution_count": null,
   "id": "aecc0dd2",
   "metadata": {},
   "outputs": [],
   "source": []
  },
  {
   "cell_type": "markdown",
   "id": "c01b527d",
   "metadata": {},
   "source": []
  },
  {
   "cell_type": "code",
   "execution_count": null,
   "id": "c9cf0184",
   "metadata": {},
   "outputs": [],
   "source": []
  },
  {
   "cell_type": "markdown",
   "id": "f2843ccb",
   "metadata": {},
   "source": []
  },
  {
   "cell_type": "code",
   "execution_count": null,
   "id": "9a76f934",
   "metadata": {},
   "outputs": [],
   "source": []
  },
  {
   "cell_type": "code",
   "execution_count": null,
   "id": "e32dec37",
   "metadata": {},
   "outputs": [],
   "source": []
  },
  {
   "cell_type": "code",
   "execution_count": null,
   "id": "908562b3",
   "metadata": {},
   "outputs": [],
   "source": []
  },
  {
   "cell_type": "code",
   "execution_count": null,
   "id": "d02e9f81",
   "metadata": {},
   "outputs": [],
   "source": []
  },
  {
   "cell_type": "code",
   "execution_count": null,
   "id": "4efb1192",
   "metadata": {},
   "outputs": [],
   "source": []
  },
  {
   "cell_type": "code",
   "execution_count": null,
   "id": "144bc3e2",
   "metadata": {},
   "outputs": [],
   "source": []
  },
  {
   "cell_type": "code",
   "execution_count": null,
   "id": "c97150b5",
   "metadata": {},
   "outputs": [],
   "source": []
  },
  {
   "cell_type": "code",
   "execution_count": null,
   "id": "dbbdd98f",
   "metadata": {},
   "outputs": [],
   "source": []
  },
  {
   "cell_type": "code",
   "execution_count": null,
   "id": "92abf6d8",
   "metadata": {},
   "outputs": [],
   "source": []
  },
  {
   "cell_type": "code",
   "execution_count": null,
   "id": "f707c317",
   "metadata": {},
   "outputs": [],
   "source": []
  }
 ],
 "metadata": {
  "kernelspec": {
   "display_name": "Python 3 (ipykernel)",
   "language": "python",
   "name": "python3"
  },
  "language_info": {
   "codemirror_mode": {
    "name": "ipython",
    "version": 3
   },
   "file_extension": ".py",
   "mimetype": "text/x-python",
   "name": "python",
   "nbconvert_exporter": "python",
   "pygments_lexer": "ipython3",
   "version": "3.11.5"
  }
 },
 "nbformat": 4,
 "nbformat_minor": 5
}
