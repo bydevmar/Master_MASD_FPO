{
 "cells": [
  {
   "cell_type": "markdown",
   "id": "083f662a",
   "metadata": {},
   "source": [
    "# PANDAS Presentation Explaining "
   ]
  },
  {
   "cell_type": "code",
   "execution_count": 13,
   "id": "12e63c1a",
   "metadata": {},
   "outputs": [],
   "source": [
    "import pandas as pd"
   ]
  },
  {
   "cell_type": "markdown",
   "id": "1242e29c",
   "metadata": {},
   "source": [
    "## Series et DataFrames"
   ]
  },
  {
   "cell_type": "markdown",
   "id": "5ac720d5",
   "metadata": {},
   "source": [
    "### Series"
   ]
  },
  {
   "cell_type": "markdown",
   "id": "0d9b6958",
   "metadata": {},
   "source": [
    "### DataFrame"
   ]
  },
  {
   "cell_type": "code",
   "execution_count": 254,
   "id": "34ddaa2f",
   "metadata": {},
   "outputs": [
    {
     "name": "stdout",
     "output_type": "stream",
     "text": [
      "            population   area             region\n",
      "Tinghir         217526  105.4     Drâa-Tafilalet\n",
      "Agadir          863310  240.6         Sous-massa\n",
      "Ouarzazate      516092   47.9     Drâa-Tafilalet\n",
      "CasaBlanca      479553  118.3  Casablanca-settat\n",
      "Tiznit          340017   71.9         Sous-massa\n"
     ]
    }
   ],
   "source": [
    "population_dict = {'Tinghir': 217526, 'Agadir': 863310, 'Ouarzazate': 516092, 'CasaBlanca': 479553, 'Tiznit': 340017}\n",
    "\n",
    "population = pd.Series(population_dict)\n",
    "\n",
    "area_dict = {'Tinghir': 105.4, 'Agadir': 240.6, 'Ouarzazate': 47.9, 'CasaBlanca': 118.3, 'Tiznit': 71.9}\n",
    "\n",
    "area = pd.Series(area_dict)\n",
    "\n",
    "region_dict = {'Tinghir': \"Drâa-Tafilalet\", 'Agadir': \"Sous-massa\", 'Ouarzazate': \"Drâa-Tafilalet\", 'CasaBlanca': \"Casablanca-settat\", 'Tiznit': \"Sous-massa\"}\n",
    "\n",
    "region = pd.Series(region_dict)\n",
    "\n",
    "df = pd.DataFrame({'population': population, 'area': area , 'region': region})\n",
    "\n",
    "print(df)"
   ]
  },
  {
   "cell_type": "markdown",
   "id": "b33f7038",
   "metadata": {},
   "source": [
    "**On peut accéder aux données et aux index d’un DataFrame avec les attributs values, index et columns. Par exemple :**"
   ]
  },
  {
   "cell_type": "code",
   "execution_count": 255,
   "id": "61b4e54d",
   "metadata": {},
   "outputs": [
    {
     "name": "stdout",
     "output_type": "stream",
     "text": [
      "[[217526 105.4 'Drâa-Tafilalet']\n",
      " [863310 240.6 'Sous-massa']\n",
      " [516092 47.9 'Drâa-Tafilalet']\n",
      " [479553 118.3 'Casablanca-settat']\n",
      " [340017 71.9 'Sous-massa']]\n",
      "Index(['Tinghir', 'Agadir', 'Ouarzazate', 'CasaBlanca', 'Tiznit'], dtype='object')\n",
      "Index(['population', 'area', 'region'], dtype='object')\n"
     ]
    }
   ],
   "source": [
    "print(df.values) # affiche [[2187526.   105.4]\n",
    "                 #         [ 863310.   240.6]\n",
    "                 #         [ 516092.    47.9]\n",
    "                 #         [ 479553.   118.3]\n",
    "                 #         [ 340017.    71.9]]\n",
    "print(df.index) # affiche Index(['Paris', 'Marseille', 'Lyon', 'Toulouse', 'Nice'], dtype='object')\n",
    "print(df.columns) # affiche Index(['population', 'area'], dtype='object')\n"
   ]
  },
  {
   "cell_type": "markdown",
   "id": "e361f84b",
   "metadata": {},
   "source": [
    "**On peut accéder aux colonnes d’un DataFrame par leur nom, en utilisant la notation [] ou la notation .. Par exemple :**"
   ]
  },
  {
   "cell_type": "code",
   "execution_count": 256,
   "id": "3dac181c",
   "metadata": {
    "scrolled": true
   },
   "outputs": [
    {
     "name": "stdout",
     "output_type": "stream",
     "text": [
      "Methode 1 : \n",
      "Tinghir       217526\n",
      "Agadir        863310\n",
      "Ouarzazate    516092\n",
      "CasaBlanca    479553\n",
      "Tiznit        340017\n",
      "Name: population, dtype: int64\n",
      " \n",
      " Methode 2 : \n",
      "Tinghir       217526\n",
      "Agadir        863310\n",
      "Ouarzazate    516092\n",
      "CasaBlanca    479553\n",
      "Tiznit        340017\n",
      "Name: population, dtype: int64\n"
     ]
    }
   ],
   "source": [
    "print(\"Methode 1 : \")\n",
    "print(df['population']) # affiche la colonne population\n",
    "\n",
    "print(\" \\n Methode 2 : \")\n",
    "print(df.population) # affiche la même chose"
   ]
  },
  {
   "cell_type": "markdown",
   "id": "dda4bd9e",
   "metadata": {},
   "source": [
    "**On peut accéder aux lignes d’un DataFrame par leur index, en utilisant la méthode loc[]. Par exemple :**"
   ]
  },
  {
   "cell_type": "code",
   "execution_count": 257,
   "id": "ef56400b",
   "metadata": {},
   "outputs": [
    {
     "name": "stdout",
     "output_type": "stream",
     "text": [
      "population            217526\n",
      "area                   105.4\n",
      "region        Drâa-Tafilalet\n",
      "Name: Tinghir, dtype: object\n"
     ]
    }
   ],
   "source": [
    "print(df.loc['Tinghir']) # affiche la ligne correspondant à Paris"
   ]
  },
  {
   "cell_type": "markdown",
   "id": "29ca53fa",
   "metadata": {},
   "source": [
    "**On peut aussi accéder aux lignes d’un DataFrame par leur position, en utilisant la méthode iloc[]. Par exemple :**"
   ]
  },
  {
   "cell_type": "code",
   "execution_count": 258,
   "id": "bedb32c4",
   "metadata": {},
   "outputs": [
    {
     "name": "stdout",
     "output_type": "stream",
     "text": [
      "population            217526\n",
      "area                   105.4\n",
      "region        Drâa-Tafilalet\n",
      "Name: Tinghir, dtype: object\n"
     ]
    }
   ],
   "source": [
    "print(df.iloc[0]) # affiche la première ligne du DataFrame"
   ]
  },
  {
   "cell_type": "markdown",
   "id": "a91bcb75",
   "metadata": {},
   "source": [
    "**On peut accéder à un élément spécifique d’un DataFrame en utilisant la méthode at[]. Par exemple :**"
   ]
  },
  {
   "cell_type": "code",
   "execution_count": 259,
   "id": "8a2ca9ce",
   "metadata": {},
   "outputs": [
    {
     "name": "stdout",
     "output_type": "stream",
     "text": [
      "217526\n"
     ]
    }
   ],
   "source": [
    "print(df.at['Tinghir', 'population']) # affiche 2187526"
   ]
  },
  {
   "cell_type": "markdown",
   "id": "987d78ef",
   "metadata": {},
   "source": [
    "# 4. Créer un DataFrame à partir de différentes sources"
   ]
  },
  {
   "cell_type": "markdown",
   "id": "2ba0d9ff",
   "metadata": {},
   "source": [
    "## À partir d'une liste de listes\n",
    ">Ce code crée un DataFrame avec trois lignes et trois colonnes, à partir d’une liste de listes. On spécifie les index et les colonnes avec les paramètres index et columns. Le résultat affiché est :"
   ]
  },
  {
   "cell_type": "code",
   "execution_count": 260,
   "id": "e1912b06",
   "metadata": {
    "scrolled": true
   },
   "outputs": [
    {
     "name": "stdout",
     "output_type": "stream",
     "text": [
      "   x  y  z\n",
      "a  1  2  3\n",
      "b  4  5  6\n",
      "c  7  8  9\n"
     ]
    }
   ],
   "source": [
    "data = [[1, 2, 3], [4, 5, 6], [7, 8, 9]]\n",
    "df = pd.DataFrame(data, index=['a', 'b', 'c'], columns=['x', 'y', 'z'])\n",
    "print(df)"
   ]
  },
  {
   "cell_type": "markdown",
   "id": "5330091f",
   "metadata": {},
   "source": [
    "## À partir d’un dictionnaire de listes :\n",
    "> Ce code crée un DataFrame avec trois lignes et trois colonnes, à partir d’un dictionnaire de listes. Les clés du dictionnaire deviennent les noms des colonnes, et les valeurs du dictionnaire deviennent les données des colonnes. On spécifie les index avec le paramètre index. Le résultat affiché est le même que le précédent."
   ]
  },
  {
   "cell_type": "code",
   "execution_count": 261,
   "id": "e4c90050",
   "metadata": {},
   "outputs": [
    {
     "name": "stdout",
     "output_type": "stream",
     "text": [
      "   x  y  z\n",
      "a  1  2  3\n",
      "b  4  5  6\n",
      "c  7  8  9\n"
     ]
    }
   ],
   "source": [
    "import pandas as pd\n",
    "data = {'x': [1, 4, 7], 'y': [2, 5, 8], 'z': [3, 6, 9]}\n",
    "df = pd.DataFrame(data, index=['a', 'b', 'c'])\n",
    "print(df)"
   ]
  },
  {
   "cell_type": "markdown",
   "id": "6f6f5619",
   "metadata": {},
   "source": [
    "## À partir d’un array NumPy :\n",
    ">Ce code crée un DataFrame avec trois lignes et trois colonnes, à partir d’un array NumPy. On spécifie les index et les colonnes avec les paramètres index et columns. Le résultat affiché est le même que les précédents."
   ]
  },
  {
   "cell_type": "code",
   "execution_count": 262,
   "id": "20319ce2",
   "metadata": {},
   "outputs": [
    {
     "name": "stdout",
     "output_type": "stream",
     "text": [
      "   x  y  z\n",
      "a  1  2  3\n",
      "b  4  5  6\n",
      "c  7  8  9\n"
     ]
    }
   ],
   "source": [
    "import pandas as pd\n",
    "import numpy as np\n",
    "data = np.array([[1, 2, 3], [4, 5, 6], [7, 8, 9]])\n",
    "df = pd.DataFrame(data, index=['a', 'b', 'c'], columns=['x', 'y', 'z'])\n",
    "print(df)"
   ]
  },
  {
   "cell_type": "markdown",
   "id": "0d57203f",
   "metadata": {},
   "source": [
    "## creation des Fichiers"
   ]
  },
  {
   "cell_type": "code",
   "execution_count": 263,
   "id": "1944877d",
   "metadata": {},
   "outputs": [
    {
     "ename": "OperationalError",
     "evalue": "table PC already exists",
     "output_type": "error",
     "traceback": [
      "\u001b[1;31m---------------------------------------------------------------------------\u001b[0m",
      "\u001b[1;31mOperationalError\u001b[0m                          Traceback (most recent call last)",
      "Cell \u001b[1;32mIn[263], line 40\u001b[0m\n\u001b[0;32m     37\u001b[0m conn \u001b[38;5;241m=\u001b[39m sqlite3\u001b[38;5;241m.\u001b[39mconnect(\u001b[38;5;124m'\u001b[39m\u001b[38;5;124mpc.db\u001b[39m\u001b[38;5;124m'\u001b[39m)\n\u001b[0;32m     38\u001b[0m cursor \u001b[38;5;241m=\u001b[39m conn\u001b[38;5;241m.\u001b[39mcursor()\n\u001b[1;32m---> 40\u001b[0m cursor\u001b[38;5;241m.\u001b[39mexecute(\u001b[38;5;124m'''\u001b[39m\n\u001b[0;32m     41\u001b[0m \u001b[38;5;124m    CREATE TABLE PC (\u001b[39m\n\u001b[0;32m     42\u001b[0m \u001b[38;5;124m        id INTEGER PRIMARY KEY,\u001b[39m\n\u001b[0;32m     43\u001b[0m \u001b[38;5;124m        nom TEXT,\u001b[39m\n\u001b[0;32m     44\u001b[0m \u001b[38;5;124m        marque TEXT,\u001b[39m\n\u001b[0;32m     45\u001b[0m \u001b[38;5;124m        ram INTEGER,\u001b[39m\n\u001b[0;32m     46\u001b[0m \u001b[38;5;124m        processeur TEXT\u001b[39m\n\u001b[0;32m     47\u001b[0m \u001b[38;5;124m    )\u001b[39m\n\u001b[0;32m     48\u001b[0m \u001b[38;5;124m'''\u001b[39m)\n\u001b[0;32m     50\u001b[0m \u001b[38;5;28;01mfor\u001b[39;00m pc \u001b[38;5;129;01min\u001b[39;00m ensemble_de_pc:\n\u001b[0;32m     51\u001b[0m     cursor\u001b[38;5;241m.\u001b[39mexecute(\u001b[38;5;124m'''\u001b[39m\n\u001b[0;32m     52\u001b[0m \u001b[38;5;124m        INSERT INTO PC (nom, marque, ram, processeur)\u001b[39m\n\u001b[0;32m     53\u001b[0m \u001b[38;5;124m        VALUES (?, ?, ?, ?)\u001b[39m\n\u001b[0;32m     54\u001b[0m \u001b[38;5;124m    \u001b[39m\u001b[38;5;124m'''\u001b[39m, (pc[\u001b[38;5;124m'\u001b[39m\u001b[38;5;124mnom\u001b[39m\u001b[38;5;124m'\u001b[39m], pc[\u001b[38;5;124m'\u001b[39m\u001b[38;5;124mmarque\u001b[39m\u001b[38;5;124m'\u001b[39m], pc[\u001b[38;5;124m'\u001b[39m\u001b[38;5;124mram\u001b[39m\u001b[38;5;124m'\u001b[39m], pc[\u001b[38;5;124m'\u001b[39m\u001b[38;5;124mprocesseur\u001b[39m\u001b[38;5;124m'\u001b[39m]))\n",
      "\u001b[1;31mOperationalError\u001b[0m: table PC already exists"
     ]
    }
   ],
   "source": [
    "import csv\n",
    "import json\n",
    "import xml.etree.ElementTree as ET\n",
    "import sqlite3\n",
    "\n",
    "# Exemple de données pour les PC\n",
    "ensemble_de_pc = [\n",
    "    {\"id\": 1, \"nom\": \"PC1\", \"marque\": \"Dell\", \"ram\": 8, \"processeur\": \"Intel i5\"},\n",
    "    {\"id\": 2, \"nom\": \"PC2\", \"marque\": \"HP\", \"ram\": 16, \"processeur\": \"AMD Ryzen 7\"},\n",
    "    # Ajoutez d'autres PC au besoin\n",
    "]\n",
    "\n",
    "# Générer le fichier CSV\n",
    "with open('pc.csv', 'w', newline='') as csvfile:\n",
    "    fieldnames = ensemble_de_pc[0].keys()\n",
    "    writer = csv.DictWriter(csvfile, fieldnames=fieldnames)\n",
    "    \n",
    "    writer.writeheader()\n",
    "    for pc in ensemble_de_pc:\n",
    "        writer.writerow(pc)\n",
    "\n",
    "# Générer le fichier JSON\n",
    "with open('pc.json', 'w') as jsonfile:\n",
    "    json.dump(ensemble_de_pc, jsonfile, indent=2)\n",
    "\n",
    "# Générer le fichier XML\n",
    "root = ET.Element(\"pcs\")\n",
    "for pc in ensemble_de_pc:\n",
    "    pc_element = ET.SubElement(root, \"pc\")\n",
    "    for key, value in pc.items():\n",
    "        ET.SubElement(pc_element, key).text = str(value)\n",
    "\n",
    "tree = ET.ElementTree(root)\n",
    "tree.write('pc.xml')\n",
    "\n",
    "# Générer le fichier SQLite (fichier .db)\n",
    "conn = sqlite3.connect('pc.db')\n",
    "cursor = conn.cursor()\n",
    "\n",
    "cursor.execute('''\n",
    "    CREATE TABLE PC (\n",
    "        id INTEGER PRIMARY KEY,\n",
    "        nom TEXT,\n",
    "        marque TEXT,\n",
    "        ram INTEGER,\n",
    "        processeur TEXT\n",
    "    )\n",
    "''')\n",
    "\n",
    "for pc in ensemble_de_pc:\n",
    "    cursor.execute('''\n",
    "        INSERT INTO PC (nom, marque, ram, processeur)\n",
    "        VALUES (?, ?, ?, ?)\n",
    "    ''', (pc['nom'], pc['marque'], pc['ram'], pc['processeur']))\n",
    "\n",
    "conn.commit()\n",
    "conn.close()"
   ]
  },
  {
   "cell_type": "markdown",
   "id": "90c17bfc",
   "metadata": {},
   "source": [
    "## À partir d’un fichier CSV :\n",
    "> Ce code crée un DataFrame à partir d’un fichier CSV, qui est un format courant pour stocker des données tabulaires. Le fichier CSV doit avoir une ligne d’en-tête avec les noms des colonnes, et des lignes de données séparées par des virgules. Par exemple, le fichier data.csv pourrait contenir "
   ]
  },
  {
   "cell_type": "code",
   "execution_count": null,
   "id": "47947708",
   "metadata": {},
   "outputs": [],
   "source": [
    "import pandas as pd\n",
    "df = pd.read_csv('pc.csv')\n",
    "print(df)"
   ]
  },
  {
   "cell_type": "markdown",
   "id": "30d3c693",
   "metadata": {},
   "source": [
    "## À partir d’un fichier JSON :\n",
    ">Ce code crée un DataFrame à partir d’un fichier JSON, qui est un format courant pour stocker des données structurées. Le fichier JSON doit avoir un objet avec des paires clé-valeur, où les clés sont les noms des colonnes, et les valeurs sont des listes de données."
   ]
  },
  {
   "cell_type": "code",
   "execution_count": 1,
   "id": "8924c08b",
   "metadata": {},
   "outputs": [
    {
     "name": "stdout",
     "output_type": "stream",
     "text": [
      "   id  nom marque  ram   processeur\n",
      "0   1  PC1   Dell    8     Intel i5\n",
      "1   2  PC2     HP   16  AMD Ryzen 7\n"
     ]
    }
   ],
   "source": [
    "import pandas as pd\n",
    "df = pd.read_json('pc.json')\n",
    "print(df)"
   ]
  },
  {
   "cell_type": "markdown",
   "id": "5aad75ca",
   "metadata": {},
   "source": [
    "## À partir d’une base de données :\n",
    ">Ce code crée un DataFrame à partir d’une base de données SQLite, qui est un système de gestion de base de données relationnelle. On utilise le module sqlite3 pour se connecter à la base de données, et la méthode pd.read_sql() pour exécuter une requête SQL et renvoyer le résultat sous forme de DataFrame."
   ]
  },
  {
   "cell_type": "code",
   "execution_count": null,
   "id": "039d3fb0",
   "metadata": {},
   "outputs": [],
   "source": [
    "import pandas as pd\n",
    "import sqlite3\n",
    "conn = sqlite3.connect('pc.db')\n",
    "df = pd.read_sql('SELECT * FROM pc', conn)\n",
    "print(df)"
   ]
  },
  {
   "cell_type": "markdown",
   "id": "1cd391da",
   "metadata": {},
   "source": [
    "# 5. Explorer et transformer un DataFrame"
   ]
  },
  {
   "cell_type": "code",
   "execution_count": 289,
   "id": "af2a0708",
   "metadata": {},
   "outputs": [
    {
     "name": "stdout",
     "output_type": "stream",
     "text": [
      "            population    area             region\n",
      "Tinghir         150000   25000     Drâa-Tafilalet\n",
      "Agadir          300000   50000         Sous-massa\n",
      "Ouarzazate      120000   30000     Drâa-Tafilalet\n",
      "CasaBlanca      400000  220000  Casablanca-settat\n",
      "Tiznit          100000   15000         Sous-massa\n"
     ]
    }
   ],
   "source": [
    "import pandas as pd\n",
    "\n",
    "# Chiffres modifiés pour des données plus cohérentes (valeurs fictives)\n",
    "population_dict = {'Tinghir': 150000, 'Agadir': 300000, 'Ouarzazate': 120000, 'CasaBlanca': 400000, 'Tiznit': 100000}\n",
    "\n",
    "area_dict = {'Tinghir': 25000, 'Agadir': 50000, 'Ouarzazate': 30000, 'CasaBlanca': 220000, 'Tiznit': 15000}\n",
    "\n",
    "region_dict = {'Tinghir': \"Drâa-Tafilalet\", 'Agadir': \"Sous-massa\", 'Ouarzazate': \"Drâa-Tafilalet\", 'CasaBlanca': \"Casablanca-settat\", 'Tiznit': \"Sous-massa\"}\n",
    "\n",
    "df = pd.DataFrame({'population': pd.Series(population_dict), 'area': pd.Series(area_dict), 'region': pd.Series(region_dict)})\n",
    "\n",
    "print(df)\n"
   ]
  },
  {
   "cell_type": "markdown",
   "id": "bce1d761",
   "metadata": {},
   "source": [
    "## 4-1- Accéder a des colonnes et des lignes\n",
    "\n",
    "### Accéder à une colonne:\n",
    ">Pour accéder à une colonne d’un DataFrame, vous pouvez utiliser la notation [] ou la notation . avec le nom de la colonne. Par exemple, si vous avez un DataFrame nommé df avec une colonne nommée population, vous pouvez faire :"
   ]
  },
  {
   "cell_type": "code",
   "execution_count": 290,
   "id": "752e5ef3",
   "metadata": {
    "scrolled": false
   },
   "outputs": [
    {
     "data": {
      "text/plain": [
       "Tinghir       150000\n",
       "Agadir        300000\n",
       "Ouarzazate    120000\n",
       "CasaBlanca    400000\n",
       "Tiznit        100000\n",
       "Name: population, dtype: int64"
      ]
     },
     "execution_count": 290,
     "metadata": {},
     "output_type": "execute_result"
    }
   ],
   "source": [
    "df['population']  # ou df.population"
   ]
  },
  {
   "cell_type": "markdown",
   "id": "e217285d",
   "metadata": {},
   "source": [
    "### Accéder à plusieurs colonnes:\n",
    ">Pour accéder à plusieurs colonnes d’un DataFrame, vous pouvez utiliser la notation [] avec une liste de noms de colonnes. Par exemple, si vous avez un DataFrame nommé df avec des colonnes nommées population et area, vous pouvez faire :"
   ]
  },
  {
   "cell_type": "code",
   "execution_count": 291,
   "id": "3125dda1",
   "metadata": {
    "scrolled": true
   },
   "outputs": [
    {
     "data": {
      "text/html": [
       "<div>\n",
       "<style scoped>\n",
       "    .dataframe tbody tr th:only-of-type {\n",
       "        vertical-align: middle;\n",
       "    }\n",
       "\n",
       "    .dataframe tbody tr th {\n",
       "        vertical-align: top;\n",
       "    }\n",
       "\n",
       "    .dataframe thead th {\n",
       "        text-align: right;\n",
       "    }\n",
       "</style>\n",
       "<table border=\"1\" class=\"dataframe\">\n",
       "  <thead>\n",
       "    <tr style=\"text-align: right;\">\n",
       "      <th></th>\n",
       "      <th>population</th>\n",
       "      <th>area</th>\n",
       "    </tr>\n",
       "  </thead>\n",
       "  <tbody>\n",
       "    <tr>\n",
       "      <th>Tinghir</th>\n",
       "      <td>150000</td>\n",
       "      <td>25000</td>\n",
       "    </tr>\n",
       "    <tr>\n",
       "      <th>Agadir</th>\n",
       "      <td>300000</td>\n",
       "      <td>50000</td>\n",
       "    </tr>\n",
       "    <tr>\n",
       "      <th>Ouarzazate</th>\n",
       "      <td>120000</td>\n",
       "      <td>30000</td>\n",
       "    </tr>\n",
       "    <tr>\n",
       "      <th>CasaBlanca</th>\n",
       "      <td>400000</td>\n",
       "      <td>220000</td>\n",
       "    </tr>\n",
       "    <tr>\n",
       "      <th>Tiznit</th>\n",
       "      <td>100000</td>\n",
       "      <td>15000</td>\n",
       "    </tr>\n",
       "  </tbody>\n",
       "</table>\n",
       "</div>"
      ],
      "text/plain": [
       "            population    area\n",
       "Tinghir         150000   25000\n",
       "Agadir          300000   50000\n",
       "Ouarzazate      120000   30000\n",
       "CasaBlanca      400000  220000\n",
       "Tiznit          100000   15000"
      ]
     },
     "execution_count": 291,
     "metadata": {},
     "output_type": "execute_result"
    }
   ],
   "source": [
    "df[['population', 'area']]"
   ]
  },
  {
   "cell_type": "markdown",
   "id": "80c7bbdc",
   "metadata": {},
   "source": [
    "### Accéder à une ligne:\n",
    ">Pour accéder à plusieurs lignes d’un DataFrame, vous pouvez utiliser la méthode loc[] avec une liste de noms d’index. Par exemple, si vous avez un DataFrame nommé df avec des lignes nommées Paris et Marseille, vous pouvez faire :"
   ]
  },
  {
   "cell_type": "code",
   "execution_count": 292,
   "id": "d49a6861",
   "metadata": {},
   "outputs": [
    {
     "data": {
      "text/plain": [
       "population            120000\n",
       "area                   30000\n",
       "region        Drâa-Tafilalet\n",
       "Name: Ouarzazate, dtype: object"
      ]
     },
     "execution_count": 292,
     "metadata": {},
     "output_type": "execute_result"
    }
   ],
   "source": [
    "df.loc['Ouarzazate']"
   ]
  },
  {
   "cell_type": "markdown",
   "id": "1297f401",
   "metadata": {},
   "source": [
    "### Accéder à plusieurs lignes:\n",
    ">Pour accéder à un élément spécifique d’un DataFrame, vous pouvez utiliser la méthode at[] avec le nom de l’index de la ligne et le nom de la colonne. Par exemple, si vous avez un DataFrame nommé df avec une colonne nommée population et une ligne nommée Paris, vous pouvez faire :"
   ]
  },
  {
   "cell_type": "code",
   "execution_count": 293,
   "id": "65ef8a1c",
   "metadata": {},
   "outputs": [
    {
     "data": {
      "text/html": [
       "<div>\n",
       "<style scoped>\n",
       "    .dataframe tbody tr th:only-of-type {\n",
       "        vertical-align: middle;\n",
       "    }\n",
       "\n",
       "    .dataframe tbody tr th {\n",
       "        vertical-align: top;\n",
       "    }\n",
       "\n",
       "    .dataframe thead th {\n",
       "        text-align: right;\n",
       "    }\n",
       "</style>\n",
       "<table border=\"1\" class=\"dataframe\">\n",
       "  <thead>\n",
       "    <tr style=\"text-align: right;\">\n",
       "      <th></th>\n",
       "      <th>population</th>\n",
       "      <th>area</th>\n",
       "      <th>region</th>\n",
       "    </tr>\n",
       "  </thead>\n",
       "  <tbody>\n",
       "    <tr>\n",
       "      <th>Tinghir</th>\n",
       "      <td>150000</td>\n",
       "      <td>25000</td>\n",
       "      <td>Drâa-Tafilalet</td>\n",
       "    </tr>\n",
       "    <tr>\n",
       "      <th>Ouarzazate</th>\n",
       "      <td>120000</td>\n",
       "      <td>30000</td>\n",
       "      <td>Drâa-Tafilalet</td>\n",
       "    </tr>\n",
       "  </tbody>\n",
       "</table>\n",
       "</div>"
      ],
      "text/plain": [
       "            population   area          region\n",
       "Tinghir         150000  25000  Drâa-Tafilalet\n",
       "Ouarzazate      120000  30000  Drâa-Tafilalet"
      ]
     },
     "execution_count": 293,
     "metadata": {},
     "output_type": "execute_result"
    }
   ],
   "source": [
    "df.loc[['Tinghir', 'Ouarzazate']]\n"
   ]
  },
  {
   "cell_type": "markdown",
   "id": "31245813",
   "metadata": {},
   "source": [
    "### Accéder à un élément spécifique:\n",
    ">Pour modifier une colonne ou une ligne d’un DataFrame, vous pouvez utiliser la notation [] ou la méthode loc[] avec une affectation. Par exemple, si vous voulez ajouter une nouvelle colonne nommée density à un DataFrame nommé df, vous pouvez faire :"
   ]
  },
  {
   "cell_type": "code",
   "execution_count": 294,
   "id": "d4fc359f",
   "metadata": {},
   "outputs": [
    {
     "data": {
      "text/plain": [
       "150000"
      ]
     },
     "execution_count": 294,
     "metadata": {},
     "output_type": "execute_result"
    }
   ],
   "source": [
    "df.at['Tinghir', 'population']"
   ]
  },
  {
   "cell_type": "markdown",
   "id": "ef68ec84",
   "metadata": {},
   "source": [
    "### Modifier une colonne ou une ligne:\n",
    ">Pour supprimer une colonne ou une ligne d’un DataFrame, vous pouvez utiliser la méthode drop() avec le nom de la colonne ou de l’index. Par exemple, si vous voulez supprimer la colonne density du DataFrame df, vous pouvez faire :"
   ]
  },
  {
   "cell_type": "code",
   "execution_count": 295,
   "id": "768bae07",
   "metadata": {},
   "outputs": [
    {
     "data": {
      "text/html": [
       "<div>\n",
       "<style scoped>\n",
       "    .dataframe tbody tr th:only-of-type {\n",
       "        vertical-align: middle;\n",
       "    }\n",
       "\n",
       "    .dataframe tbody tr th {\n",
       "        vertical-align: top;\n",
       "    }\n",
       "\n",
       "    .dataframe thead th {\n",
       "        text-align: right;\n",
       "    }\n",
       "</style>\n",
       "<table border=\"1\" class=\"dataframe\">\n",
       "  <thead>\n",
       "    <tr style=\"text-align: right;\">\n",
       "      <th></th>\n",
       "      <th>population</th>\n",
       "      <th>area</th>\n",
       "      <th>region</th>\n",
       "      <th>densite</th>\n",
       "    </tr>\n",
       "  </thead>\n",
       "  <tbody>\n",
       "    <tr>\n",
       "      <th>Tinghir</th>\n",
       "      <td>150000</td>\n",
       "      <td>25000</td>\n",
       "      <td>Drâa-Tafilalet</td>\n",
       "      <td>6.000000</td>\n",
       "    </tr>\n",
       "    <tr>\n",
       "      <th>Agadir</th>\n",
       "      <td>300000</td>\n",
       "      <td>50000</td>\n",
       "      <td>Sous-massa</td>\n",
       "      <td>6.000000</td>\n",
       "    </tr>\n",
       "    <tr>\n",
       "      <th>Ouarzazate</th>\n",
       "      <td>120000</td>\n",
       "      <td>30000</td>\n",
       "      <td>Drâa-Tafilalet</td>\n",
       "      <td>4.000000</td>\n",
       "    </tr>\n",
       "    <tr>\n",
       "      <th>CasaBlanca</th>\n",
       "      <td>400000</td>\n",
       "      <td>220000</td>\n",
       "      <td>Casablanca-settat</td>\n",
       "      <td>1.818182</td>\n",
       "    </tr>\n",
       "    <tr>\n",
       "      <th>Tiznit</th>\n",
       "      <td>100000</td>\n",
       "      <td>15000</td>\n",
       "      <td>Sous-massa</td>\n",
       "      <td>6.666667</td>\n",
       "    </tr>\n",
       "  </tbody>\n",
       "</table>\n",
       "</div>"
      ],
      "text/plain": [
       "            population    area             region   densite\n",
       "Tinghir         150000   25000     Drâa-Tafilalet  6.000000\n",
       "Agadir          300000   50000         Sous-massa  6.000000\n",
       "Ouarzazate      120000   30000     Drâa-Tafilalet  4.000000\n",
       "CasaBlanca      400000  220000  Casablanca-settat  1.818182\n",
       "Tiznit          100000   15000         Sous-massa  6.666667"
      ]
     },
     "execution_count": 295,
     "metadata": {},
     "output_type": "execute_result"
    }
   ],
   "source": [
    "df['densite'] = df['population'] / df['area']\n",
    "df"
   ]
  },
  {
   "cell_type": "markdown",
   "id": "87eb3ab1",
   "metadata": {},
   "source": [
    "### Supprimer une colonne:"
   ]
  },
  {
   "cell_type": "code",
   "execution_count": 296,
   "id": "3f772948",
   "metadata": {
    "scrolled": true
   },
   "outputs": [
    {
     "data": {
      "text/html": [
       "<div>\n",
       "<style scoped>\n",
       "    .dataframe tbody tr th:only-of-type {\n",
       "        vertical-align: middle;\n",
       "    }\n",
       "\n",
       "    .dataframe tbody tr th {\n",
       "        vertical-align: top;\n",
       "    }\n",
       "\n",
       "    .dataframe thead th {\n",
       "        text-align: right;\n",
       "    }\n",
       "</style>\n",
       "<table border=\"1\" class=\"dataframe\">\n",
       "  <thead>\n",
       "    <tr style=\"text-align: right;\">\n",
       "      <th></th>\n",
       "      <th>population</th>\n",
       "      <th>area</th>\n",
       "      <th>region</th>\n",
       "    </tr>\n",
       "  </thead>\n",
       "  <tbody>\n",
       "    <tr>\n",
       "      <th>Tinghir</th>\n",
       "      <td>150000</td>\n",
       "      <td>25000</td>\n",
       "      <td>Drâa-Tafilalet</td>\n",
       "    </tr>\n",
       "    <tr>\n",
       "      <th>Agadir</th>\n",
       "      <td>300000</td>\n",
       "      <td>50000</td>\n",
       "      <td>Sous-massa</td>\n",
       "    </tr>\n",
       "    <tr>\n",
       "      <th>Ouarzazate</th>\n",
       "      <td>120000</td>\n",
       "      <td>30000</td>\n",
       "      <td>Drâa-Tafilalet</td>\n",
       "    </tr>\n",
       "    <tr>\n",
       "      <th>CasaBlanca</th>\n",
       "      <td>400000</td>\n",
       "      <td>220000</td>\n",
       "      <td>Casablanca-settat</td>\n",
       "    </tr>\n",
       "    <tr>\n",
       "      <th>Tiznit</th>\n",
       "      <td>100000</td>\n",
       "      <td>15000</td>\n",
       "      <td>Sous-massa</td>\n",
       "    </tr>\n",
       "  </tbody>\n",
       "</table>\n",
       "</div>"
      ],
      "text/plain": [
       "            population    area             region\n",
       "Tinghir         150000   25000     Drâa-Tafilalet\n",
       "Agadir          300000   50000         Sous-massa\n",
       "Ouarzazate      120000   30000     Drâa-Tafilalet\n",
       "CasaBlanca      400000  220000  Casablanca-settat\n",
       "Tiznit          100000   15000         Sous-massa"
      ]
     },
     "execution_count": 296,
     "metadata": {},
     "output_type": "execute_result"
    }
   ],
   "source": [
    "df.drop('densite', axis=1 , inplace=True)\n",
    "df"
   ]
  },
  {
   "cell_type": "markdown",
   "id": "6b703456",
   "metadata": {},
   "source": [
    "## 4-2 Filtrer, trier, grouper et agréger des données"
   ]
  },
  {
   "cell_type": "markdown",
   "id": "59b7b99e",
   "metadata": {},
   "source": [
    "### Filtrer selon une condition:\n",
    ">Pour filtrer des données d’un DataFrame selon une condition, vous pouvez utiliser la notation [] avec une expression booléenne. Par exemple, si vous voulez sélectionner les lignes du DataFrame df où la population est supérieure à un million, vous pouvez faire :"
   ]
  },
  {
   "cell_type": "code",
   "execution_count": 297,
   "id": "1424fad1",
   "metadata": {},
   "outputs": [
    {
     "data": {
      "text/html": [
       "<div>\n",
       "<style scoped>\n",
       "    .dataframe tbody tr th:only-of-type {\n",
       "        vertical-align: middle;\n",
       "    }\n",
       "\n",
       "    .dataframe tbody tr th {\n",
       "        vertical-align: top;\n",
       "    }\n",
       "\n",
       "    .dataframe thead th {\n",
       "        text-align: right;\n",
       "    }\n",
       "</style>\n",
       "<table border=\"1\" class=\"dataframe\">\n",
       "  <thead>\n",
       "    <tr style=\"text-align: right;\">\n",
       "      <th></th>\n",
       "      <th>population</th>\n",
       "      <th>area</th>\n",
       "      <th>region</th>\n",
       "    </tr>\n",
       "  </thead>\n",
       "  <tbody>\n",
       "  </tbody>\n",
       "</table>\n",
       "</div>"
      ],
      "text/plain": [
       "Empty DataFrame\n",
       "Columns: [population, area, region]\n",
       "Index: []"
      ]
     },
     "execution_count": 297,
     "metadata": {},
     "output_type": "execute_result"
    }
   ],
   "source": [
    "df[df['population'] > 500000]"
   ]
  },
  {
   "cell_type": "markdown",
   "id": "30378f88",
   "metadata": {},
   "source": [
    "### Trier par ordre décroissant de population:\n",
    ">Pour trier des données d’un DataFrame selon une ou plusieurs colonnes, vous pouvez utiliser la méthode sort_values() avec le nom ou la liste des noms des colonnes. Par exemple, si vous voulez trier le DataFrame df par ordre décroissant de population, vous pouvez faire :"
   ]
  },
  {
   "cell_type": "code",
   "execution_count": 298,
   "id": "4c27e045",
   "metadata": {},
   "outputs": [
    {
     "data": {
      "text/html": [
       "<div>\n",
       "<style scoped>\n",
       "    .dataframe tbody tr th:only-of-type {\n",
       "        vertical-align: middle;\n",
       "    }\n",
       "\n",
       "    .dataframe tbody tr th {\n",
       "        vertical-align: top;\n",
       "    }\n",
       "\n",
       "    .dataframe thead th {\n",
       "        text-align: right;\n",
       "    }\n",
       "</style>\n",
       "<table border=\"1\" class=\"dataframe\">\n",
       "  <thead>\n",
       "    <tr style=\"text-align: right;\">\n",
       "      <th></th>\n",
       "      <th>population</th>\n",
       "      <th>area</th>\n",
       "      <th>region</th>\n",
       "    </tr>\n",
       "  </thead>\n",
       "  <tbody>\n",
       "    <tr>\n",
       "      <th>CasaBlanca</th>\n",
       "      <td>400000</td>\n",
       "      <td>220000</td>\n",
       "      <td>Casablanca-settat</td>\n",
       "    </tr>\n",
       "    <tr>\n",
       "      <th>Agadir</th>\n",
       "      <td>300000</td>\n",
       "      <td>50000</td>\n",
       "      <td>Sous-massa</td>\n",
       "    </tr>\n",
       "    <tr>\n",
       "      <th>Tinghir</th>\n",
       "      <td>150000</td>\n",
       "      <td>25000</td>\n",
       "      <td>Drâa-Tafilalet</td>\n",
       "    </tr>\n",
       "    <tr>\n",
       "      <th>Ouarzazate</th>\n",
       "      <td>120000</td>\n",
       "      <td>30000</td>\n",
       "      <td>Drâa-Tafilalet</td>\n",
       "    </tr>\n",
       "    <tr>\n",
       "      <th>Tiznit</th>\n",
       "      <td>100000</td>\n",
       "      <td>15000</td>\n",
       "      <td>Sous-massa</td>\n",
       "    </tr>\n",
       "  </tbody>\n",
       "</table>\n",
       "</div>"
      ],
      "text/plain": [
       "            population    area             region\n",
       "CasaBlanca      400000  220000  Casablanca-settat\n",
       "Agadir          300000   50000         Sous-massa\n",
       "Tinghir         150000   25000     Drâa-Tafilalet\n",
       "Ouarzazate      120000   30000     Drâa-Tafilalet\n",
       "Tiznit          100000   15000         Sous-massa"
      ]
     },
     "execution_count": 298,
     "metadata": {},
     "output_type": "execute_result"
    }
   ],
   "source": [
    "df.sort_values('population', ascending=False)"
   ]
  },
  {
   "cell_type": "markdown",
   "id": "83189153",
   "metadata": {},
   "source": [
    "### Grouper selon la colonne 'region':\n",
    ">Pour grouper des données d’un DataFrame selon une ou plusieurs colonnes, vous pouvez utiliser la méthode groupby() avec le nom ou la liste des noms des colonnes. Par exemple, si vous avez un DataFrame nommé df avec une colonne nommée region, vous pouvez faire :"
   ]
  },
  {
   "cell_type": "code",
   "execution_count": 299,
   "id": "9fd53d07",
   "metadata": {},
   "outputs": [
    {
     "name": "stdout",
     "output_type": "stream",
     "text": [
      "Group Casablanca-settat:\n",
      "            population    area             region\n",
      "CasaBlanca      400000  220000  Casablanca-settat\n",
      "Group Drâa-Tafilalet:\n",
      "            population   area          region\n",
      "Tinghir         150000  25000  Drâa-Tafilalet\n",
      "Ouarzazate      120000  30000  Drâa-Tafilalet\n",
      "Group Sous-massa:\n",
      "        population   area      region\n",
      "Agadir      300000  50000  Sous-massa\n",
      "Tiznit      100000  15000  Sous-massa\n"
     ]
    }
   ],
   "source": [
    "# Groupement par densité de population\n",
    "grouped = df.groupby('region') # mean() sum() count()\n",
    "# Accéder aux données de chaque groupe sans agrégation\n",
    "for name, group in grouped:\n",
    "    print(f\"Group {name}:\")\n",
    "    print(group)"
   ]
  },
  {
   "cell_type": "markdown",
   "id": "f9bbc4da",
   "metadata": {},
   "source": [
    "### Agréger la colonne 'population':\n",
    ">Pour agréger des données d’un DataFrame selon une fonction ou une liste de fonctions, vous pouvez utiliser la méthode agg() avec le nom ou la liste des noms des fonctions. Par exemple, si vous voulez calculer la somme, la moyenne et le nombre de valeurs de la colonne population du DataFrame df, vous pouvez faire :"
   ]
  },
  {
   "cell_type": "code",
   "execution_count": 300,
   "id": "3f61500d",
   "metadata": {
    "scrolled": true
   },
   "outputs": [
    {
     "data": {
      "text/plain": [
       "sum      1070000.0\n",
       "mean      214000.0\n",
       "count          5.0\n",
       "Name: population, dtype: float64"
      ]
     },
     "execution_count": 300,
     "metadata": {},
     "output_type": "execute_result"
    }
   ],
   "source": [
    "df['population'].agg(['sum', 'mean', 'count'])"
   ]
  },
  {
   "cell_type": "markdown",
   "id": "b8875991",
   "metadata": {},
   "source": [
    "## Gérer les valeurs manquantes et les doublons\n",
    "### Détecter les valeurs manquantes:\n",
    ">Pour détecter les valeurs manquantes d’un DataFrame, vous pouvez utiliser la méthode isna() qui renvoie un DataFrame de booléens indiquant la présence ou l’absence de valeurs. Par exemple, si vous avez un DataFrame nommé df avec des valeurs manquantes, vous pouvez faire :"
   ]
  },
  {
   "cell_type": "code",
   "execution_count": 301,
   "id": "63af8c26",
   "metadata": {},
   "outputs": [
    {
     "data": {
      "text/html": [
       "<div>\n",
       "<style scoped>\n",
       "    .dataframe tbody tr th:only-of-type {\n",
       "        vertical-align: middle;\n",
       "    }\n",
       "\n",
       "    .dataframe tbody tr th {\n",
       "        vertical-align: top;\n",
       "    }\n",
       "\n",
       "    .dataframe thead th {\n",
       "        text-align: right;\n",
       "    }\n",
       "</style>\n",
       "<table border=\"1\" class=\"dataframe\">\n",
       "  <thead>\n",
       "    <tr style=\"text-align: right;\">\n",
       "      <th></th>\n",
       "      <th>population</th>\n",
       "      <th>area</th>\n",
       "      <th>region</th>\n",
       "    </tr>\n",
       "  </thead>\n",
       "  <tbody>\n",
       "    <tr>\n",
       "      <th>Tinghir</th>\n",
       "      <td>False</td>\n",
       "      <td>False</td>\n",
       "      <td>False</td>\n",
       "    </tr>\n",
       "    <tr>\n",
       "      <th>Agadir</th>\n",
       "      <td>False</td>\n",
       "      <td>False</td>\n",
       "      <td>False</td>\n",
       "    </tr>\n",
       "    <tr>\n",
       "      <th>Ouarzazate</th>\n",
       "      <td>False</td>\n",
       "      <td>False</td>\n",
       "      <td>False</td>\n",
       "    </tr>\n",
       "    <tr>\n",
       "      <th>CasaBlanca</th>\n",
       "      <td>False</td>\n",
       "      <td>False</td>\n",
       "      <td>False</td>\n",
       "    </tr>\n",
       "    <tr>\n",
       "      <th>Tiznit</th>\n",
       "      <td>False</td>\n",
       "      <td>False</td>\n",
       "      <td>False</td>\n",
       "    </tr>\n",
       "  </tbody>\n",
       "</table>\n",
       "</div>"
      ],
      "text/plain": [
       "            population   area  region\n",
       "Tinghir          False  False   False\n",
       "Agadir           False  False   False\n",
       "Ouarzazate       False  False   False\n",
       "CasaBlanca       False  False   False\n",
       "Tiznit           False  False   False"
      ]
     },
     "execution_count": 301,
     "metadata": {},
     "output_type": "execute_result"
    }
   ],
   "source": [
    "df.isna()"
   ]
  },
  {
   "cell_type": "markdown",
   "id": "12246e75",
   "metadata": {},
   "source": [
    "### Remplir les valeurs manquantes par la moyenne:\n",
    ">Pour remplir les valeurs manquantes d’un DataFrame, vous pouvez utiliser la méthode fillna() avec une valeur ou une méthode de remplissage. Par exemple, si vous voulez remplir les valeurs manquantes du DataFrame df par la moyenne de la colonne correspondante, vous pouvez faire :"
   ]
  },
  {
   "cell_type": "code",
   "execution_count": 302,
   "id": "b621d7c0",
   "metadata": {},
   "outputs": [
    {
     "data": {
      "text/html": [
       "<div>\n",
       "<style scoped>\n",
       "    .dataframe tbody tr th:only-of-type {\n",
       "        vertical-align: middle;\n",
       "    }\n",
       "\n",
       "    .dataframe tbody tr th {\n",
       "        vertical-align: top;\n",
       "    }\n",
       "\n",
       "    .dataframe thead th {\n",
       "        text-align: right;\n",
       "    }\n",
       "</style>\n",
       "<table border=\"1\" class=\"dataframe\">\n",
       "  <thead>\n",
       "    <tr style=\"text-align: right;\">\n",
       "      <th></th>\n",
       "      <th>population</th>\n",
       "      <th>area</th>\n",
       "      <th>region</th>\n",
       "    </tr>\n",
       "  </thead>\n",
       "  <tbody>\n",
       "    <tr>\n",
       "      <th>Tinghir</th>\n",
       "      <td>150000</td>\n",
       "      <td>25000</td>\n",
       "      <td>Drâa-Tafilalet</td>\n",
       "    </tr>\n",
       "    <tr>\n",
       "      <th>Agadir</th>\n",
       "      <td>300000</td>\n",
       "      <td>50000</td>\n",
       "      <td>Sous-massa</td>\n",
       "    </tr>\n",
       "    <tr>\n",
       "      <th>Ouarzazate</th>\n",
       "      <td>120000</td>\n",
       "      <td>30000</td>\n",
       "      <td>Drâa-Tafilalet</td>\n",
       "    </tr>\n",
       "    <tr>\n",
       "      <th>CasaBlanca</th>\n",
       "      <td>400000</td>\n",
       "      <td>220000</td>\n",
       "      <td>Casablanca-settat</td>\n",
       "    </tr>\n",
       "    <tr>\n",
       "      <th>Tiznit</th>\n",
       "      <td>100000</td>\n",
       "      <td>15000</td>\n",
       "      <td>Sous-massa</td>\n",
       "    </tr>\n",
       "  </tbody>\n",
       "</table>\n",
       "</div>"
      ],
      "text/plain": [
       "            population    area             region\n",
       "Tinghir         150000   25000     Drâa-Tafilalet\n",
       "Agadir          300000   50000         Sous-massa\n",
       "Ouarzazate      120000   30000     Drâa-Tafilalet\n",
       "CasaBlanca      400000  220000  Casablanca-settat\n",
       "Tiznit          100000   15000         Sous-massa"
      ]
     },
     "execution_count": 302,
     "metadata": {},
     "output_type": "execute_result"
    }
   ],
   "source": [
    "df.fillna(df[\"population\"].mean())"
   ]
  },
  {
   "cell_type": "markdown",
   "id": "346eaf08",
   "metadata": {},
   "source": [
    "### Supprimer les lignes avec des valeurs manquantes:\n",
    ">Pour supprimer les valeurs manquantes d’un DataFrame, vous pouvez utiliser la méthode dropna() avec un paramètre indiquant l’axe, le seuil ou la sous-ensemble de colonnes à considérer. Par exemple, si vous voulez supprimer les lignes du DataFrame df qui ont au moins une valeur manquante, vous pouvez faire :"
   ]
  },
  {
   "cell_type": "code",
   "execution_count": 303,
   "id": "293b196a",
   "metadata": {},
   "outputs": [
    {
     "data": {
      "text/html": [
       "<div>\n",
       "<style scoped>\n",
       "    .dataframe tbody tr th:only-of-type {\n",
       "        vertical-align: middle;\n",
       "    }\n",
       "\n",
       "    .dataframe tbody tr th {\n",
       "        vertical-align: top;\n",
       "    }\n",
       "\n",
       "    .dataframe thead th {\n",
       "        text-align: right;\n",
       "    }\n",
       "</style>\n",
       "<table border=\"1\" class=\"dataframe\">\n",
       "  <thead>\n",
       "    <tr style=\"text-align: right;\">\n",
       "      <th></th>\n",
       "      <th>population</th>\n",
       "      <th>area</th>\n",
       "      <th>region</th>\n",
       "    </tr>\n",
       "  </thead>\n",
       "  <tbody>\n",
       "    <tr>\n",
       "      <th>Tinghir</th>\n",
       "      <td>150000</td>\n",
       "      <td>25000</td>\n",
       "      <td>Drâa-Tafilalet</td>\n",
       "    </tr>\n",
       "    <tr>\n",
       "      <th>Agadir</th>\n",
       "      <td>300000</td>\n",
       "      <td>50000</td>\n",
       "      <td>Sous-massa</td>\n",
       "    </tr>\n",
       "    <tr>\n",
       "      <th>Ouarzazate</th>\n",
       "      <td>120000</td>\n",
       "      <td>30000</td>\n",
       "      <td>Drâa-Tafilalet</td>\n",
       "    </tr>\n",
       "    <tr>\n",
       "      <th>CasaBlanca</th>\n",
       "      <td>400000</td>\n",
       "      <td>220000</td>\n",
       "      <td>Casablanca-settat</td>\n",
       "    </tr>\n",
       "    <tr>\n",
       "      <th>Tiznit</th>\n",
       "      <td>100000</td>\n",
       "      <td>15000</td>\n",
       "      <td>Sous-massa</td>\n",
       "    </tr>\n",
       "  </tbody>\n",
       "</table>\n",
       "</div>"
      ],
      "text/plain": [
       "            population    area             region\n",
       "Tinghir         150000   25000     Drâa-Tafilalet\n",
       "Agadir          300000   50000         Sous-massa\n",
       "Ouarzazate      120000   30000     Drâa-Tafilalet\n",
       "CasaBlanca      400000  220000  Casablanca-settat\n",
       "Tiznit          100000   15000         Sous-massa"
      ]
     },
     "execution_count": 303,
     "metadata": {},
     "output_type": "execute_result"
    }
   ],
   "source": [
    "df.dropna(axis=0, how='any')"
   ]
  },
  {
   "cell_type": "markdown",
   "id": "f4676e9b",
   "metadata": {},
   "source": [
    "### Détecter les doublons:\n",
    ">Pour détecter les doublons d’un DataFrame, vous pouvez utiliser la méthode duplicated() qui renvoie une Series de booléens indiquant si la ligne est dupliquée ou non. Par exemple, si vous avez un DataFrame nommé df avec des doublons, vous pouvez faire :"
   ]
  },
  {
   "cell_type": "code",
   "execution_count": 304,
   "id": "c66faa6b",
   "metadata": {},
   "outputs": [
    {
     "data": {
      "text/plain": [
       "Tinghir       False\n",
       "Agadir        False\n",
       "Ouarzazate    False\n",
       "CasaBlanca    False\n",
       "Tiznit        False\n",
       "dtype: bool"
      ]
     },
     "execution_count": 304,
     "metadata": {},
     "output_type": "execute_result"
    }
   ],
   "source": [
    "df.duplicated()"
   ]
  },
  {
   "cell_type": "markdown",
   "id": "66ecd2fb",
   "metadata": {},
   "source": [
    "### Supprimer les doublons basés sur la colonne 'population':\n",
    ">Pour supprimer les doublons d’un DataFrame, vous pouvez utiliser la méthode drop_duplicates() avec un paramètre indiquant les colonnes à considérer. Par exemple, si vous voulez supprimer les lignes du DataFrame df qui ont des valeurs identiques dans la colonne population, vous pouvez faire :"
   ]
  },
  {
   "cell_type": "code",
   "execution_count": 305,
   "id": "d0ca23ba",
   "metadata": {},
   "outputs": [
    {
     "data": {
      "text/html": [
       "<div>\n",
       "<style scoped>\n",
       "    .dataframe tbody tr th:only-of-type {\n",
       "        vertical-align: middle;\n",
       "    }\n",
       "\n",
       "    .dataframe tbody tr th {\n",
       "        vertical-align: top;\n",
       "    }\n",
       "\n",
       "    .dataframe thead th {\n",
       "        text-align: right;\n",
       "    }\n",
       "</style>\n",
       "<table border=\"1\" class=\"dataframe\">\n",
       "  <thead>\n",
       "    <tr style=\"text-align: right;\">\n",
       "      <th></th>\n",
       "      <th>population</th>\n",
       "      <th>area</th>\n",
       "      <th>region</th>\n",
       "    </tr>\n",
       "  </thead>\n",
       "  <tbody>\n",
       "    <tr>\n",
       "      <th>Tinghir</th>\n",
       "      <td>150000</td>\n",
       "      <td>25000</td>\n",
       "      <td>Drâa-Tafilalet</td>\n",
       "    </tr>\n",
       "    <tr>\n",
       "      <th>Agadir</th>\n",
       "      <td>300000</td>\n",
       "      <td>50000</td>\n",
       "      <td>Sous-massa</td>\n",
       "    </tr>\n",
       "    <tr>\n",
       "      <th>Ouarzazate</th>\n",
       "      <td>120000</td>\n",
       "      <td>30000</td>\n",
       "      <td>Drâa-Tafilalet</td>\n",
       "    </tr>\n",
       "    <tr>\n",
       "      <th>CasaBlanca</th>\n",
       "      <td>400000</td>\n",
       "      <td>220000</td>\n",
       "      <td>Casablanca-settat</td>\n",
       "    </tr>\n",
       "    <tr>\n",
       "      <th>Tiznit</th>\n",
       "      <td>100000</td>\n",
       "      <td>15000</td>\n",
       "      <td>Sous-massa</td>\n",
       "    </tr>\n",
       "  </tbody>\n",
       "</table>\n",
       "</div>"
      ],
      "text/plain": [
       "            population    area             region\n",
       "Tinghir         150000   25000     Drâa-Tafilalet\n",
       "Agadir          300000   50000         Sous-massa\n",
       "Ouarzazate      120000   30000     Drâa-Tafilalet\n",
       "CasaBlanca      400000  220000  Casablanca-settat\n",
       "Tiznit          100000   15000         Sous-massa"
      ]
     },
     "execution_count": 305,
     "metadata": {},
     "output_type": "execute_result"
    }
   ],
   "source": [
    "df.drop_duplicates(subset='population')"
   ]
  },
  {
   "cell_type": "markdown",
   "id": "a8289ead",
   "metadata": {},
   "source": [
    "## Appliquer des fonctions personnalisées avec apply et map\n",
    "\n",
    "### Appliquer une fonction à chaque élément:\n",
    ">Pour appliquer une fonction à chaque élément d’un DataFrame, vous pouvez utiliser la méthode applymap() avec le nom de la fonction. Par exemple, si vous voulez arrondir les valeurs du DataFrame df à deux décimales, vous pouvez faire :"
   ]
  },
  {
   "cell_type": "code",
   "execution_count": 306,
   "id": "55aec11a",
   "metadata": {},
   "outputs": [
    {
     "data": {
      "text/html": [
       "<div>\n",
       "<style scoped>\n",
       "    .dataframe tbody tr th:only-of-type {\n",
       "        vertical-align: middle;\n",
       "    }\n",
       "\n",
       "    .dataframe tbody tr th {\n",
       "        vertical-align: top;\n",
       "    }\n",
       "\n",
       "    .dataframe thead th {\n",
       "        text-align: right;\n",
       "    }\n",
       "</style>\n",
       "<table border=\"1\" class=\"dataframe\">\n",
       "  <thead>\n",
       "    <tr style=\"text-align: right;\">\n",
       "      <th></th>\n",
       "      <th>population</th>\n",
       "      <th>area</th>\n",
       "    </tr>\n",
       "  </thead>\n",
       "  <tbody>\n",
       "    <tr>\n",
       "      <th>Tinghir</th>\n",
       "      <td>150000</td>\n",
       "      <td>25000</td>\n",
       "    </tr>\n",
       "    <tr>\n",
       "      <th>Agadir</th>\n",
       "      <td>300000</td>\n",
       "      <td>50000</td>\n",
       "    </tr>\n",
       "    <tr>\n",
       "      <th>Ouarzazate</th>\n",
       "      <td>120000</td>\n",
       "      <td>30000</td>\n",
       "    </tr>\n",
       "    <tr>\n",
       "      <th>CasaBlanca</th>\n",
       "      <td>400000</td>\n",
       "      <td>220000</td>\n",
       "    </tr>\n",
       "    <tr>\n",
       "      <th>Tiznit</th>\n",
       "      <td>100000</td>\n",
       "      <td>15000</td>\n",
       "    </tr>\n",
       "  </tbody>\n",
       "</table>\n",
       "</div>"
      ],
      "text/plain": [
       "            population    area\n",
       "Tinghir         150000   25000\n",
       "Agadir          300000   50000\n",
       "Ouarzazate      120000   30000\n",
       "CasaBlanca      400000  220000\n",
       "Tiznit          100000   15000"
      ]
     },
     "execution_count": 306,
     "metadata": {},
     "output_type": "execute_result"
    }
   ],
   "source": [
    "df[['population','area']].map(round, ndigits=1)\n",
    "#df.applymap(round, ndigits=2) # khas df tkoun numerrique"
   ]
  },
  {
   "cell_type": "markdown",
   "id": "6522db9b",
   "metadata": {},
   "source": [
    "### Appliquer une fonction à chaque colonne :\n",
    ">Appliquer une fonction à chaque ligne (calcul de la densité):"
   ]
  },
  {
   "cell_type": "code",
   "execution_count": 307,
   "id": "bea50694",
   "metadata": {},
   "outputs": [
    {
     "data": {
      "text/html": [
       "<div>\n",
       "<style scoped>\n",
       "    .dataframe tbody tr th:only-of-type {\n",
       "        vertical-align: middle;\n",
       "    }\n",
       "\n",
       "    .dataframe tbody tr th {\n",
       "        vertical-align: top;\n",
       "    }\n",
       "\n",
       "    .dataframe thead th {\n",
       "        text-align: right;\n",
       "    }\n",
       "</style>\n",
       "<table border=\"1\" class=\"dataframe\">\n",
       "  <thead>\n",
       "    <tr style=\"text-align: right;\">\n",
       "      <th></th>\n",
       "      <th>population</th>\n",
       "      <th>area</th>\n",
       "      <th>region</th>\n",
       "      <th>densite</th>\n",
       "    </tr>\n",
       "  </thead>\n",
       "  <tbody>\n",
       "    <tr>\n",
       "      <th>Tinghir</th>\n",
       "      <td>150000</td>\n",
       "      <td>25000</td>\n",
       "      <td>Drâa-Tafilalet</td>\n",
       "      <td>6.000000</td>\n",
       "    </tr>\n",
       "    <tr>\n",
       "      <th>Agadir</th>\n",
       "      <td>300000</td>\n",
       "      <td>50000</td>\n",
       "      <td>Sous-massa</td>\n",
       "      <td>6.000000</td>\n",
       "    </tr>\n",
       "    <tr>\n",
       "      <th>Ouarzazate</th>\n",
       "      <td>120000</td>\n",
       "      <td>30000</td>\n",
       "      <td>Drâa-Tafilalet</td>\n",
       "      <td>4.000000</td>\n",
       "    </tr>\n",
       "    <tr>\n",
       "      <th>CasaBlanca</th>\n",
       "      <td>400000</td>\n",
       "      <td>220000</td>\n",
       "      <td>Casablanca-settat</td>\n",
       "      <td>1.818182</td>\n",
       "    </tr>\n",
       "    <tr>\n",
       "      <th>Tiznit</th>\n",
       "      <td>100000</td>\n",
       "      <td>15000</td>\n",
       "      <td>Sous-massa</td>\n",
       "      <td>6.666667</td>\n",
       "    </tr>\n",
       "  </tbody>\n",
       "</table>\n",
       "</div>"
      ],
      "text/plain": [
       "            population    area             region   densite\n",
       "Tinghir         150000   25000     Drâa-Tafilalet  6.000000\n",
       "Agadir          300000   50000         Sous-massa  6.000000\n",
       "Ouarzazate      120000   30000     Drâa-Tafilalet  4.000000\n",
       "CasaBlanca      400000  220000  Casablanca-settat  1.818182\n",
       "Tiznit          100000   15000         Sous-massa  6.666667"
      ]
     },
     "execution_count": 307,
     "metadata": {},
     "output_type": "execute_result"
    }
   ],
   "source": [
    "df['densite'] = df.apply(lambda row: row['population'] / row['area'], axis=1)\n",
    "df"
   ]
  },
  {
   "cell_type": "markdown",
   "id": "f608c56e",
   "metadata": {},
   "source": [
    "### Convertir les valeurs d'une Series en autre type:\n",
    ">Pour appliquer une fonction à chaque élément d’une Series, vous pouvez utiliser la méthode map() avec le nom de la fonction ou un dictionnaire de correspondance. "
   ]
  },
  {
   "cell_type": "code",
   "execution_count": 308,
   "id": "43eb47e4",
   "metadata": {},
   "outputs": [
    {
     "data": {
      "text/plain": [
       "Tinghir        25000\n",
       "Agadir         50000\n",
       "Ouarzazate     30000\n",
       "CasaBlanca    220000\n",
       "Tiznit         15000\n",
       "Name: area, dtype: int64"
      ]
     },
     "execution_count": 308,
     "metadata": {},
     "output_type": "execute_result"
    }
   ],
   "source": [
    "df[\"area\"].map(int)"
   ]
  },
  {
   "cell_type": "markdown",
   "id": "f9e849cd",
   "metadata": {},
   "source": [
    "## 6- Visualiser un DataFrame avec Pandas"
   ]
  },
  {
   "cell_type": "code",
   "execution_count": 309,
   "id": "23d8c0df",
   "metadata": {},
   "outputs": [
    {
     "data": {
      "text/html": [
       "<div>\n",
       "<style scoped>\n",
       "    .dataframe tbody tr th:only-of-type {\n",
       "        vertical-align: middle;\n",
       "    }\n",
       "\n",
       "    .dataframe tbody tr th {\n",
       "        vertical-align: top;\n",
       "    }\n",
       "\n",
       "    .dataframe thead th {\n",
       "        text-align: right;\n",
       "    }\n",
       "</style>\n",
       "<table border=\"1\" class=\"dataframe\">\n",
       "  <thead>\n",
       "    <tr style=\"text-align: right;\">\n",
       "      <th></th>\n",
       "      <th>population</th>\n",
       "      <th>area</th>\n",
       "      <th>region</th>\n",
       "      <th>densite</th>\n",
       "    </tr>\n",
       "  </thead>\n",
       "  <tbody>\n",
       "    <tr>\n",
       "      <th>Tinghir</th>\n",
       "      <td>150000</td>\n",
       "      <td>25000</td>\n",
       "      <td>Drâa-Tafilalet</td>\n",
       "      <td>6.000000</td>\n",
       "    </tr>\n",
       "    <tr>\n",
       "      <th>Agadir</th>\n",
       "      <td>300000</td>\n",
       "      <td>50000</td>\n",
       "      <td>Sous-massa</td>\n",
       "      <td>6.000000</td>\n",
       "    </tr>\n",
       "    <tr>\n",
       "      <th>Ouarzazate</th>\n",
       "      <td>120000</td>\n",
       "      <td>30000</td>\n",
       "      <td>Drâa-Tafilalet</td>\n",
       "      <td>4.000000</td>\n",
       "    </tr>\n",
       "    <tr>\n",
       "      <th>CasaBlanca</th>\n",
       "      <td>400000</td>\n",
       "      <td>220000</td>\n",
       "      <td>Casablanca-settat</td>\n",
       "      <td>1.818182</td>\n",
       "    </tr>\n",
       "    <tr>\n",
       "      <th>Tiznit</th>\n",
       "      <td>100000</td>\n",
       "      <td>15000</td>\n",
       "      <td>Sous-massa</td>\n",
       "      <td>6.666667</td>\n",
       "    </tr>\n",
       "  </tbody>\n",
       "</table>\n",
       "</div>"
      ],
      "text/plain": [
       "            population    area             region   densite\n",
       "Tinghir         150000   25000     Drâa-Tafilalet  6.000000\n",
       "Agadir          300000   50000         Sous-massa  6.000000\n",
       "Ouarzazate      120000   30000     Drâa-Tafilalet  4.000000\n",
       "CasaBlanca      400000  220000  Casablanca-settat  1.818182\n",
       "Tiznit          100000   15000         Sous-massa  6.666667"
      ]
     },
     "execution_count": 309,
     "metadata": {},
     "output_type": "execute_result"
    }
   ],
   "source": [
    "df"
   ]
  },
  {
   "cell_type": "markdown",
   "id": "ceb7cd6d",
   "metadata": {},
   "source": [
    "### LINE PLOT"
   ]
  },
  {
   "cell_type": "code",
   "execution_count": 325,
   "id": "3a4c0531",
   "metadata": {},
   "outputs": [
    {
     "data": {
      "text/plain": [
       "<Axes: >"
      ]
     },
     "execution_count": 325,
     "metadata": {},
     "output_type": "execute_result"
    },
    {
     "data": {
      "image/png": "[encoded data removed]",
      "text/plain": [
       "<Figure size 640x480 with 1 Axes>"
      ]
     },
     "metadata": {},
     "output_type": "display_data"
    }
   ],
   "source": [
    "df.plot.line()"
   ]
  },
  {
   "cell_type": "markdown",
   "id": "0a5537b9",
   "metadata": {},
   "source": [
    "### Bar ou Barh"
   ]
  },
  {
   "cell_type": "code",
   "execution_count": 327,
   "id": "8dc2c639",
   "metadata": {},
   "outputs": [
    {
     "data": {
      "text/plain": [
       "<Axes: >"
      ]
     },
     "execution_count": 327,
     "metadata": {},
     "output_type": "execute_result"
    },
    {
     "data": {
      "image/png": "[encoded data removed]",
      "text/plain": [
       "<Figure size 640x480 with 1 Axes>"
      ]
     },
     "metadata": {},
     "output_type": "display_data"
    }
   ],
   "source": [
    "df.plot.barh()"
   ]
  },
  {
   "cell_type": "markdown",
   "id": "801987d5",
   "metadata": {},
   "source": [
    "### HIST"
   ]
  },
  {
   "cell_type": "code",
   "execution_count": 328,
   "id": "f4b4a7a9",
   "metadata": {},
   "outputs": [
    {
     "data": {
      "text/plain": [
       "<Axes: ylabel='Frequency'>"
      ]
     },
     "execution_count": 328,
     "metadata": {},
     "output_type": "execute_result"
    },
    {
     "data": {
      "image/png": "[encoded data removed]",
      "text/plain": [
       "<Figure size 640x480 with 1 Axes>"
      ]
     },
     "metadata": {},
     "output_type": "display_data"
    }
   ],
   "source": [
    "df.plot.hist()"
   ]
  },
  {
   "cell_type": "markdown",
   "id": "86d19e0c",
   "metadata": {},
   "source": [
    "### BOX"
   ]
  },
  {
   "cell_type": "code",
   "execution_count": 329,
   "id": "dcf6c19e",
   "metadata": {},
   "outputs": [
    {
     "data": {
      "text/plain": [
       "<Axes: >"
      ]
     },
     "execution_count": 329,
     "metadata": {},
     "output_type": "execute_result"
    },
    {
     "data": {
      "image/png": "[encoded data removed]",
      "text/plain": [
       "<Figure size 640x480 with 1 Axes>"
      ]
     },
     "metadata": {},
     "output_type": "display_data"
    }
   ],
   "source": [
    "df.plot.box()"
   ]
  },
  {
   "cell_type": "markdown",
   "id": "0ac3f3f6",
   "metadata": {},
   "source": [
    "### KDE OU DENSITY"
   ]
  },
  {
   "cell_type": "code",
   "execution_count": 330,
   "id": "e2529b86",
   "metadata": {},
   "outputs": [
    {
     "data": {
      "text/plain": [
       "<Axes: ylabel='Density'>"
      ]
     },
     "execution_count": 330,
     "metadata": {},
     "output_type": "execute_result"
    },
    {
     "data": {
      "image/png": "[encoded data removed]",
      "text/plain": [
       "<Figure size 640x480 with 1 Axes>"
      ]
     },
     "metadata": {},
     "output_type": "display_data"
    }
   ],
   "source": [
    "df.plot.kde()"
   ]
  },
  {
   "cell_type": "markdown",
   "id": "f536f1fd",
   "metadata": {},
   "source": [
    "### AREA"
   ]
  },
  {
   "cell_type": "code",
   "execution_count": 331,
   "id": "a25b42ff",
   "metadata": {},
   "outputs": [
    {
     "data": {
      "text/plain": [
       "<Axes: >"
      ]
     },
     "execution_count": 331,
     "metadata": {},
     "output_type": "execute_result"
    },
    {
     "data": {
      "image/png": "[encoded data removed]",
      "text/plain": [
       "<Figure size 640x480 with 1 Axes>"
      ]
     },
     "metadata": {},
     "output_type": "display_data"
    }
   ],
   "source": [
    "df.plot.area()"
   ]
  },
  {
   "cell_type": "markdown",
   "id": "57114fa0",
   "metadata": {},
   "source": [
    "### SCATTER"
   ]
  },
  {
   "cell_type": "code",
   "execution_count": null,
   "id": "c7307c53",
   "metadata": {},
   "outputs": [],
   "source": []
  },
  {
   "cell_type": "markdown",
   "id": "c8b391fc",
   "metadata": {},
   "source": [
    "### HEXBIN"
   ]
  },
  {
   "cell_type": "code",
   "execution_count": null,
   "id": "d4eb6d85",
   "metadata": {},
   "outputs": [],
   "source": []
  },
  {
   "cell_type": "markdown",
   "id": "a3b9414d",
   "metadata": {},
   "source": [
    "### PIE"
   ]
  },
  {
   "cell_type": "code",
   "execution_count": null,
   "id": "fe225edb",
   "metadata": {},
   "outputs": [],
   "source": []
  }
 ],
 "metadata": {
  "kernelspec": {
   "display_name": "Python 3 (ipykernel)",
   "language": "python",
   "name": "python3"
  },
  "language_info": {
   "codemirror_mode": {
    "name": "ipython",
    "version": 3
   },
   "file_extension": ".py",
   "mimetype": "text/x-python",
   "name": "python",
   "nbconvert_exporter": "python",
   "pygments_lexer": "ipython3",
   "version": "3.11.5"
  }
 },
 "nbformat": 4,
 "nbformat_minor": 5
}
