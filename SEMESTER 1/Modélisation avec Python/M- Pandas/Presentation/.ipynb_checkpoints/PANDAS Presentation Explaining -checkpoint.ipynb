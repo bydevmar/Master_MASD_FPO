{
 "cells": [
  {
   "cell_type": "markdown",
   "id": "083f662a",
   "metadata": {},
   "source": [
    "# PANDAS Presentation Explaining "
   ]
  },
  {
   "cell_type": "code",
   "execution_count": 13,
   "id": "12e63c1a",
   "metadata": {},
   "outputs": [],
   "source": [
    "import pandas as pd"
   ]
  },
  {
   "cell_type": "markdown",
   "id": "1242e29c",
   "metadata": {},
   "source": [
    "# Series et DataFrames"
   ]
  },
  {
   "cell_type": "markdown",
   "id": "5ac720d5",
   "metadata": {},
   "source": [
    "## Series"
   ]
  },
  {
   "cell_type": "markdown",
   "id": "0d9b6958",
   "metadata": {},
   "source": [
    "## DataFrame"
   ]
  },
  {
   "cell_type": "code",
   "execution_count": 14,
   "id": "34ddaa2f",
   "metadata": {},
   "outputs": [
    {
     "name": "stdout",
     "output_type": "stream",
     "text": [
      "           population   area\n",
      "Paris         2187526  105.4\n",
      "Marseille      863310  240.6\n",
      "Lyon           516092   47.9\n",
      "Toulouse       479553  118.3\n",
      "Nice           340017   71.9\n"
     ]
    }
   ],
   "source": [
    "population_dict = {'Paris': 2187526, 'Marseille': 863310, 'Lyon': 516092, 'Toulouse': 479553, 'Nice': 340017}\n",
    "\n",
    "population = pd.Series(population_dict)\n",
    "\n",
    "area_dict = {'Paris': 105.4, 'Marseille': 240.6, 'Lyon': 47.9, 'Toulouse': 118.3, 'Nice': 71.9}\n",
    "\n",
    "area = pd.Series(area_dict)\n",
    "\n",
    "df = pd.DataFrame({'population': population, 'area': area})\n",
    "\n",
    "print(df)"
   ]
  },
  {
   "cell_type": "markdown",
   "id": "b33f7038",
   "metadata": {},
   "source": [
    "**On peut accéder aux données et aux index d’un DataFrame avec les attributs values, index et columns. Par exemple :**"
   ]
  },
  {
   "cell_type": "code",
   "execution_count": 15,
   "id": "61b4e54d",
   "metadata": {},
   "outputs": [
    {
     "name": "stdout",
     "output_type": "stream",
     "text": [
      "[[2.187526e+06 1.054000e+02]\n",
      " [8.633100e+05 2.406000e+02]\n",
      " [5.160920e+05 4.790000e+01]\n",
      " [4.795530e+05 1.183000e+02]\n",
      " [3.400170e+05 7.190000e+01]]\n",
      "Index(['Paris', 'Marseille', 'Lyon', 'Toulouse', 'Nice'], dtype='object')\n",
      "Index(['population', 'area'], dtype='object')\n"
     ]
    }
   ],
   "source": [
    "print(df.values) # affiche [[2187526.   105.4]\n",
    "                 #         [ 863310.   240.6]\n",
    "                 #         [ 516092.    47.9]\n",
    "                 #         [ 479553.   118.3]\n",
    "                 #         [ 340017.    71.9]]\n",
    "print(df.index) # affiche Index(['Paris', 'Marseille', 'Lyon', 'Toulouse', 'Nice'], dtype='object')\n",
    "print(df.columns) # affiche Index(['population', 'area'], dtype='object')\n"
   ]
  },
  {
   "cell_type": "markdown",
   "id": "e361f84b",
   "metadata": {},
   "source": [
    "**On peut accéder aux colonnes d’un DataFrame par leur nom, en utilisant la notation [] ou la notation .. Par exemple :**"
   ]
  },
  {
   "cell_type": "code",
   "execution_count": 19,
   "id": "3dac181c",
   "metadata": {
    "scrolled": true
   },
   "outputs": [
    {
     "name": "stdout",
     "output_type": "stream",
     "text": [
      "Methode 1 : \n",
      "Paris        2187526\n",
      "Marseille     863310\n",
      "Lyon          516092\n",
      "Toulouse      479553\n",
      "Nice          340017\n",
      "Name: population, dtype: int64\n",
      " \n",
      " Methode 2 : \n",
      "Paris        2187526\n",
      "Marseille     863310\n",
      "Lyon          516092\n",
      "Toulouse      479553\n",
      "Nice          340017\n",
      "Name: population, dtype: int64\n"
     ]
    }
   ],
   "source": [
    "print(\"Methode 1 : \")\n",
    "print(df['population']) # affiche la colonne population\n",
    "\n",
    "print(\" \\n Methode 2 : \")\n",
    "print(df.population) # affiche la même chose"
   ]
  },
  {
   "cell_type": "markdown",
   "id": "dda4bd9e",
   "metadata": {},
   "source": [
    "**On peut accéder aux lignes d’un DataFrame par leur index, en utilisant la méthode loc[]. Par exemple :**"
   ]
  },
  {
   "cell_type": "code",
   "execution_count": 20,
   "id": "ef56400b",
   "metadata": {},
   "outputs": [
    {
     "name": "stdout",
     "output_type": "stream",
     "text": [
      "population    2187526.0\n",
      "area              105.4\n",
      "Name: Paris, dtype: float64\n"
     ]
    }
   ],
   "source": [
    "print(df.loc['Paris']) # affiche la ligne correspondant à Paris"
   ]
  },
  {
   "cell_type": "markdown",
   "id": "29ca53fa",
   "metadata": {},
   "source": [
    "**On peut aussi accéder aux lignes d’un DataFrame par leur position, en utilisant la méthode iloc[]. Par exemple :**"
   ]
  },
  {
   "cell_type": "code",
   "execution_count": 22,
   "id": "bedb32c4",
   "metadata": {},
   "outputs": [
    {
     "name": "stdout",
     "output_type": "stream",
     "text": [
      "population    2187526.0\n",
      "area              105.4\n",
      "Name: Paris, dtype: float64\n"
     ]
    }
   ],
   "source": [
    "print(df.iloc[0]) # affiche la première ligne du DataFrame"
   ]
  },
  {
   "cell_type": "markdown",
   "id": "a91bcb75",
   "metadata": {},
   "source": [
    "**On peut accéder à un élément spécifique d’un DataFrame en utilisant la méthode at[]. Par exemple :**"
   ]
  },
  {
   "cell_type": "code",
   "execution_count": 24,
   "id": "8a2ca9ce",
   "metadata": {},
   "outputs": [
    {
     "name": "stdout",
     "output_type": "stream",
     "text": [
      "2187526\n"
     ]
    }
   ],
   "source": [
    "print(df.at['Paris', 'population']) # affiche 2187526"
   ]
  },
  {
   "cell_type": "markdown",
   "id": "987d78ef",
   "metadata": {},
   "source": [
    "# 4. Créer un DataFrame à partir de différentes sources"
   ]
  },
  {
   "attachments": {},
   "cell_type": "markdown",
   "id": "775909a0",
   "metadata": {},
   "source": [
    "## À partir d'une liste de listes\n",
    ">Ce code crée un DataFrame avec trois lignes et trois colonnes, à partir d’une liste de listes. On spécifie les index et les colonnes avec les paramètres index et columns. Le résultat affiché est :"
   ]
  },
  {
   "cell_type": "code",
   "execution_count": 2,
   "id": "e1912b06",
   "metadata": {
    "scrolled": true
   },
   "outputs": [
    {
     "name": "stdout",
     "output_type": "stream",
     "text": [
      "   x  y  z\n",
      "a  1  2  3\n",
      "b  4  5  6\n",
      "c  7  8  9\n"
     ]
    }
   ],
   "source": [
    "data = [[1, 2, 3], [4, 5, 6], [7, 8, 9]]\n",
    "df = pd.DataFrame(data, index=['a', 'b', 'c'], columns=['x', 'y', 'z'])\n",
    "print(df)"
   ]
  },
  {
   "cell_type": "markdown",
   "id": "b6c44689",
   "metadata": {},
   "source": [
    "## À partir d’un dictionnaire de listes :\n",
    "> Ce code crée un DataFrame avec trois lignes et trois colonnes, à partir d’un dictionnaire de listes. Les clés du dictionnaire deviennent les noms des colonnes, et les valeurs du dictionnaire deviennent les données des colonnes. On spécifie les index avec le paramètre index. Le résultat affiché est le même que le précédent."
   ]
  },
  {
   "cell_type": "code",
   "execution_count": 4,
   "id": "26455d30",
   "metadata": {},
   "outputs": [
    {
     "name": "stdout",
     "output_type": "stream",
     "text": [
      "   x  y  z\n",
      "a  1  2  3\n",
      "b  4  5  6\n",
      "c  7  8  9\n"
     ]
    }
   ],
   "source": [
    "import pandas as pd\n",
    "data = {'x': [1, 4, 7], 'y': [2, 5, 8], 'z': [3, 6, 9]}\n",
    "df = pd.DataFrame(data, index=['a', 'b', 'c'])\n",
    "print(df)"
   ]
  },
  {
   "cell_type": "markdown",
   "id": "a63a07e0",
   "metadata": {},
   "source": [
    "## À partir d’un array NumPy :\n",
    ">Ce code crée un DataFrame avec trois lignes et trois colonnes, à partir d’un array NumPy. On spécifie les index et les colonnes avec les paramètres index et columns. Le résultat affiché est le même que les précédents."
   ]
  },
  {
   "cell_type": "code",
   "execution_count": 5,
   "id": "12220706",
   "metadata": {},
   "outputs": [
    {
     "name": "stdout",
     "output_type": "stream",
     "text": [
      "   x  y  z\n",
      "a  1  2  3\n",
      "b  4  5  6\n",
      "c  7  8  9\n"
     ]
    }
   ],
   "source": [
    "import pandas as pd\n",
    "import numpy as np\n",
    "data = np.array([[1, 2, 3], [4, 5, 6], [7, 8, 9]])\n",
    "df = pd.DataFrame(data, index=['a', 'b', 'c'], columns=['x', 'y', 'z'])\n",
    "print(df)"
   ]
  },
  {
   "cell_type": "markdown",
   "id": "01725d85",
   "metadata": {},
   "source": [
    "## creation des Fichiers"
   ]
  },
  {
   "cell_type": "code",
   "execution_count": 8,
   "id": "bfd2e691",
   "metadata": {},
   "outputs": [],
   "source": [
    "import csv\n",
    "import json\n",
    "import xml.etree.ElementTree as ET\n",
    "import sqlite3\n",
    "\n",
    "# Exemple de données pour les PC\n",
    "ensemble_de_pc = [\n",
    "    {\"id\": 1, \"nom\": \"PC1\", \"marque\": \"Dell\", \"ram\": 8, \"processeur\": \"Intel i5\"},\n",
    "    {\"id\": 2, \"nom\": \"PC2\", \"marque\": \"HP\", \"ram\": 16, \"processeur\": \"AMD Ryzen 7\"},\n",
    "    # Ajoutez d'autres PC au besoin\n",
    "]\n",
    "\n",
    "# Générer le fichier CSV\n",
    "with open('pc.csv', 'w', newline='') as csvfile:\n",
    "    fieldnames = ensemble_de_pc[0].keys()\n",
    "    writer = csv.DictWriter(csvfile, fieldnames=fieldnames)\n",
    "    \n",
    "    writer.writeheader()\n",
    "    for pc in ensemble_de_pc:\n",
    "        writer.writerow(pc)\n",
    "\n",
    "# Générer le fichier JSON\n",
    "with open('pc.json', 'w') as jsonfile:\n",
    "    json.dump(ensemble_de_pc, jsonfile, indent=2)\n",
    "\n",
    "# Générer le fichier XML\n",
    "root = ET.Element(\"pcs\")\n",
    "for pc in ensemble_de_pc:\n",
    "    pc_element = ET.SubElement(root, \"pc\")\n",
    "    for key, value in pc.items():\n",
    "        ET.SubElement(pc_element, key).text = str(value)\n",
    "\n",
    "tree = ET.ElementTree(root)\n",
    "tree.write('pc.xml')\n",
    "\n",
    "# Générer le fichier SQLite (fichier .db)\n",
    "conn = sqlite3.connect('pc.db')\n",
    "cursor = conn.cursor()\n",
    "\n",
    "cursor.execute('''\n",
    "    CREATE TABLE PC (\n",
    "        id INTEGER PRIMARY KEY,\n",
    "        nom TEXT,\n",
    "        marque TEXT,\n",
    "        ram INTEGER,\n",
    "        processeur TEXT\n",
    "    )\n",
    "''')\n",
    "\n",
    "for pc in ensemble_de_pc:\n",
    "    cursor.execute('''\n",
    "        INSERT INTO PC (nom, marque, ram, processeur)\n",
    "        VALUES (?, ?, ?, ?)\n",
    "    ''', (pc['nom'], pc['marque'], pc['ram'], pc['processeur']))\n",
    "\n",
    "conn.commit()\n",
    "conn.close()"
   ]
  },
  {
   "cell_type": "markdown",
   "id": "f1b13a5b",
   "metadata": {},
   "source": [
    "## À partir d’un fichier CSV :\n",
    "> Ce code crée un DataFrame à partir d’un fichier CSV, qui est un format courant pour stocker des données tabulaires. Le fichier CSV doit avoir une ligne d’en-tête avec les noms des colonnes, et des lignes de données séparées par des virgules. Par exemple, le fichier data.csv pourrait contenir "
   ]
  },
  {
   "cell_type": "code",
   "execution_count": 9,
   "id": "1cee6a36",
   "metadata": {},
   "outputs": [
    {
     "name": "stdout",
     "output_type": "stream",
     "text": [
      "   id  nom marque  ram   processeur\n",
      "0   1  PC1   Dell    8     Intel i5\n",
      "1   2  PC2     HP   16  AMD Ryzen 7\n"
     ]
    }
   ],
   "source": [
    "import pandas as pd\n",
    "df = pd.read_csv('pc.csv')\n",
    "print(df)"
   ]
  },
  {
   "cell_type": "markdown",
   "id": "1407b2d8",
   "metadata": {},
   "source": [
    "## À partir d’un fichier JSON :\n",
    ">Ce code crée un DataFrame à partir d’un fichier JSON, qui est un format courant pour stocker des données structurées. Le fichier JSON doit avoir un objet avec des paires clé-valeur, où les clés sont les noms des colonnes, et les valeurs sont des listes de données."
   ]
  },
  {
   "cell_type": "code",
   "execution_count": 11,
   "id": "3df8f254",
   "metadata": {},
   "outputs": [
    {
     "name": "stdout",
     "output_type": "stream",
     "text": [
      "   id  nom marque  ram   processeur\n",
      "0   1  PC1   Dell    8     Intel i5\n",
      "1   2  PC2     HP   16  AMD Ryzen 7\n"
     ]
    }
   ],
   "source": [
    "import pandas as pd\n",
    "df = pd.read_json('pc.json')\n",
    "print(df)"
   ]
  },
  {
   "cell_type": "markdown",
   "id": "cfcd8f97",
   "metadata": {},
   "source": [
    "## À partir d’une base de données :\n",
    ">Ce code crée un DataFrame à partir d’une base de données SQLite, qui est un système de gestion de base de données relationnelle. On utilise le module sqlite3 pour se connecter à la base de données, et la méthode pd.read_sql() pour exécuter une requête SQL et renvoyer le résultat sous forme de DataFrame."
   ]
  },
  {
   "cell_type": "code",
   "execution_count": 15,
   "id": "a4b706e5",
   "metadata": {},
   "outputs": [
    {
     "name": "stdout",
     "output_type": "stream",
     "text": [
      "   id  nom marque  ram   processeur\n",
      "0   1  PC1   Dell    8     Intel i5\n",
      "1   2  PC2     HP   16  AMD Ryzen 7\n"
     ]
    }
   ],
   "source": [
    "import pandas as pd\n",
    "import sqlite3\n",
    "conn = sqlite3.connect('pc.db')\n",
    "df = pd.read_sql('SELECT * FROM pc', conn)\n",
    "print(df)"
   ]
  },
  {
   "attachments": {},
   "cell_type": "markdown",
   "id": "c663ac4a",
   "metadata": {},
   "source": [
    "# 4. Créer un DataFrame à partir de différentes sources"
   ]
  },
  {
   "cell_type": "code",
   "execution_count": 16,
   "id": "dcda3685",
   "metadata": {},
   "outputs": [
    {
     "name": "stdout",
     "output_type": "stream",
     "text": [
      "           population   area\n",
      "Paris         2187526  105.4\n",
      "Marseille      863310  240.6\n",
      "Lyon           516092   47.9\n",
      "Toulouse       479553  118.3\n",
      "Nice           340017   71.9\n"
     ]
    }
   ],
   "source": [
    "#DATA\n",
    "population_dict = {'Paris': 2187526, 'Marseille': 863310, 'Lyon': 516092, 'Toulouse': 479553, 'Nice': 340017}\n",
    "\n",
    "population = pd.Series(population_dict)\n",
    "\n",
    "area_dict = {'Paris': 105.4, 'Marseille': 240.6, 'Lyon': 47.9, 'Toulouse': 118.3, 'Nice': 71.9}\n",
    "\n",
    "area = pd.Series(area_dict)\n",
    "\n",
    "df = pd.DataFrame({'population': population, 'area': area})\n",
    "\n",
    "print(df)"
   ]
  },
  {
   "attachments": {},
   "cell_type": "markdown",
   "id": "b35f9335",
   "metadata": {},
   "source": [
    "## 4-1- Accéder a des colonnes et des lignes\n",
    "\n",
    "### Accéder à une colonne:"
   ]
  },
  {
   "cell_type": "code",
   "execution_count": 17,
   "id": "fff409dc",
   "metadata": {
    "scrolled": true
   },
   "outputs": [
    {
     "data": {
      "text/plain": [
       "Paris        2187526\n",
       "Marseille     863310\n",
       "Lyon          516092\n",
       "Toulouse      479553\n",
       "Nice          340017\n",
       "Name: population, dtype: int64"
      ]
     },
     "execution_count": 17,
     "metadata": {},
     "output_type": "execute_result"
    }
   ],
   "source": [
    "df['population']  # ou df.population"
   ]
  },
  {
   "cell_type": "markdown",
   "id": "9cdbf1b4",
   "metadata": {},
   "source": [
    "### Accéder à plusieurs colonnes:"
   ]
  },
  {
   "cell_type": "code",
   "execution_count": 18,
   "id": "410c5264",
   "metadata": {},
   "outputs": [
    {
     "data": {
      "text/html": [
       "<div>\n",
       "<style scoped>\n",
       "    .dataframe tbody tr th:only-of-type {\n",
       "        vertical-align: middle;\n",
       "    }\n",
       "\n",
       "    .dataframe tbody tr th {\n",
       "        vertical-align: top;\n",
       "    }\n",
       "\n",
       "    .dataframe thead th {\n",
       "        text-align: right;\n",
       "    }\n",
       "</style>\n",
       "<table border=\"1\" class=\"dataframe\">\n",
       "  <thead>\n",
       "    <tr style=\"text-align: right;\">\n",
       "      <th></th>\n",
       "      <th>population</th>\n",
       "      <th>area</th>\n",
       "    </tr>\n",
       "  </thead>\n",
       "  <tbody>\n",
       "    <tr>\n",
       "      <th>Paris</th>\n",
       "      <td>2187526</td>\n",
       "      <td>105.4</td>\n",
       "    </tr>\n",
       "    <tr>\n",
       "      <th>Marseille</th>\n",
       "      <td>863310</td>\n",
       "      <td>240.6</td>\n",
       "    </tr>\n",
       "    <tr>\n",
       "      <th>Lyon</th>\n",
       "      <td>516092</td>\n",
       "      <td>47.9</td>\n",
       "    </tr>\n",
       "    <tr>\n",
       "      <th>Toulouse</th>\n",
       "      <td>479553</td>\n",
       "      <td>118.3</td>\n",
       "    </tr>\n",
       "    <tr>\n",
       "      <th>Nice</th>\n",
       "      <td>340017</td>\n",
       "      <td>71.9</td>\n",
       "    </tr>\n",
       "  </tbody>\n",
       "</table>\n",
       "</div>"
      ],
      "text/plain": [
       "           population   area\n",
       "Paris         2187526  105.4\n",
       "Marseille      863310  240.6\n",
       "Lyon           516092   47.9\n",
       "Toulouse       479553  118.3\n",
       "Nice           340017   71.9"
      ]
     },
     "execution_count": 18,
     "metadata": {},
     "output_type": "execute_result"
    }
   ],
   "source": [
    "df[['population', 'area']]"
   ]
  },
  {
   "cell_type": "markdown",
   "id": "8f3b6ef0",
   "metadata": {},
   "source": [
    "### Accéder à une ligne:"
   ]
  },
  {
   "cell_type": "code",
   "execution_count": 19,
   "id": "581012f8",
   "metadata": {},
   "outputs": [
    {
     "data": {
      "text/plain": [
       "population    2187526.0\n",
       "area              105.4\n",
       "Name: Paris, dtype: float64"
      ]
     },
     "execution_count": 19,
     "metadata": {},
     "output_type": "execute_result"
    }
   ],
   "source": [
    "df.loc['Paris']"
   ]
  },
  {
   "cell_type": "markdown",
   "id": "5acb5b01",
   "metadata": {},
   "source": [
    "### Accéder à plusieurs lignes:"
   ]
  },
  {
   "cell_type": "code",
   "execution_count": 20,
   "id": "eeb76d7f",
   "metadata": {},
   "outputs": [
    {
     "data": {
      "text/html": [
       "<div>\n",
       "<style scoped>\n",
       "    .dataframe tbody tr th:only-of-type {\n",
       "        vertical-align: middle;\n",
       "    }\n",
       "\n",
       "    .dataframe tbody tr th {\n",
       "        vertical-align: top;\n",
       "    }\n",
       "\n",
       "    .dataframe thead th {\n",
       "        text-align: right;\n",
       "    }\n",
       "</style>\n",
       "<table border=\"1\" class=\"dataframe\">\n",
       "  <thead>\n",
       "    <tr style=\"text-align: right;\">\n",
       "      <th></th>\n",
       "      <th>population</th>\n",
       "      <th>area</th>\n",
       "    </tr>\n",
       "  </thead>\n",
       "  <tbody>\n",
       "    <tr>\n",
       "      <th>Paris</th>\n",
       "      <td>2187526</td>\n",
       "      <td>105.4</td>\n",
       "    </tr>\n",
       "    <tr>\n",
       "      <th>Marseille</th>\n",
       "      <td>863310</td>\n",
       "      <td>240.6</td>\n",
       "    </tr>\n",
       "  </tbody>\n",
       "</table>\n",
       "</div>"
      ],
      "text/plain": [
       "           population   area\n",
       "Paris         2187526  105.4\n",
       "Marseille      863310  240.6"
      ]
     },
     "execution_count": 20,
     "metadata": {},
     "output_type": "execute_result"
    }
   ],
   "source": [
    "df.loc[['Paris', 'Marseille']]\n"
   ]
  },
  {
   "cell_type": "markdown",
   "id": "33e28d40",
   "metadata": {},
   "source": [
    "### Accéder à un élément spécifique:"
   ]
  },
  {
   "cell_type": "code",
   "execution_count": 21,
   "id": "f541cdfd",
   "metadata": {},
   "outputs": [
    {
     "data": {
      "text/plain": [
       "2187526"
      ]
     },
     "execution_count": 21,
     "metadata": {},
     "output_type": "execute_result"
    }
   ],
   "source": [
    "df.at['Paris', 'population']"
   ]
  },
  {
   "cell_type": "markdown",
   "id": "37f1c020",
   "metadata": {},
   "source": []
  },
  {
   "cell_type": "code",
   "execution_count": null,
   "id": "ef1ffde8",
   "metadata": {},
   "outputs": [],
   "source": []
  },
  {
   "cell_type": "markdown",
   "id": "9794b695",
   "metadata": {},
   "source": []
  },
  {
   "cell_type": "code",
   "execution_count": null,
   "id": "47c16e52",
   "metadata": {},
   "outputs": [],
   "source": []
  }
 ],
 "metadata": {
  "kernelspec": {
   "display_name": "Python 3 (ipykernel)",
   "language": "python",
   "name": "python3"
  },
  "language_info": {
   "codemirror_mode": {
    "name": "ipython",
    "version": 3
   },
   "file_extension": ".py",
   "mimetype": "text/x-python",
   "name": "python",
   "nbconvert_exporter": "python",
   "pygments_lexer": "ipython3",
   "version": "3.11.5"
  }
 },
 "nbformat": 4,
 "nbformat_minor": 5
}
